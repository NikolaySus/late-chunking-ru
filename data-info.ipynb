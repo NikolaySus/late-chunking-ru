{
 "cells": [
  {
   "cell_type": "markdown",
   "id": "e1173893c4f0ea56",
   "metadata": {
    "collapsed": false,
    "jupyter": {
     "outputs_hidden": false
    }
   },
   "source": [
    "# На каких данных проводится сравнение\n",
    "В этом ноутбуке рассматривается датасет https://huggingface.co/datasets/ai-forever/ria-news-retrieval"
   ]
  },
  {
   "cell_type": "code",
   "execution_count": 2,
   "id": "04cd1695-b616-4e94-9fa1-e8f080418dd4",
   "metadata": {},
   "outputs": [],
   "source": [
    "import pandas as pd\n",
    "import numpy as np\n",
    "import os"
   ]
  },
  {
   "cell_type": "code",
   "execution_count": 3,
   "id": "1b4dd33e-fa2c-49d7-9831-dd1ae37e6e52",
   "metadata": {},
   "outputs": [],
   "source": [
    "basePath = os.path.abspath('')\n",
    "queries = pd.read_json(basePath + \"\\\\ai-forever-ria-news-retrieval\\\\queries.jsonl\", lines=True)\n",
    "corpus = pd.read_json(basePath + \"\\\\ai-forever-ria-news-retrieval\\\\corpus.jsonl\", lines=True)\n",
    "test = pd.read_json(basePath + \"\\\\ai-forever-ria-news-retrieval\\\\test.jsonl\", lines=True)\n",
    "del corpus['title']\n",
    "del test['score']"
   ]
  },
  {
   "cell_type": "markdown",
   "id": "43e53f88-0d64-458c-941c-cf7c732ad4d3",
   "metadata": {},
   "source": [
    "### Запросы"
   ]
  },
  {
   "cell_type": "code",
   "execution_count": 4,
   "id": "141c10e8-92f0-4d6e-be10-66f3076fe437",
   "metadata": {},
   "outputs": [
    {
     "data": {
      "text/html": [
       "<div>\n",
       "<style scoped>\n",
       "    .dataframe tbody tr th:only-of-type {\n",
       "        vertical-align: middle;\n",
       "    }\n",
       "\n",
       "    .dataframe tbody tr th {\n",
       "        vertical-align: top;\n",
       "    }\n",
       "\n",
       "    .dataframe thead th {\n",
       "        text-align: right;\n",
       "    }\n",
       "</style>\n",
       "<table border=\"1\" class=\"dataframe\">\n",
       "  <thead>\n",
       "    <tr style=\"text-align: right;\">\n",
       "      <th></th>\n",
       "      <th>_id</th>\n",
       "      <th>text</th>\n",
       "    </tr>\n",
       "  </thead>\n",
       "  <tbody>\n",
       "    <tr>\n",
       "      <th>0</th>\n",
       "      <td>0</td>\n",
       "      <td>сми: планируется создание в рф несетевых магаз...</td>\n",
       "    </tr>\n",
       "    <tr>\n",
       "      <th>1</th>\n",
       "      <td>1</td>\n",
       "      <td>барулин сожалеет, что набокова нет на хоккейно...</td>\n",
       "    </tr>\n",
       "    <tr>\n",
       "      <th>2</th>\n",
       "      <td>2</td>\n",
       "      <td>британские куры забили насмерть лису, проникшу...</td>\n",
       "    </tr>\n",
       "    <tr>\n",
       "      <th>3</th>\n",
       "      <td>3</td>\n",
       "      <td>путин: сотрудники овд получат выплаты на приоб...</td>\n",
       "    </tr>\n",
       "    <tr>\n",
       "      <th>4</th>\n",
       "      <td>4</td>\n",
       "      <td>футболист \"зенита\" данни пропустит стыковые иг...</td>\n",
       "    </tr>\n",
       "    <tr>\n",
       "      <th>...</th>\n",
       "      <td>...</td>\n",
       "      <td>...</td>\n",
       "    </tr>\n",
       "    <tr>\n",
       "      <th>9995</th>\n",
       "      <td>9995</td>\n",
       "      <td>фьючерсы на индексы сша растут в преддверии ро...</td>\n",
       "    </tr>\n",
       "    <tr>\n",
       "      <th>9996</th>\n",
       "      <td>9996</td>\n",
       "      <td>ламберто заньер. биографическая справка</td>\n",
       "    </tr>\n",
       "    <tr>\n",
       "      <th>9997</th>\n",
       "      <td>9997</td>\n",
       "      <td>инспектор гибдд новосибирска хотел купить инфо...</td>\n",
       "    </tr>\n",
       "    <tr>\n",
       "      <th>9998</th>\n",
       "      <td>9998</td>\n",
       "      <td>логистический комплекс на 600 тыс кв м могут п...</td>\n",
       "    </tr>\n",
       "    <tr>\n",
       "      <th>9999</th>\n",
       "      <td>9999</td>\n",
       "      <td>житель удмуртии, два часа державший студентку ...</td>\n",
       "    </tr>\n",
       "  </tbody>\n",
       "</table>\n",
       "<p>10000 rows × 2 columns</p>\n",
       "</div>"
      ],
      "text/plain": [
       "       _id                                               text\n",
       "0        0  сми: планируется создание в рф несетевых магаз...\n",
       "1        1  барулин сожалеет, что набокова нет на хоккейно...\n",
       "2        2  британские куры забили насмерть лису, проникшу...\n",
       "3        3  путин: сотрудники овд получат выплаты на приоб...\n",
       "4        4  футболист \"зенита\" данни пропустит стыковые иг...\n",
       "...    ...                                                ...\n",
       "9995  9995  фьючерсы на индексы сша растут в преддверии ро...\n",
       "9996  9996            ламберто заньер. биографическая справка\n",
       "9997  9997  инспектор гибдд новосибирска хотел купить инфо...\n",
       "9998  9998  логистический комплекс на 600 тыс кв м могут п...\n",
       "9999  9999  житель удмуртии, два часа державший студентку ...\n",
       "\n",
       "[10000 rows x 2 columns]"
      ]
     },
     "execution_count": 4,
     "metadata": {},
     "output_type": "execute_result"
    }
   ],
   "source": [
    "queries"
   ]
  },
  {
   "cell_type": "markdown",
   "id": "53589443-1e69-41d9-ba8d-5a83ceb8d0da",
   "metadata": {},
   "source": [
    "### Тексты"
   ]
  },
  {
   "cell_type": "code",
   "execution_count": 5,
   "id": "d0bc5a2e-e9ed-438a-b52a-4d45d01b54cf",
   "metadata": {},
   "outputs": [
    {
     "data": {
      "text/html": [
       "<div>\n",
       "<style scoped>\n",
       "    .dataframe tbody tr th:only-of-type {\n",
       "        vertical-align: middle;\n",
       "    }\n",
       "\n",
       "    .dataframe tbody tr th {\n",
       "        vertical-align: top;\n",
       "    }\n",
       "\n",
       "    .dataframe thead th {\n",
       "        text-align: right;\n",
       "    }\n",
       "</style>\n",
       "<table border=\"1\" class=\"dataframe\">\n",
       "  <thead>\n",
       "    <tr style=\"text-align: right;\">\n",
       "      <th></th>\n",
       "      <th>_id</th>\n",
       "      <th>text</th>\n",
       "    </tr>\n",
       "  </thead>\n",
       "  <tbody>\n",
       "    <tr>\n",
       "      <th>0</th>\n",
       "      <td>0</td>\n",
       "      <td>премьер-министр украины, кандидат в президенты...</td>\n",
       "    </tr>\n",
       "    <tr>\n",
       "      <th>1</th>\n",
       "      <td>1</td>\n",
       "      <td>группа вооруженных людей в ночь с субботы на ...</td>\n",
       "    </tr>\n",
       "    <tr>\n",
       "      <th>2</th>\n",
       "      <td>2</td>\n",
       "      <td>немецкий теннисист михаэль беррер стал победи...</td>\n",
       "    </tr>\n",
       "    <tr>\n",
       "      <th>3</th>\n",
       "      <td>3</td>\n",
       "      <td>генеральный секретарь оон пан ги мун заявил в...</td>\n",
       "    </tr>\n",
       "    <tr>\n",
       "      <th>4</th>\n",
       "      <td>4</td>\n",
       "      <td>леверкузенский \"байер\" со счетом 3:1 на свое...</td>\n",
       "    </tr>\n",
       "    <tr>\n",
       "      <th>...</th>\n",
       "      <td>...</td>\n",
       "      <td>...</td>\n",
       "    </tr>\n",
       "    <tr>\n",
       "      <th>704339</th>\n",
       "      <td>704339</td>\n",
       "      <td>главными стратегическими учениями для армии ро...</td>\n",
       "    </tr>\n",
       "    <tr>\n",
       "      <th>704340</th>\n",
       "      <td>704340</td>\n",
       "      <td>ракетные войска стратегического назначения (р...</td>\n",
       "    </tr>\n",
       "    <tr>\n",
       "      <th>704341</th>\n",
       "      <td>704341</td>\n",
       "      <td>сухопутные войска россии в 2015 году примут у...</td>\n",
       "    </tr>\n",
       "    <tr>\n",
       "      <th>704342</th>\n",
       "      <td>704342</td>\n",
       "      <td>полиция мексиканского города чилапа в штате ге...</td>\n",
       "    </tr>\n",
       "    <tr>\n",
       "      <th>704343</th>\n",
       "      <td>704343</td>\n",
       "      <td>крупный пожар начался в одном из цехов в севе...</td>\n",
       "    </tr>\n",
       "  </tbody>\n",
       "</table>\n",
       "<p>704344 rows × 2 columns</p>\n",
       "</div>"
      ],
      "text/plain": [
       "           _id                                               text\n",
       "0            0  премьер-министр украины, кандидат в президенты...\n",
       "1            1  группа вооруженных людей в ночь с субботы на ...\n",
       "2            2  немецкий теннисист михаэль беррер стал победи...\n",
       "3            3  генеральный секретарь оон пан ги мун заявил в...\n",
       "4            4  леверкузенский \"байер\" со счетом 3:1 на свое...\n",
       "...        ...                                                ...\n",
       "704339  704339  главными стратегическими учениями для армии ро...\n",
       "704340  704340  ракетные войска стратегического назначения (р...\n",
       "704341  704341  сухопутные войска россии в 2015 году примут у...\n",
       "704342  704342  полиция мексиканского города чилапа в штате ге...\n",
       "704343  704343  крупный пожар начался в одном из цехов в севе...\n",
       "\n",
       "[704344 rows x 2 columns]"
      ]
     },
     "execution_count": 5,
     "metadata": {},
     "output_type": "execute_result"
    }
   ],
   "source": [
    "corpus"
   ]
  },
  {
   "cell_type": "markdown",
   "id": "13f9ddbb-a9f0-4145-aca0-0740c490a74b",
   "metadata": {},
   "source": [
    "### Релевантные пары запрос-текст"
   ]
  },
  {
   "cell_type": "code",
   "execution_count": 6,
   "id": "e86e6636-15fe-42e7-8b89-91578098fa49",
   "metadata": {},
   "outputs": [
    {
     "data": {
      "text/html": [
       "<div>\n",
       "<style scoped>\n",
       "    .dataframe tbody tr th:only-of-type {\n",
       "        vertical-align: middle;\n",
       "    }\n",
       "\n",
       "    .dataframe tbody tr th {\n",
       "        vertical-align: top;\n",
       "    }\n",
       "\n",
       "    .dataframe thead th {\n",
       "        text-align: right;\n",
       "    }\n",
       "</style>\n",
       "<table border=\"1\" class=\"dataframe\">\n",
       "  <thead>\n",
       "    <tr style=\"text-align: right;\">\n",
       "      <th></th>\n",
       "      <th>query-id</th>\n",
       "      <th>corpus-id</th>\n",
       "    </tr>\n",
       "  </thead>\n",
       "  <tbody>\n",
       "    <tr>\n",
       "      <th>0</th>\n",
       "      <td>0</td>\n",
       "      <td>670487</td>\n",
       "    </tr>\n",
       "    <tr>\n",
       "      <th>1</th>\n",
       "      <td>1</td>\n",
       "      <td>116739</td>\n",
       "    </tr>\n",
       "    <tr>\n",
       "      <th>2</th>\n",
       "      <td>2</td>\n",
       "      <td>26225</td>\n",
       "    </tr>\n",
       "    <tr>\n",
       "      <th>3</th>\n",
       "      <td>3</td>\n",
       "      <td>288389</td>\n",
       "    </tr>\n",
       "    <tr>\n",
       "      <th>4</th>\n",
       "      <td>4</td>\n",
       "      <td>256787</td>\n",
       "    </tr>\n",
       "    <tr>\n",
       "      <th>...</th>\n",
       "      <td>...</td>\n",
       "      <td>...</td>\n",
       "    </tr>\n",
       "    <tr>\n",
       "      <th>9995</th>\n",
       "      <td>9995</td>\n",
       "      <td>693013</td>\n",
       "    </tr>\n",
       "    <tr>\n",
       "      <th>9996</th>\n",
       "      <td>9996</td>\n",
       "      <td>179683</td>\n",
       "    </tr>\n",
       "    <tr>\n",
       "      <th>9997</th>\n",
       "      <td>9997</td>\n",
       "      <td>552522</td>\n",
       "    </tr>\n",
       "    <tr>\n",
       "      <th>9998</th>\n",
       "      <td>9998</td>\n",
       "      <td>653476</td>\n",
       "    </tr>\n",
       "    <tr>\n",
       "      <th>9999</th>\n",
       "      <td>9999</td>\n",
       "      <td>454786</td>\n",
       "    </tr>\n",
       "  </tbody>\n",
       "</table>\n",
       "<p>10000 rows × 2 columns</p>\n",
       "</div>"
      ],
      "text/plain": [
       "      query-id  corpus-id\n",
       "0            0     670487\n",
       "1            1     116739\n",
       "2            2      26225\n",
       "3            3     288389\n",
       "4            4     256787\n",
       "...        ...        ...\n",
       "9995      9995     693013\n",
       "9996      9996     179683\n",
       "9997      9997     552522\n",
       "9998      9998     653476\n",
       "9999      9999     454786\n",
       "\n",
       "[10000 rows x 2 columns]"
      ]
     },
     "execution_count": 6,
     "metadata": {},
     "output_type": "execute_result"
    }
   ],
   "source": [
    "test"
   ]
  },
  {
   "cell_type": "markdown",
   "id": "46efaded-9f3c-410b-b823-630f0c20cc7a",
   "metadata": {},
   "source": [
    "### Проблемное место датасета"
   ]
  },
  {
   "cell_type": "code",
   "execution_count": 7,
   "id": "a6c69626-9f6a-459f-b652-f3ae928ec79c",
   "metadata": {},
   "outputs": [
    {
     "data": {
      "text/html": [
       "<div>\n",
       "<style scoped>\n",
       "    .dataframe tbody tr th:only-of-type {\n",
       "        vertical-align: middle;\n",
       "    }\n",
       "\n",
       "    .dataframe tbody tr th {\n",
       "        vertical-align: top;\n",
       "    }\n",
       "\n",
       "    .dataframe thead th {\n",
       "        text-align: right;\n",
       "    }\n",
       "</style>\n",
       "<table border=\"1\" class=\"dataframe\">\n",
       "  <thead>\n",
       "    <tr style=\"text-align: right;\">\n",
       "      <th></th>\n",
       "      <th>_id</th>\n",
       "      <th>text</th>\n",
       "    </tr>\n",
       "  </thead>\n",
       "  <tbody>\n",
       "    <tr>\n",
       "      <th>3840</th>\n",
       "      <td>3840</td>\n",
       "      <td></td>\n",
       "    </tr>\n",
       "  </tbody>\n",
       "</table>\n",
       "</div>"
      ],
      "text/plain": [
       "       _id text\n",
       "3840  3840     "
      ]
     },
     "execution_count": 7,
     "metadata": {},
     "output_type": "execute_result"
    }
   ],
   "source": [
    "corpus[corpus['text'] == \"\"]"
   ]
  },
  {
   "cell_type": "markdown",
   "id": "1ba38f7b-a13a-4d75-a081-02763ad3f64a",
   "metadata": {},
   "source": [
    "### Максимальная и средняя длина текста в символах"
   ]
  },
  {
   "cell_type": "code",
   "execution_count": 8,
   "id": "d799123e-07bb-4217-bb49-dd8e6f454e37",
   "metadata": {},
   "outputs": [
    {
     "data": {
      "text/plain": [
       "2000"
      ]
     },
     "execution_count": 8,
     "metadata": {},
     "output_type": "execute_result"
    }
   ],
   "source": [
    "corpus.text.map(len).max()"
   ]
  },
  {
   "cell_type": "code",
   "execution_count": 9,
   "id": "4c540a34-6cf4-49c8-9dce-f58669450dff",
   "metadata": {},
   "outputs": [
    {
     "data": {
      "text/plain": [
       "1165.6429557148213"
      ]
     },
     "execution_count": 9,
     "metadata": {},
     "output_type": "execute_result"
    }
   ],
   "source": [
    "corpus.text.map(len).mean()"
   ]
  },
  {
   "cell_type": "code",
   "execution_count": null,
   "id": "f540ce3b-8623-43c6-b019-e091cd0f3b8a",
   "metadata": {},
   "outputs": [],
   "source": []
  }
 ],
 "metadata": {
  "kernelspec": {
   "display_name": "Python 3 (ipykernel)",
   "language": "python",
   "name": "python3"
  },
  "language_info": {
   "codemirror_mode": {
    "name": "ipython",
    "version": 3
   },
   "file_extension": ".py",
   "mimetype": "text/x-python",
   "name": "python",
   "nbconvert_exporter": "python",
   "pygments_lexer": "ipython3",
   "version": "3.12.7"
  }
 },
 "nbformat": 4,
 "nbformat_minor": 5
}

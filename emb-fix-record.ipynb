{
 "cells": [
  {
   "cell_type": "markdown",
   "id": "e1173893c4f0ea56",
   "metadata": {
    "collapsed": false,
    "jupyter": {
     "outputs_hidden": false
    }
   },
   "source": [
    "# Исправление первого из 22-х кусков данных\n",
    "Запись №3840 с пустым текстом приводит к смещению индекса в chunks_embedded_0"
   ]
  },
  {
   "cell_type": "code",
   "execution_count": null,
   "id": "04cd1695-b616-4e94-9fa1-e8f080418dd4",
   "metadata": {},
   "outputs": [],
   "source": [
    "import pandas as pd\n",
    "import numpy as np\n",
    "import os"
   ]
  },
  {
   "cell_type": "code",
   "execution_count": null,
   "id": "1b4dd33e-fa2c-49d7-9831-dd1ae37e6e52",
   "metadata": {},
   "outputs": [],
   "source": [
    "basePath = os.path.abspath('')\n",
    "basePath"
   ]
  },
  {
   "cell_type": "code",
   "execution_count": null,
   "id": "f540ce3b-8623-43c6-b019-e091cd0f3b8a",
   "metadata": {},
   "outputs": [],
   "source": [
    "chunks_embedded_0 = pd.read_pickle(basePath + \"\\\\ai-forever-ria-news-retrieval\\\\chunks_embedded_0.pkl\")\n",
    "chunks_embedded_0.shape"
   ]
  },
  {
   "cell_type": "code",
   "execution_count": null,
   "id": "c1d0b9fe-2b18-487f-b138-4c6beb8cb6ec",
   "metadata": {},
   "outputs": [],
   "source": [
    "chunks_embedded_0.iloc[[-1]]"
   ]
  },
  {
   "cell_type": "code",
   "execution_count": null,
   "id": "f35f6386-1ac8-4c75-999c-eb6282189c65",
   "metadata": {},
   "outputs": [],
   "source": [
    "chunks_embedded_0 = chunks_embedded_n.reset_index(drop=True)"
   ]
  },
  {
   "cell_type": "code",
   "execution_count": null,
   "id": "ce6f3978-0b76-4b6c-ad3d-6acdfc7430ba",
   "metadata": {},
   "outputs": [],
   "source": [
    "chunks_embedded_0.iloc[[-1]]"
   ]
  },
  {
   "cell_type": "code",
   "execution_count": null,
   "id": "125581a3-b8a1-4cb6-b71b-157e7a19a35e",
   "metadata": {},
   "outputs": [],
   "source": [
    "chunks_embedded_0.to_pickle(basePath + \"\\\\ai-forever-ria-news-retrieval\\\\chunks_embedded_0.pkl\")"
   ]
  },
  {
   "cell_type": "code",
   "execution_count": null,
   "id": "e63c61d2-464d-40b4-9014-f66cd9cb2692",
   "metadata": {},
   "outputs": [],
   "source": []
  }
 ],
 "metadata": {
  "kernelspec": {
   "display_name": "Python 3 (ipykernel)",
   "language": "python",
   "name": "python3"
  },
  "language_info": {
   "codemirror_mode": {
    "name": "ipython",
    "version": 3
   },
   "file_extension": ".py",
   "mimetype": "text/x-python",
   "name": "python",
   "nbconvert_exporter": "python",
   "pygments_lexer": "ipython3",
   "version": "3.12.7"
  }
 },
 "nbformat": 4,
 "nbformat_minor": 5
}

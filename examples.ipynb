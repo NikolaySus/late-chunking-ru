{
 "cells": [
  {
   "cell_type": "markdown",
   "id": "e1173893c4f0ea56",
   "metadata": {
    "collapsed": false,
    "jupyter": {
     "outputs_hidden": false
    }
   },
   "source": [
    "# Chunked Pooling\n",
    "This notebooks explains how the chunked pooling can be implemented. First you need to install the requirements: "
   ]
  },
  {
   "cell_type": "code",
   "execution_count": null,
   "id": "373374ba-f326-49db-98db-d2196488054e",
   "metadata": {},
   "outputs": [],
   "source": [
    "%pip uninstall -y torch torchvision torchaudio"
   ]
  },
  {
   "cell_type": "code",
   "execution_count": null,
   "id": "d02a920f-cde0-4035-9834-49b087aab5cc",
   "metadata": {
    "is_executing": true
   },
   "outputs": [],
   "source": [
    "%pip install -r requirements.txt"
   ]
  },
  {
   "cell_type": "markdown",
   "id": "58a8fbc1e477db48",
   "metadata": {
    "collapsed": false,
    "jupyter": {
     "outputs_hidden": false
    }
   },
   "source": [
    "Then we load a model which we want to use for the embedding. We choose `jinaai/jina-embeddings-v2-base-en` but any other model which supports mean pooling is possible. However, models with a large maximum context-length are preferred."
   ]
  },
  {
   "cell_type": "code",
   "execution_count": null,
   "id": "caa028ea-d592-44c1-9e9d-b6bccd470316",
   "metadata": {},
   "outputs": [],
   "source": [
    "from chunked_pooling import chunked_pooling, chunk_by_sentences\n",
    "from transformers import AutoModel\n",
    "from transformers import AutoTokenizer"
   ]
  },
  {
   "cell_type": "code",
   "execution_count": null,
   "id": "1380abf7acde9517",
   "metadata": {
    "collapsed": false,
    "jupyter": {
     "outputs_hidden": false
    }
   },
   "outputs": [],
   "source": [
    "# load model and tokenizer\n",
    "tokenizer = AutoTokenizer.from_pretrained('jinaai/jina-embeddings-v3', trust_remote_code=True)\n",
    "model = AutoModel.from_pretrained('jinaai/jina-embeddings-v3', trust_remote_code=True)"
   ]
  },
  {
   "cell_type": "markdown",
   "id": "2cc0c1162797ffb0",
   "metadata": {
    "collapsed": false,
    "jupyter": {
     "outputs_hidden": false
    }
   },
   "source": [
    "Now we define the text which we want to encode and split it into chunks. The `chunk_by_sentences` function also returns the span annotations. Those specify the number of tokens per chunk which is needed for the chunked pooling."
   ]
  },
  {
   "cell_type": "code",
   "execution_count": null,
   "id": "8ef392f3437ef82e",
   "metadata": {
    "collapsed": false,
    "jupyter": {
     "outputs_hidden": false
    }
   },
   "outputs": [],
   "source": [
    "input_text = \"Москва — столица России, город федерального значения, административный центр Центрального федерального округа и центр Московской области, в состав которой не входит. Мегаполис; крупнейший по численности населения город России и её субъект — 13 149 803 человека (2024), что делает Москву 22-й среди городов мира по численности населения. Центр Московской городской агломерации. Самый крупный город Европы по площади и населению.\"\n",
    "#input_text = \"Berlin is the capital and largest city of Germany, both by area and by population. Its more than 3.85 million inhabitants make it the European Union's most populous city, as measured by population within city limits. The city is also one of the states of Germany, and is the third smallest state in the country in terms of area.\"\n",
    "\n",
    "# determine chunks\n",
    "chunks, span_annotations = chunk_by_sentences(input_text, tokenizer)\n",
    "print('Chunks:\\n- \"' + '\"\\n- \"'.join(chunks) + '\"')"
   ]
  },
  {
   "cell_type": "markdown",
   "id": "9ac41fd1f0560da7",
   "metadata": {
    "collapsed": false,
    "jupyter": {
     "outputs_hidden": false
    }
   },
   "source": [
    "Now we encode the chunks with the traditional and the context-sensitive chunked pooling method:"
   ]
  },
  {
   "cell_type": "code",
   "execution_count": null,
   "id": "abe3d93b9e6609b9",
   "metadata": {
    "collapsed": false,
    "jupyter": {
     "outputs_hidden": false
    }
   },
   "outputs": [],
   "source": [
    "# chunk before\n",
    "embeddings_traditional_chunking = model.encode(chunks)\n",
    "\n",
    "# chunk afterwards (context-sensitive chunked pooling)\n",
    "inputs = tokenizer(input_text, return_tensors='pt')\n",
    "model_output = model(**inputs)\n",
    "embeddings = chunked_pooling(model_output, [span_annotations])[0]"
   ]
  },
  {
   "cell_type": "markdown",
   "id": "e84b1b9d48cb6367",
   "metadata": {
    "collapsed": false,
    "jupyter": {
     "outputs_hidden": false
    }
   },
   "source": [
    "Finally, we compare the similarity of the word \"Berlin\" with the chunks. The similarity should be higher for the context-sensitive chunked pooling method:"
   ]
  },
  {
   "cell_type": "code",
   "execution_count": null,
   "id": "da0cec59a3ece76",
   "metadata": {
    "collapsed": false,
    "jupyter": {
     "outputs_hidden": false
    }
   },
   "outputs": [],
   "source": [
    "import numpy as np\n",
    "\n",
    "cos_sim = lambda x, y: np.dot(x, y) / (np.linalg.norm(x) * np.linalg.norm(y))\n",
    "\n",
    "test_text = 'Москва'#\"Berlin\"#\n",
    "berlin_embedding = model.encode(test_text)\n",
    "\n",
    "for chunk, new_embedding, trad_embeddings in zip(chunks, embeddings, embeddings_traditional_chunking):\n",
    "    print(f'similarity_new(\"{test_text}\", \"{chunk}\"):', cos_sim(berlin_embedding, new_embedding))\n",
    "    print(f'similarity_trad(\"{test_text}\", \"{chunk}\"):', cos_sim(berlin_embedding, trad_embeddings))"
   ]
  },
  {
   "cell_type": "code",
   "execution_count": null,
   "id": "081f8fce-4909-4fb9-b6ec-0321aac53f6c",
   "metadata": {},
   "outputs": [],
   "source": [
    "for chunk, new_embedding, trad_embeddings in zip(chunks, embeddings, embeddings_traditional_chunking):\n",
    "    print(f'abs new(\"{chunk}\"):', np.linalg.norm(new_embedding))\n",
    "    print(f'abs trad(\"{chunk}\"):', np.linalg.norm(trad_embeddings))\n",
    "\n",
    "print(f'\\nabs test_text(\"{test_text}\"):', np.linalg.norm(berlin_embedding))"
   ]
  },
  {
   "cell_type": "markdown",
   "id": "1ccdd36c-74d6-4d09-8c13-73f97b88d6bc",
   "metadata": {},
   "source": [
    "# Bench"
   ]
  },
  {
   "cell_type": "code",
   "execution_count": 1,
   "id": "04cd1695-b616-4e94-9fa1-e8f080418dd4",
   "metadata": {},
   "outputs": [],
   "source": [
    "from chunked_pooling import chunked_pooling, chunk_by_sentences\n",
    "from transformers import AutoModel\n",
    "from transformers import AutoTokenizer\n",
    "import pandas as pd\n",
    "import torch\n",
    "import numpy as np\n",
    "import os"
   ]
  },
  {
   "cell_type": "code",
   "execution_count": 2,
   "id": "1b4dd33e-fa2c-49d7-9831-dd1ae37e6e52",
   "metadata": {},
   "outputs": [],
   "source": [
    "basePath = os.path.abspath('')\n",
    "queries = pd.read_json(basePath + \"\\\\ai-forever-ria-news-retrieval\\\\queries.jsonl\", lines=True)\n",
    "corpus = pd.read_json(basePath + \"\\\\ai-forever-ria-news-retrieval\\\\corpus.jsonl\", lines=True)\n",
    "test = pd.read_json(basePath + \"\\\\ai-forever-ria-news-retrieval\\\\test.jsonl\", lines=True)\n",
    "del corpus['title']\n",
    "del test['score']"
   ]
  },
  {
   "cell_type": "markdown",
   "id": "46efaded-9f3c-410b-b823-630f0c20cc7a",
   "metadata": {},
   "source": [
    "### То, что мы слишком поздно заметили"
   ]
  },
  {
   "cell_type": "code",
   "execution_count": 5,
   "id": "a6c69626-9f6a-459f-b652-f3ae928ec79c",
   "metadata": {},
   "outputs": [
    {
     "data": {
      "text/html": [
       "<div>\n",
       "<style scoped>\n",
       "    .dataframe tbody tr th:only-of-type {\n",
       "        vertical-align: middle;\n",
       "    }\n",
       "\n",
       "    .dataframe tbody tr th {\n",
       "        vertical-align: top;\n",
       "    }\n",
       "\n",
       "    .dataframe thead th {\n",
       "        text-align: right;\n",
       "    }\n",
       "</style>\n",
       "<table border=\"1\" class=\"dataframe\">\n",
       "  <thead>\n",
       "    <tr style=\"text-align: right;\">\n",
       "      <th></th>\n",
       "      <th>_id</th>\n",
       "      <th>text</th>\n",
       "    </tr>\n",
       "  </thead>\n",
       "  <tbody>\n",
       "    <tr>\n",
       "      <th>3840</th>\n",
       "      <td>3840</td>\n",
       "      <td></td>\n",
       "    </tr>\n",
       "  </tbody>\n",
       "</table>\n",
       "</div>"
      ],
      "text/plain": [
       "       _id text\n",
       "3840  3840     "
      ]
     },
     "execution_count": 5,
     "metadata": {},
     "output_type": "execute_result"
    }
   ],
   "source": [
    "corpus[corpus['text'] == \"\"]"
   ]
  },
  {
   "cell_type": "code",
   "execution_count": 3,
   "id": "b6351242-3002-4771-943d-ad1e5643c28a",
   "metadata": {},
   "outputs": [],
   "source": [
    "def do_ch_emb(calc_chunk):\n",
    "    device = torch.device(\"cuda\")\n",
    "    # load model and tokenizer\n",
    "    tokenizer = AutoTokenizer.from_pretrained('jinaai/jina-embeddings-v3', trust_remote_code=True, device_map = 'cuda')\n",
    "    model = AutoModel.from_pretrained('jinaai/jina-embeddings-v3', trust_remote_code=True, device_map = 'cuda')\n",
    "    result = pd.DataFrame({\n",
    "        \"chunk\" : [],\n",
    "        \"trad_chunk_embedding\" : [],\n",
    "        \"new_chunk_embedding\" : [],\n",
    "        \"doc_id\" : [],\n",
    "    })\n",
    "    result.astype('object')\n",
    "    last_idx = 0\n",
    "    for doc_id, doc in calc_chunk.iterrows():\n",
    "        doc_chunks, doc_span_annotations = chunk_by_sentences(doc['text'], tokenizer)\n",
    "        doc_trad_chunk_embeddings = model.encode(doc_chunks)\n",
    "        doc_inputs = tokenizer(doc['text'], return_tensors='pt')\n",
    "        doc_model_output = model(**(doc_inputs.to(device)))\n",
    "        doc_new_chunk_embeddings = chunked_pooling(doc_model_output, [doc_span_annotations])[0]\n",
    "        for i, (chunk, trad_chunk_embedding, new_chunk_embedding) in enumerate(zip(doc_chunks, doc_trad_chunk_embeddings, doc_new_chunk_embeddings)):\n",
    "            result.loc[last_idx + i] = np.array([chunk, trad_chunk_embedding, new_chunk_embedding, doc['_id']], dtype=object)\n",
    "        last_idx += len(doc_chunks)\n",
    "    return result"
   ]
  },
  {
   "cell_type": "code",
   "execution_count": 5,
   "id": "b157e143-4bb0-4892-9774-077a2da494d9",
   "metadata": {},
   "outputs": [
    {
     "name": "stderr",
     "output_type": "stream",
     "text": [
      "C:\\Users\\gorku\\AppData\\Local\\Packages\\PythonSoftwareFoundation.Python.3.12_qbz5n2kfra8p0\\LocalCache\\local-packages\\Python312\\site-packages\\numpy\\core\\fromnumeric.py:59: FutureWarning: 'DataFrame.swapaxes' is deprecated and will be removed in a future version. Please use 'DataFrame.transpose' instead.\n",
      "  return bound(*args, **kwds)\n"
     ]
    }
   ],
   "source": [
    "chunked_corpus  = np.array_split(corpus, 22) # Пусть у нас 5179 компьютер, сольём первые два из них для примера"
   ]
  },
  {
   "cell_type": "code",
   "execution_count": 5,
   "id": "3aec35e8-c623-4562-b27d-4faedc2d7482",
   "metadata": {
    "scrolled": true
   },
   "outputs": [
    {
     "name": "stderr",
     "output_type": "stream",
     "text": [
      "flash_attn is not installed. Using PyTorch native attention implementation.\n",
      "flash_attn is not installed. Using PyTorch native attention implementation.\n",
      "flash_attn is not installed. Using PyTorch native attention implementation.\n",
      "flash_attn is not installed. Using PyTorch native attention implementation.\n",
      "flash_attn is not installed. Using PyTorch native attention implementation.\n",
      "flash_attn is not installed. Using PyTorch native attention implementation.\n",
      "flash_attn is not installed. Using PyTorch native attention implementation.\n",
      "flash_attn is not installed. Using PyTorch native attention implementation.\n",
      "flash_attn is not installed. Using PyTorch native attention implementation.\n",
      "flash_attn is not installed. Using PyTorch native attention implementation.\n",
      "flash_attn is not installed. Using PyTorch native attention implementation.\n",
      "flash_attn is not installed. Using PyTorch native attention implementation.\n",
      "flash_attn is not installed. Using PyTorch native attention implementation.\n",
      "flash_attn is not installed. Using PyTorch native attention implementation.\n",
      "flash_attn is not installed. Using PyTorch native attention implementation.\n",
      "flash_attn is not installed. Using PyTorch native attention implementation.\n",
      "flash_attn is not installed. Using PyTorch native attention implementation.\n",
      "flash_attn is not installed. Using PyTorch native attention implementation.\n",
      "flash_attn is not installed. Using PyTorch native attention implementation.\n",
      "flash_attn is not installed. Using PyTorch native attention implementation.\n",
      "flash_attn is not installed. Using PyTorch native attention implementation.\n",
      "flash_attn is not installed. Using PyTorch native attention implementation.\n",
      "flash_attn is not installed. Using PyTorch native attention implementation.\n",
      "flash_attn is not installed. Using PyTorch native attention implementation.\n",
      "flash_attn is not installed. Using PyTorch native attention implementation.\n"
     ]
    },
    {
     "name": "stdout",
     "output_type": "stream",
     "text": [
      "CPU times: total: 2h 54min 26s\n",
      "Wall time: 4h 53min 9s\n"
     ]
    },
    {
     "data": {
      "text/plain": [
       "(252887, 4)"
      ]
     },
     "execution_count": 5,
     "metadata": {},
     "output_type": "execute_result"
    }
   ],
   "source": [
    "%%time\n",
    "chunks12 = do_ch_emb(chunked_corpus[12])\n",
    "chunks12.shape"
   ]
  },
  {
   "cell_type": "code",
   "execution_count": 6,
   "id": "59e4cbc9-9eec-4570-a2ae-bc0b491b1982",
   "metadata": {},
   "outputs": [],
   "source": [
    "chunks12.to_pickle(basePath + \"\\\\ai-forever-ria-news-retrieval\\\\chunks_embedded_12.pkl\")"
   ]
  },
  {
   "cell_type": "code",
   "execution_count": null,
   "id": "781fa0d6-6313-4651-9063-9af45d6114ad",
   "metadata": {},
   "outputs": [],
   "source": []
  },
  {
   "cell_type": "code",
   "execution_count": null,
   "id": "9edf3834-9d32-4409-b4e8-91528a8d8918",
   "metadata": {},
   "outputs": [],
   "source": []
  },
  {
   "cell_type": "code",
   "execution_count": 8,
   "id": "4fbd37c0-250a-44db-9e02-8e2820c81612",
   "metadata": {},
   "outputs": [
    {
     "data": {
      "text/plain": [
       "28346"
      ]
     },
     "execution_count": 8,
     "metadata": {},
     "output_type": "execute_result"
    }
   ],
   "source": [
    "chunked_corpus[0]['_id'][28346]"
   ]
  },
  {
   "cell_type": "code",
   "execution_count": null,
   "id": "f114c0df-4b08-4498-9039-99f1f5328c55",
   "metadata": {},
   "outputs": [],
   "source": []
  },
  {
   "cell_type": "code",
   "execution_count": null,
   "id": "6c1e9936-3017-426b-8b1f-c578dd75a474",
   "metadata": {},
   "outputs": [],
   "source": []
  },
  {
   "cell_type": "code",
   "execution_count": 6,
   "id": "51ee22f8-c92d-46dc-9a86-83ebe3e0952e",
   "metadata": {},
   "outputs": [
    {
     "name": "stderr",
     "output_type": "stream",
     "text": [
      "flash_attn is not installed. Using PyTorch native attention implementation.\n",
      "flash_attn is not installed. Using PyTorch native attention implementation.\n",
      "flash_attn is not installed. Using PyTorch native attention implementation.\n",
      "flash_attn is not installed. Using PyTorch native attention implementation.\n",
      "flash_attn is not installed. Using PyTorch native attention implementation.\n",
      "flash_attn is not installed. Using PyTorch native attention implementation.\n",
      "flash_attn is not installed. Using PyTorch native attention implementation.\n",
      "flash_attn is not installed. Using PyTorch native attention implementation.\n",
      "flash_attn is not installed. Using PyTorch native attention implementation.\n",
      "flash_attn is not installed. Using PyTorch native attention implementation.\n",
      "flash_attn is not installed. Using PyTorch native attention implementation.\n",
      "flash_attn is not installed. Using PyTorch native attention implementation.\n",
      "flash_attn is not installed. Using PyTorch native attention implementation.\n",
      "flash_attn is not installed. Using PyTorch native attention implementation.\n",
      "flash_attn is not installed. Using PyTorch native attention implementation.\n",
      "flash_attn is not installed. Using PyTorch native attention implementation.\n",
      "flash_attn is not installed. Using PyTorch native attention implementation.\n",
      "flash_attn is not installed. Using PyTorch native attention implementation.\n",
      "flash_attn is not installed. Using PyTorch native attention implementation.\n",
      "flash_attn is not installed. Using PyTorch native attention implementation.\n",
      "flash_attn is not installed. Using PyTorch native attention implementation.\n",
      "flash_attn is not installed. Using PyTorch native attention implementation.\n",
      "flash_attn is not installed. Using PyTorch native attention implementation.\n",
      "flash_attn is not installed. Using PyTorch native attention implementation.\n",
      "flash_attn is not installed. Using PyTorch native attention implementation.\n"
     ]
    },
    {
     "name": "stdout",
     "output_type": "stream",
     "text": [
      "CPU times: total: 4.58 s\n",
      "Wall time: 21.1 s\n"
     ]
    },
    {
     "data": {
      "text/html": [
       "<div>\n",
       "<style scoped>\n",
       "    .dataframe tbody tr th:only-of-type {\n",
       "        vertical-align: middle;\n",
       "    }\n",
       "\n",
       "    .dataframe tbody tr th {\n",
       "        vertical-align: top;\n",
       "    }\n",
       "\n",
       "    .dataframe thead th {\n",
       "        text-align: right;\n",
       "    }\n",
       "</style>\n",
       "<table border=\"1\" class=\"dataframe\">\n",
       "  <thead>\n",
       "    <tr style=\"text-align: right;\">\n",
       "      <th></th>\n",
       "      <th>chunk</th>\n",
       "      <th>trad_chunk_embedding</th>\n",
       "      <th>new_chunk_embedding</th>\n",
       "      <th>doc_id</th>\n",
       "    </tr>\n",
       "  </thead>\n",
       "  <tbody>\n",
       "    <tr>\n",
       "      <th>0</th>\n",
       "      <td>премьер-министр украины, кандидат в президенты...</td>\n",
       "      <td>[0.005603487, -0.027358998, -0.024784992, 0.03...</td>\n",
       "      <td>[-0.203125, -0.83203125, -0.80859375, 1.023437...</td>\n",
       "      <td>0</td>\n",
       "    </tr>\n",
       "    <tr>\n",
       "      <th>1</th>\n",
       "      <td>17 января в украине состоялся первый тур выб...</td>\n",
       "      <td>[0.067110054, -0.111722454, -0.07669922, 0.078...</td>\n",
       "      <td>[0.21484375, -0.8984375, -1.171875, 1.140625, ...</td>\n",
       "      <td>0</td>\n",
       "    </tr>\n",
       "    <tr>\n",
       "      <th>2</th>\n",
       "      <td>второй тур выборов президента украины состои...</td>\n",
       "      <td>[0.0342565, -0.074376695, -0.039508007, 0.0665...</td>\n",
       "      <td>[0.41210938, -0.9140625, -0.68359375, 1.21875,...</td>\n",
       "      <td>0</td>\n",
       "    </tr>\n",
       "    <tr>\n",
       "      <th>3</th>\n",
       "      <td>парламент украины по инициативе партии регион...</td>\n",
       "      <td>[-0.011512435, -0.041095216, -0.08615855, 0.05...</td>\n",
       "      <td>[-0.013244629, -0.84765625, -1.109375, 1.07031...</td>\n",
       "      <td>0</td>\n",
       "    </tr>\n",
       "    <tr>\n",
       "      <th>4</th>\n",
       "      <td>министра.</td>\n",
       "      <td>[0.030810941, -0.1456895, 0.027225856, 0.01233...</td>\n",
       "      <td>[-0.11425781, -1.21875, -1.3125, 0.7109375, -1...</td>\n",
       "      <td>0</td>\n",
       "    </tr>\n",
       "    <tr>\n",
       "      <th>...</th>\n",
       "      <td>...</td>\n",
       "      <td>...</td>\n",
       "      <td>...</td>\n",
       "      <td>...</td>\n",
       "    </tr>\n",
       "    <tr>\n",
       "      <th>964</th>\n",
       "      <td>налбандян из-за операции на бедре в мае прошл...</td>\n",
       "      <td>[0.036205754, -0.12215991, -0.17237176, -0.035...</td>\n",
       "      <td>[0.45117188, -1.4921875, -2.390625, 0.58203125...</td>\n",
       "      <td>135</td>\n",
       "    </tr>\n",
       "    <tr>\n",
       "      <th>965</th>\n",
       "      <td>аргентинец собирался вернуться на корт в нача...</td>\n",
       "      <td>[0.124536484, -0.12044175, -0.15277605, 0.1076...</td>\n",
       "      <td>[0.85546875, -1.5546875, -2.484375, 0.8203125,...</td>\n",
       "      <td>135</td>\n",
       "    </tr>\n",
       "    <tr>\n",
       "      <th>966</th>\n",
       "      <td>однако на турнире в новозеландском окленде на...</td>\n",
       "      <td>[0.08003434, -0.11424159, -0.1379746, -0.04670...</td>\n",
       "      <td>[0.60546875, -1.203125, -2.421875, 0.453125, 1...</td>\n",
       "      <td>135</td>\n",
       "    </tr>\n",
       "    <tr>\n",
       "      <th>967</th>\n",
       "      <td>на данный момент последним официальным матче...</td>\n",
       "      <td>[0.11851942, -0.14924, -0.15777057, 0.07895663...</td>\n",
       "      <td>[0.8125, -1.3984375, -2.390625, 0.6328125, 1.0...</td>\n",
       "      <td>135</td>\n",
       "    </tr>\n",
       "    <tr>\n",
       "      <th>968</th>\n",
       "      <td>в середине декабря прошлого года налбандян ст...</td>\n",
       "      <td>[0.08888415, -0.16058676, -0.115686476, -0.019...</td>\n",
       "      <td>[0.765625, -1.4765625, -2.28125, 0.59765625, 0...</td>\n",
       "      <td>135</td>\n",
       "    </tr>\n",
       "  </tbody>\n",
       "</table>\n",
       "<p>969 rows × 4 columns</p>\n",
       "</div>"
      ],
      "text/plain": [
       "                                                 chunk  \\\n",
       "0    премьер-министр украины, кандидат в президенты...   \n",
       "1     17 января в украине состоялся первый тур выб...   \n",
       "2     второй тур выборов президента украины состои...   \n",
       "3     парламент украины по инициативе партии регион...   \n",
       "4                                            министра.   \n",
       "..                                                 ...   \n",
       "964   налбандян из-за операции на бедре в мае прошл...   \n",
       "965   аргентинец собирался вернуться на корт в нача...   \n",
       "966   однако на турнире в новозеландском окленде на...   \n",
       "967   на данный момент последним официальным матче...   \n",
       "968   в середине декабря прошлого года налбандян ст...   \n",
       "\n",
       "                                  trad_chunk_embedding  \\\n",
       "0    [0.005603487, -0.027358998, -0.024784992, 0.03...   \n",
       "1    [0.067110054, -0.111722454, -0.07669922, 0.078...   \n",
       "2    [0.0342565, -0.074376695, -0.039508007, 0.0665...   \n",
       "3    [-0.011512435, -0.041095216, -0.08615855, 0.05...   \n",
       "4    [0.030810941, -0.1456895, 0.027225856, 0.01233...   \n",
       "..                                                 ...   \n",
       "964  [0.036205754, -0.12215991, -0.17237176, -0.035...   \n",
       "965  [0.124536484, -0.12044175, -0.15277605, 0.1076...   \n",
       "966  [0.08003434, -0.11424159, -0.1379746, -0.04670...   \n",
       "967  [0.11851942, -0.14924, -0.15777057, 0.07895663...   \n",
       "968  [0.08888415, -0.16058676, -0.115686476, -0.019...   \n",
       "\n",
       "                                   new_chunk_embedding doc_id  \n",
       "0    [-0.203125, -0.83203125, -0.80859375, 1.023437...      0  \n",
       "1    [0.21484375, -0.8984375, -1.171875, 1.140625, ...      0  \n",
       "2    [0.41210938, -0.9140625, -0.68359375, 1.21875,...      0  \n",
       "3    [-0.013244629, -0.84765625, -1.109375, 1.07031...      0  \n",
       "4    [-0.11425781, -1.21875, -1.3125, 0.7109375, -1...      0  \n",
       "..                                                 ...    ...  \n",
       "964  [0.45117188, -1.4921875, -2.390625, 0.58203125...    135  \n",
       "965  [0.85546875, -1.5546875, -2.484375, 0.8203125,...    135  \n",
       "966  [0.60546875, -1.203125, -2.421875, 0.453125, 1...    135  \n",
       "967  [0.8125, -1.3984375, -2.390625, 0.6328125, 1.0...    135  \n",
       "968  [0.765625, -1.4765625, -2.28125, 0.59765625, 0...    135  \n",
       "\n",
       "[969 rows x 4 columns]"
      ]
     },
     "execution_count": 6,
     "metadata": {},
     "output_type": "execute_result"
    }
   ],
   "source": [
    "%%time\n",
    "chunks0 = do_ch_emb(chunked_corpus[0])\n",
    "chunks0"
   ]
  },
  {
   "cell_type": "code",
   "execution_count": 7,
   "id": "de069e86-aaa2-452b-a62b-ffa4bb330a1d",
   "metadata": {},
   "outputs": [
    {
     "name": "stderr",
     "output_type": "stream",
     "text": [
      "flash_attn is not installed. Using PyTorch native attention implementation.\n",
      "flash_attn is not installed. Using PyTorch native attention implementation.\n",
      "flash_attn is not installed. Using PyTorch native attention implementation.\n",
      "flash_attn is not installed. Using PyTorch native attention implementation.\n",
      "flash_attn is not installed. Using PyTorch native attention implementation.\n",
      "flash_attn is not installed. Using PyTorch native attention implementation.\n",
      "flash_attn is not installed. Using PyTorch native attention implementation.\n",
      "flash_attn is not installed. Using PyTorch native attention implementation.\n",
      "flash_attn is not installed. Using PyTorch native attention implementation.\n",
      "flash_attn is not installed. Using PyTorch native attention implementation.\n",
      "flash_attn is not installed. Using PyTorch native attention implementation.\n",
      "flash_attn is not installed. Using PyTorch native attention implementation.\n",
      "flash_attn is not installed. Using PyTorch native attention implementation.\n",
      "flash_attn is not installed. Using PyTorch native attention implementation.\n",
      "flash_attn is not installed. Using PyTorch native attention implementation.\n",
      "flash_attn is not installed. Using PyTorch native attention implementation.\n",
      "flash_attn is not installed. Using PyTorch native attention implementation.\n",
      "flash_attn is not installed. Using PyTorch native attention implementation.\n",
      "flash_attn is not installed. Using PyTorch native attention implementation.\n",
      "flash_attn is not installed. Using PyTorch native attention implementation.\n",
      "flash_attn is not installed. Using PyTorch native attention implementation.\n",
      "flash_attn is not installed. Using PyTorch native attention implementation.\n",
      "flash_attn is not installed. Using PyTorch native attention implementation.\n",
      "flash_attn is not installed. Using PyTorch native attention implementation.\n",
      "flash_attn is not installed. Using PyTorch native attention implementation.\n"
     ]
    },
    {
     "name": "stdout",
     "output_type": "stream",
     "text": [
      "CPU times: total: 3.7 s\n",
      "Wall time: 17 s\n"
     ]
    },
    {
     "data": {
      "text/html": [
       "<div>\n",
       "<style scoped>\n",
       "    .dataframe tbody tr th:only-of-type {\n",
       "        vertical-align: middle;\n",
       "    }\n",
       "\n",
       "    .dataframe tbody tr th {\n",
       "        vertical-align: top;\n",
       "    }\n",
       "\n",
       "    .dataframe thead th {\n",
       "        text-align: right;\n",
       "    }\n",
       "</style>\n",
       "<table border=\"1\" class=\"dataframe\">\n",
       "  <thead>\n",
       "    <tr style=\"text-align: right;\">\n",
       "      <th></th>\n",
       "      <th>chunk</th>\n",
       "      <th>trad_chunk_embedding</th>\n",
       "      <th>new_chunk_embedding</th>\n",
       "      <th>doc_id</th>\n",
       "    </tr>\n",
       "  </thead>\n",
       "  <tbody>\n",
       "    <tr>\n",
       "      <th>0</th>\n",
       "      <td>хоккейный судья погиб в субботу во время мат...</td>\n",
       "      <td>[0.063722946, -0.06450773, -0.03177504, 0.0524...</td>\n",
       "      <td>[0.87109375, -0.87109375, -0.546875, 0.6054687...</td>\n",
       "      <td>136</td>\n",
       "    </tr>\n",
       "    <tr>\n",
       "      <th>1</th>\n",
       "      <td>как поясняет шведское телевидение, несчастныи...</td>\n",
       "      <td>[0.038227305, -0.1228597, -0.0351257, 0.002795...</td>\n",
       "      <td>[0.77734375, -0.7734375, -0.4453125, 0.6015625...</td>\n",
       "      <td>136</td>\n",
       "    </tr>\n",
       "    <tr>\n",
       "      <th>2</th>\n",
       "      <td>судья, находившийся у борта, около скамьи дл...</td>\n",
       "      <td>[0.09723083, -0.09776237, -0.029085813, 0.1034...</td>\n",
       "      <td>[0.90234375, -0.796875, -0.18554688, 0.8476562...</td>\n",
       "      <td>136</td>\n",
       "    </tr>\n",
       "    <tr>\n",
       "      <th>3</th>\n",
       "      <td>несчастный случай произошел в первом период...</td>\n",
       "      <td>[0.040227614, -0.15165919, -0.029836316, 0.088...</td>\n",
       "      <td>[1.0625, -0.78125, -0.22851562, 0.9609375, 2.0...</td>\n",
       "      <td>136</td>\n",
       "    </tr>\n",
       "    <tr>\n",
       "      <th>4</th>\n",
       "      <td>пресс-служба местной полиции сообщает, что н...</td>\n",
       "      <td>[0.04868422, -0.08835515, 0.03624171, 0.085426...</td>\n",
       "      <td>[0.73828125, -0.63671875, 0.026489258, 0.97656...</td>\n",
       "      <td>136</td>\n",
       "    </tr>\n",
       "    <tr>\n",
       "      <th>...</th>\n",
       "      <td>...</td>\n",
       "      <td>...</td>\n",
       "      <td>...</td>\n",
       "      <td>...</td>\n",
       "    </tr>\n",
       "    <tr>\n",
       "      <th>1001</th>\n",
       "      <td>второй тур президентских выборов назначен на...</td>\n",
       "      <td>[0.08194656, -0.09576612, -0.042479217, 0.0796...</td>\n",
       "      <td>[1.140625, -1.0703125, -0.734375, 1.0859375, -...</td>\n",
       "      <td>271</td>\n",
       "    </tr>\n",
       "    <tr>\n",
       "      <th>1002</th>\n",
       "      <td>украинские эксперты не исключают, что проигра...</td>\n",
       "      <td>[0.1288577, -0.117042825, -0.07240841, 0.02360...</td>\n",
       "      <td>[1.3046875, -1.375, -0.859375, 0.5546875, -0.0...</td>\n",
       "      <td>271</td>\n",
       "    </tr>\n",
       "    <tr>\n",
       "      <th>1003</th>\n",
       "      <td>\"я не буду прогнозировать разрывы, я буду про...</td>\n",
       "      <td>[0.10990891, -0.0764635, -0.05408496, 0.023852...</td>\n",
       "      <td>[1.109375, -1.203125, -0.6953125, 0.6015625, -...</td>\n",
       "      <td>271</td>\n",
       "    </tr>\n",
       "    <tr>\n",
       "      <th>1004</th>\n",
       "      <td>премьер украины в очередной раз заявила, что...</td>\n",
       "      <td>[0.00061494106, -0.08204302, -0.049697183, -0....</td>\n",
       "      <td>[0.84375, -1.1796875, -1.0234375, 0.32617188, ...</td>\n",
       "      <td>271</td>\n",
       "    </tr>\n",
       "    <tr>\n",
       "      <th>1005</th>\n",
       "      <td>\"да, я выиграю\", - сказала она.</td>\n",
       "      <td>[0.020510087, -0.12953037, 0.030635066, 0.0027...</td>\n",
       "      <td>[0.70703125, -1.3671875, -0.921875, 0.34375, -...</td>\n",
       "      <td>271</td>\n",
       "    </tr>\n",
       "  </tbody>\n",
       "</table>\n",
       "<p>1006 rows × 4 columns</p>\n",
       "</div>"
      ],
      "text/plain": [
       "                                                  chunk  \\\n",
       "0     хоккейный судья погиб в субботу во время мат...   \n",
       "1      как поясняет шведское телевидение, несчастныи...   \n",
       "2      судья, находившийся у борта, около скамьи дл...   \n",
       "3      несчастный случай произошел в первом период...   \n",
       "4      пресс-служба местной полиции сообщает, что н...   \n",
       "...                                                 ...   \n",
       "1001   второй тур президентских выборов назначен на...   \n",
       "1002   украинские эксперты не исключают, что проигра...   \n",
       "1003   \"я не буду прогнозировать разрывы, я буду про...   \n",
       "1004   премьер украины в очередной раз заявила, что...   \n",
       "1005                    \"да, я выиграю\", - сказала она.   \n",
       "\n",
       "                                   trad_chunk_embedding  \\\n",
       "0     [0.063722946, -0.06450773, -0.03177504, 0.0524...   \n",
       "1     [0.038227305, -0.1228597, -0.0351257, 0.002795...   \n",
       "2     [0.09723083, -0.09776237, -0.029085813, 0.1034...   \n",
       "3     [0.040227614, -0.15165919, -0.029836316, 0.088...   \n",
       "4     [0.04868422, -0.08835515, 0.03624171, 0.085426...   \n",
       "...                                                 ...   \n",
       "1001  [0.08194656, -0.09576612, -0.042479217, 0.0796...   \n",
       "1002  [0.1288577, -0.117042825, -0.07240841, 0.02360...   \n",
       "1003  [0.10990891, -0.0764635, -0.05408496, 0.023852...   \n",
       "1004  [0.00061494106, -0.08204302, -0.049697183, -0....   \n",
       "1005  [0.020510087, -0.12953037, 0.030635066, 0.0027...   \n",
       "\n",
       "                                    new_chunk_embedding doc_id  \n",
       "0     [0.87109375, -0.87109375, -0.546875, 0.6054687...    136  \n",
       "1     [0.77734375, -0.7734375, -0.4453125, 0.6015625...    136  \n",
       "2     [0.90234375, -0.796875, -0.18554688, 0.8476562...    136  \n",
       "3     [1.0625, -0.78125, -0.22851562, 0.9609375, 2.0...    136  \n",
       "4     [0.73828125, -0.63671875, 0.026489258, 0.97656...    136  \n",
       "...                                                 ...    ...  \n",
       "1001  [1.140625, -1.0703125, -0.734375, 1.0859375, -...    271  \n",
       "1002  [1.3046875, -1.375, -0.859375, 0.5546875, -0.0...    271  \n",
       "1003  [1.109375, -1.203125, -0.6953125, 0.6015625, -...    271  \n",
       "1004  [0.84375, -1.1796875, -1.0234375, 0.32617188, ...    271  \n",
       "1005  [0.70703125, -1.3671875, -0.921875, 0.34375, -...    271  \n",
       "\n",
       "[1006 rows x 4 columns]"
      ]
     },
     "execution_count": 7,
     "metadata": {},
     "output_type": "execute_result"
    }
   ],
   "source": [
    "%%time\n",
    "chunks1 = do_ch_emb(chunked_corpus[1])\n",
    "chunks1"
   ]
  },
  {
   "cell_type": "code",
   "execution_count": 8,
   "id": "26640dae-1811-4624-b0db-651afd785ded",
   "metadata": {},
   "outputs": [],
   "source": [
    "chunks0.to_pickle(basePath + \"\\\\ai-forever-ria-news-retrieval\\\\chunks_embedded_0.pkl\")"
   ]
  },
  {
   "cell_type": "code",
   "execution_count": 9,
   "id": "c755168a-f848-497c-80b7-9ba5533eed5c",
   "metadata": {},
   "outputs": [],
   "source": [
    "chunks1.to_pickle(basePath + \"\\\\ai-forever-ria-news-retrieval\\\\chunks_embedded_1.pkl\")"
   ]
  },
  {
   "cell_type": "markdown",
   "id": "7c985ca6-1f8e-449e-915e-297c3f414081",
   "metadata": {},
   "source": [
    "### Обратно загрузка с диска и сливание (части будто с разных компов, но сложенные в одну папку)"
   ]
  },
  {
   "cell_type": "code",
   "execution_count": 10,
   "id": "31c30235-5382-4d95-ba5e-9f9e99a48bde",
   "metadata": {},
   "outputs": [],
   "source": [
    "unpickled_chunks0 = pd.read_pickle(basePath + \"\\\\ai-forever-ria-news-retrieval\\\\chunks_embedded_0.pkl\")"
   ]
  },
  {
   "cell_type": "code",
   "execution_count": 11,
   "id": "ee109a18-35b6-464b-95cb-450835ca08eb",
   "metadata": {},
   "outputs": [],
   "source": [
    "unpickled_chunks1 = pd.read_pickle(basePath + \"\\\\ai-forever-ria-news-retrieval\\\\chunks_embedded_1.pkl\")"
   ]
  },
  {
   "cell_type": "code",
   "execution_count": 12,
   "id": "9bf3d9dc-5ff3-4a46-a27d-a60e121a26ee",
   "metadata": {},
   "outputs": [],
   "source": [
    "unpickled_chunks = pd.concat([unpickled_chunks0, unpickled_chunks1], ignore_index=True)"
   ]
  },
  {
   "cell_type": "code",
   "execution_count": 14,
   "id": "9bc162e5-c992-4fa3-8d1c-dc9df418f99e",
   "metadata": {},
   "outputs": [
    {
     "data": {
      "text/html": [
       "<div>\n",
       "<style scoped>\n",
       "    .dataframe tbody tr th:only-of-type {\n",
       "        vertical-align: middle;\n",
       "    }\n",
       "\n",
       "    .dataframe tbody tr th {\n",
       "        vertical-align: top;\n",
       "    }\n",
       "\n",
       "    .dataframe thead th {\n",
       "        text-align: right;\n",
       "    }\n",
       "</style>\n",
       "<table border=\"1\" class=\"dataframe\">\n",
       "  <thead>\n",
       "    <tr style=\"text-align: right;\">\n",
       "      <th></th>\n",
       "      <th>chunk</th>\n",
       "      <th>trad_chunk_embedding</th>\n",
       "      <th>new_chunk_embedding</th>\n",
       "      <th>doc_id</th>\n",
       "    </tr>\n",
       "  </thead>\n",
       "  <tbody>\n",
       "    <tr>\n",
       "      <th>0</th>\n",
       "      <td>премьер-министр украины, кандидат в президенты...</td>\n",
       "      <td>[0.005603487, -0.027358998, -0.024784992, 0.03...</td>\n",
       "      <td>[-0.203125, -0.83203125, -0.80859375, 1.023437...</td>\n",
       "      <td>0</td>\n",
       "    </tr>\n",
       "    <tr>\n",
       "      <th>1</th>\n",
       "      <td>17 января в украине состоялся первый тур выб...</td>\n",
       "      <td>[0.067110054, -0.111722454, -0.07669922, 0.078...</td>\n",
       "      <td>[0.21484375, -0.8984375, -1.171875, 1.140625, ...</td>\n",
       "      <td>0</td>\n",
       "    </tr>\n",
       "    <tr>\n",
       "      <th>2</th>\n",
       "      <td>второй тур выборов президента украины состои...</td>\n",
       "      <td>[0.0342565, -0.074376695, -0.039508007, 0.0665...</td>\n",
       "      <td>[0.41210938, -0.9140625, -0.68359375, 1.21875,...</td>\n",
       "      <td>0</td>\n",
       "    </tr>\n",
       "    <tr>\n",
       "      <th>3</th>\n",
       "      <td>парламент украины по инициативе партии регион...</td>\n",
       "      <td>[-0.011512435, -0.041095216, -0.08615855, 0.05...</td>\n",
       "      <td>[-0.013244629, -0.84765625, -1.109375, 1.07031...</td>\n",
       "      <td>0</td>\n",
       "    </tr>\n",
       "    <tr>\n",
       "      <th>4</th>\n",
       "      <td>министра.</td>\n",
       "      <td>[0.030810941, -0.1456895, 0.027225856, 0.01233...</td>\n",
       "      <td>[-0.11425781, -1.21875, -1.3125, 0.7109375, -1...</td>\n",
       "      <td>0</td>\n",
       "    </tr>\n",
       "    <tr>\n",
       "      <th>...</th>\n",
       "      <td>...</td>\n",
       "      <td>...</td>\n",
       "      <td>...</td>\n",
       "      <td>...</td>\n",
       "    </tr>\n",
       "    <tr>\n",
       "      <th>1970</th>\n",
       "      <td>второй тур президентских выборов назначен на...</td>\n",
       "      <td>[0.08194656, -0.09576612, -0.042479217, 0.0796...</td>\n",
       "      <td>[1.140625, -1.0703125, -0.734375, 1.0859375, -...</td>\n",
       "      <td>271</td>\n",
       "    </tr>\n",
       "    <tr>\n",
       "      <th>1971</th>\n",
       "      <td>украинские эксперты не исключают, что проигра...</td>\n",
       "      <td>[0.1288577, -0.117042825, -0.07240841, 0.02360...</td>\n",
       "      <td>[1.3046875, -1.375, -0.859375, 0.5546875, -0.0...</td>\n",
       "      <td>271</td>\n",
       "    </tr>\n",
       "    <tr>\n",
       "      <th>1972</th>\n",
       "      <td>\"я не буду прогнозировать разрывы, я буду про...</td>\n",
       "      <td>[0.10990891, -0.0764635, -0.05408496, 0.023852...</td>\n",
       "      <td>[1.109375, -1.203125, -0.6953125, 0.6015625, -...</td>\n",
       "      <td>271</td>\n",
       "    </tr>\n",
       "    <tr>\n",
       "      <th>1973</th>\n",
       "      <td>премьер украины в очередной раз заявила, что...</td>\n",
       "      <td>[0.00061494106, -0.08204302, -0.049697183, -0....</td>\n",
       "      <td>[0.84375, -1.1796875, -1.0234375, 0.32617188, ...</td>\n",
       "      <td>271</td>\n",
       "    </tr>\n",
       "    <tr>\n",
       "      <th>1974</th>\n",
       "      <td>\"да, я выиграю\", - сказала она.</td>\n",
       "      <td>[0.020510087, -0.12953037, 0.030635066, 0.0027...</td>\n",
       "      <td>[0.70703125, -1.3671875, -0.921875, 0.34375, -...</td>\n",
       "      <td>271</td>\n",
       "    </tr>\n",
       "  </tbody>\n",
       "</table>\n",
       "<p>1975 rows × 4 columns</p>\n",
       "</div>"
      ],
      "text/plain": [
       "                                                  chunk  \\\n",
       "0     премьер-министр украины, кандидат в президенты...   \n",
       "1      17 января в украине состоялся первый тур выб...   \n",
       "2      второй тур выборов президента украины состои...   \n",
       "3      парламент украины по инициативе партии регион...   \n",
       "4                                             министра.   \n",
       "...                                                 ...   \n",
       "1970   второй тур президентских выборов назначен на...   \n",
       "1971   украинские эксперты не исключают, что проигра...   \n",
       "1972   \"я не буду прогнозировать разрывы, я буду про...   \n",
       "1973   премьер украины в очередной раз заявила, что...   \n",
       "1974                    \"да, я выиграю\", - сказала она.   \n",
       "\n",
       "                                   trad_chunk_embedding  \\\n",
       "0     [0.005603487, -0.027358998, -0.024784992, 0.03...   \n",
       "1     [0.067110054, -0.111722454, -0.07669922, 0.078...   \n",
       "2     [0.0342565, -0.074376695, -0.039508007, 0.0665...   \n",
       "3     [-0.011512435, -0.041095216, -0.08615855, 0.05...   \n",
       "4     [0.030810941, -0.1456895, 0.027225856, 0.01233...   \n",
       "...                                                 ...   \n",
       "1970  [0.08194656, -0.09576612, -0.042479217, 0.0796...   \n",
       "1971  [0.1288577, -0.117042825, -0.07240841, 0.02360...   \n",
       "1972  [0.10990891, -0.0764635, -0.05408496, 0.023852...   \n",
       "1973  [0.00061494106, -0.08204302, -0.049697183, -0....   \n",
       "1974  [0.020510087, -0.12953037, 0.030635066, 0.0027...   \n",
       "\n",
       "                                    new_chunk_embedding doc_id  \n",
       "0     [-0.203125, -0.83203125, -0.80859375, 1.023437...      0  \n",
       "1     [0.21484375, -0.8984375, -1.171875, 1.140625, ...      0  \n",
       "2     [0.41210938, -0.9140625, -0.68359375, 1.21875,...      0  \n",
       "3     [-0.013244629, -0.84765625, -1.109375, 1.07031...      0  \n",
       "4     [-0.11425781, -1.21875, -1.3125, 0.7109375, -1...      0  \n",
       "...                                                 ...    ...  \n",
       "1970  [1.140625, -1.0703125, -0.734375, 1.0859375, -...    271  \n",
       "1971  [1.3046875, -1.375, -0.859375, 0.5546875, -0.0...    271  \n",
       "1972  [1.109375, -1.203125, -0.6953125, 0.6015625, -...    271  \n",
       "1973  [0.84375, -1.1796875, -1.0234375, 0.32617188, ...    271  \n",
       "1974  [0.70703125, -1.3671875, -0.921875, 0.34375, -...    271  \n",
       "\n",
       "[1975 rows x 4 columns]"
      ]
     },
     "execution_count": 14,
     "metadata": {},
     "output_type": "execute_result"
    }
   ],
   "source": [
    "unpickled_chunks"
   ]
  },
  {
   "cell_type": "code",
   "execution_count": null,
   "id": "db1f737e-b33d-469a-aa9b-864001601b17",
   "metadata": {},
   "outputs": [],
   "source": []
  },
  {
   "cell_type": "markdown",
   "id": "9001fcf4-063e-4130-a2d3-3e755941844e",
   "metadata": {},
   "source": [
    "# Трэш далее -- игнор"
   ]
  },
  {
   "cell_type": "code",
   "execution_count": null,
   "id": "97decb0d-9792-4c62-83ca-b3f333902a47",
   "metadata": {},
   "outputs": [],
   "source": [
    "from multiprocessing import cpu_count\n",
    "from multiprocessing.pool import ThreadPool as Pool\n",
    "from threading import Lock"
   ]
  },
  {
   "cell_type": "code",
   "execution_count": null,
   "id": "4adf6448-2bad-4538-9bb8-efe2ffa393d0",
   "metadata": {},
   "outputs": [],
   "source": [
    "num_processes = cpu_count()\n",
    "num_processes"
   ]
  },
  {
   "cell_type": "code",
   "execution_count": null,
   "id": "bcf53da5-75e4-425e-8b9d-1132a087d8e8",
   "metadata": {},
   "outputs": [],
   "source": [
    "num_processes = 2"
   ]
  },
  {
   "cell_type": "code",
   "execution_count": null,
   "id": "1367598c-3a7d-49a1-8140-c22397172630",
   "metadata": {},
   "outputs": [],
   "source": [
    "corpus.shape[0]"
   ]
  },
  {
   "cell_type": "code",
   "execution_count": null,
   "id": "92603e8d-caa7-40d8-ae5e-9f69e429a2af",
   "metadata": {},
   "outputs": [],
   "source": [
    "calc_chunk_size = int(corpus.shape[0]/num_processes)\n",
    "calc_chunk_size"
   ]
  },
  {
   "cell_type": "code",
   "execution_count": null,
   "id": "6bdac29e-cbe1-49ec-848a-14eaca8c2d51",
   "metadata": {},
   "outputs": [],
   "source": [
    "last_calc_chunk_size = corpus.shape[0] - num_processes * calc_chunk_size + calc_chunk_size\n",
    "last_calc_chunk_size"
   ]
  },
  {
   "cell_type": "code",
   "execution_count": null,
   "id": "b115efdd-bdcd-40b2-a7e1-0a779ff3b67a",
   "metadata": {},
   "outputs": [],
   "source": [
    "# Initialize an empty list to hold the chunks\n",
    "calc_chunks = []\n",
    "\n",
    "# Create the regular chunks\n",
    "for i in range(num_processes - 1):\n",
    "    start_idx = i * calc_chunk_size\n",
    "    end_idx = start_idx + calc_chunk_size\n",
    "    calc_chunks.append(corpus.iloc[start_idx:end_idx])\n",
    "\n",
    "# Handle the last chunk separately\n",
    "start_idx = (num_processes - 1) * calc_chunk_size\n",
    "end_idx = start_idx + last_calc_chunk_size\n",
    "calc_chunks.append(corpus.iloc[start_idx:end_idx])"
   ]
  },
  {
   "cell_type": "code",
   "execution_count": null,
   "id": "333c4399-686e-46e8-8dad-eafeee3a802d",
   "metadata": {},
   "outputs": [],
   "source": [
    "# create our pool with `num_processes` processes\n",
    "pool = Pool(processes=num_processes)"
   ]
  },
  {
   "cell_type": "code",
   "execution_count": null,
   "id": "f1c503ab-e45c-4bf4-8a08-4537e48e85aa",
   "metadata": {},
   "outputs": [],
   "source": [
    "%%time\n",
    "# apply our function to each chunk in the list\n",
    "result = pool.map(do_ch_emb, calc_chunks)"
   ]
  },
  {
   "cell_type": "code",
   "execution_count": null,
   "id": "3a877a91-b5c8-49fa-a4ff-fbb2b927c368",
   "metadata": {},
   "outputs": [],
   "source": [
    "chunks = pd.concat(result, ignore_index=True)"
   ]
  },
  {
   "cell_type": "code",
   "execution_count": null,
   "id": "7d1a7be7-2e03-47fb-be0a-0ad5d39cba4b",
   "metadata": {},
   "outputs": [],
   "source": [
    "chunks.to_pickle(basePath + \"\\\\ai-forever-ria-news-retrieval\\\\chunks_embedded.pkl\")"
   ]
  },
  {
   "cell_type": "code",
   "execution_count": null,
   "id": "d40956bd-f81d-4a54-ad21-25383b498e63",
   "metadata": {},
   "outputs": [],
   "source": [
    "%%time\n",
    "queries['embedding'] = queries.apply(lambda q: model.encode(q['text']), axis=1)"
   ]
  },
  {
   "cell_type": "code",
   "execution_count": null,
   "id": "05fe2fa8-321c-4884-b0f5-9b1b42f56ed4",
   "metadata": {},
   "outputs": [],
   "source": [
    "queries.head()"
   ]
  },
  {
   "cell_type": "code",
   "execution_count": null,
   "id": "cac98d0a-e423-4dd1-ae5f-47bba7f0ea4e",
   "metadata": {},
   "outputs": [],
   "source": [
    "queries.to_pickle(basePath + \"\\\\ai-forever-ria-news-retrieval\\\\queries_embedded.pkl\")"
   ]
  },
  {
   "cell_type": "code",
   "execution_count": null,
   "id": "fb5c7c22-4a7e-4d95-ab13-fc335ae9b39e",
   "metadata": {},
   "outputs": [],
   "source": []
  }
 ],
 "metadata": {
  "kernelspec": {
   "display_name": "Python 3 (ipykernel)",
   "language": "python",
   "name": "python3"
  },
  "language_info": {
   "codemirror_mode": {
    "name": "ipython",
    "version": 3
   },
   "file_extension": ".py",
   "mimetype": "text/x-python",
   "name": "python",
   "nbconvert_exporter": "python",
   "pygments_lexer": "ipython3",
   "version": "3.12.7"
  }
 },
 "nbformat": 4,
 "nbformat_minor": 5
}

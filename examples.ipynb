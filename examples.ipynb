{
 "cells": [
  {
   "cell_type": "markdown",
   "id": "e1173893c4f0ea56",
   "metadata": {
    "collapsed": false,
    "jupyter": {
     "outputs_hidden": false
    }
   },
   "source": [
    "# Chunked Pooling\n",
    "This notebooks explains how the chunked pooling can be implemented. First you need to install the requirements: "
   ]
  },
  {
   "cell_type": "code",
   "execution_count": 3,
   "id": "d02a920f-cde0-4035-9834-49b087aab5cc",
   "metadata": {
    "is_executing": true
   },
   "outputs": [
    {
     "name": "stdout",
     "output_type": "stream",
     "text": [
      "Defaulting to user installation because normal site-packages is not writeable\n",
      "Requirement already satisfied: jupyterlab==4.2.5 in c:\\users\\gorku\\appdata\\local\\packages\\pythonsoftwarefoundation.python.3.12_qbz5n2kfra8p0\\localcache\\local-packages\\python312\\site-packages (from -r requirements.txt (line 1)) (4.2.5)\n",
      "Requirement already satisfied: transformers==4.43.4 in c:\\users\\gorku\\appdata\\local\\packages\\pythonsoftwarefoundation.python.3.12_qbz5n2kfra8p0\\localcache\\local-packages\\python312\\site-packages (from -r requirements.txt (line 2)) (4.43.4)\n",
      "Requirement already satisfied: torch==2.4.1 in c:\\users\\gorku\\appdata\\local\\packages\\pythonsoftwarefoundation.python.3.12_qbz5n2kfra8p0\\localcache\\local-packages\\python312\\site-packages (from -r requirements.txt (line 3)) (2.4.1)\n",
      "Requirement already satisfied: mteb==1.14.20 in c:\\users\\gorku\\appdata\\local\\packages\\pythonsoftwarefoundation.python.3.12_qbz5n2kfra8p0\\localcache\\local-packages\\python312\\site-packages (from -r requirements.txt (line 4)) (1.14.20)\n",
      "Requirement already satisfied: datasets==2.19.1 in c:\\users\\gorku\\appdata\\local\\packages\\pythonsoftwarefoundation.python.3.12_qbz5n2kfra8p0\\localcache\\local-packages\\python312\\site-packages (from -r requirements.txt (line 5)) (2.19.1)\n",
      "Requirement already satisfied: llama-index-embeddings-huggingface==0.3.1 in c:\\users\\gorku\\appdata\\local\\packages\\pythonsoftwarefoundation.python.3.12_qbz5n2kfra8p0\\localcache\\local-packages\\python312\\site-packages (from -r requirements.txt (line 6)) (0.3.1)\n",
      "Requirement already satisfied: llama-index==0.11.10 in c:\\users\\gorku\\appdata\\local\\packages\\pythonsoftwarefoundation.python.3.12_qbz5n2kfra8p0\\localcache\\local-packages\\python312\\site-packages (from -r requirements.txt (line 7)) (0.11.10)\n",
      "Requirement already satisfied: click==8.1.7 in c:\\users\\gorku\\appdata\\local\\packages\\pythonsoftwarefoundation.python.3.12_qbz5n2kfra8p0\\localcache\\local-packages\\python312\\site-packages (from -r requirements.txt (line 8)) (8.1.7)\n",
      "Requirement already satisfied: einops==0.6.1 in c:\\users\\gorku\\appdata\\local\\packages\\pythonsoftwarefoundation.python.3.12_qbz5n2kfra8p0\\localcache\\local-packages\\python312\\site-packages (from -r requirements.txt (line 9)) (0.6.1)\n",
      "Requirement already satisfied: async-lru>=1.0.0 in c:\\users\\gorku\\appdata\\local\\packages\\pythonsoftwarefoundation.python.3.12_qbz5n2kfra8p0\\localcache\\local-packages\\python312\\site-packages (from jupyterlab==4.2.5->-r requirements.txt (line 1)) (2.0.4)\n",
      "Requirement already satisfied: httpx>=0.25.0 in c:\\users\\gorku\\appdata\\local\\packages\\pythonsoftwarefoundation.python.3.12_qbz5n2kfra8p0\\localcache\\local-packages\\python312\\site-packages (from jupyterlab==4.2.5->-r requirements.txt (line 1)) (0.25.2)\n",
      "Requirement already satisfied: ipykernel>=6.5.0 in c:\\users\\gorku\\appdata\\local\\packages\\pythonsoftwarefoundation.python.3.12_qbz5n2kfra8p0\\localcache\\local-packages\\python312\\site-packages (from jupyterlab==4.2.5->-r requirements.txt (line 1)) (6.29.2)\n",
      "Requirement already satisfied: jinja2>=3.0.3 in c:\\users\\gorku\\appdata\\local\\packages\\pythonsoftwarefoundation.python.3.12_qbz5n2kfra8p0\\localcache\\local-packages\\python312\\site-packages (from jupyterlab==4.2.5->-r requirements.txt (line 1)) (3.1.3)\n",
      "Requirement already satisfied: jupyter-core in c:\\users\\gorku\\appdata\\local\\packages\\pythonsoftwarefoundation.python.3.12_qbz5n2kfra8p0\\localcache\\local-packages\\python312\\site-packages (from jupyterlab==4.2.5->-r requirements.txt (line 1)) (5.7.1)\n",
      "Requirement already satisfied: jupyter-lsp>=2.0.0 in c:\\users\\gorku\\appdata\\local\\packages\\pythonsoftwarefoundation.python.3.12_qbz5n2kfra8p0\\localcache\\local-packages\\python312\\site-packages (from jupyterlab==4.2.5->-r requirements.txt (line 1)) (2.2.2)\n",
      "Requirement already satisfied: jupyter-server<3,>=2.4.0 in c:\\users\\gorku\\appdata\\local\\packages\\pythonsoftwarefoundation.python.3.12_qbz5n2kfra8p0\\localcache\\local-packages\\python312\\site-packages (from jupyterlab==4.2.5->-r requirements.txt (line 1)) (2.12.5)\n",
      "Requirement already satisfied: jupyterlab-server<3,>=2.27.1 in c:\\users\\gorku\\appdata\\local\\packages\\pythonsoftwarefoundation.python.3.12_qbz5n2kfra8p0\\localcache\\local-packages\\python312\\site-packages (from jupyterlab==4.2.5->-r requirements.txt (line 1)) (2.27.3)\n",
      "Requirement already satisfied: notebook-shim>=0.2 in c:\\users\\gorku\\appdata\\local\\packages\\pythonsoftwarefoundation.python.3.12_qbz5n2kfra8p0\\localcache\\local-packages\\python312\\site-packages (from jupyterlab==4.2.5->-r requirements.txt (line 1)) (0.2.3)\n",
      "Requirement already satisfied: packaging in c:\\users\\gorku\\appdata\\local\\packages\\pythonsoftwarefoundation.python.3.12_qbz5n2kfra8p0\\localcache\\local-packages\\python312\\site-packages (from jupyterlab==4.2.5->-r requirements.txt (line 1)) (23.2)\n",
      "Requirement already satisfied: setuptools>=40.1.0 in c:\\users\\gorku\\appdata\\local\\packages\\pythonsoftwarefoundation.python.3.12_qbz5n2kfra8p0\\localcache\\local-packages\\python312\\site-packages (from jupyterlab==4.2.5->-r requirements.txt (line 1)) (69.5.1)\n",
      "Requirement already satisfied: tornado>=6.2.0 in c:\\users\\gorku\\appdata\\local\\packages\\pythonsoftwarefoundation.python.3.12_qbz5n2kfra8p0\\localcache\\local-packages\\python312\\site-packages (from jupyterlab==4.2.5->-r requirements.txt (line 1)) (6.4)\n",
      "Requirement already satisfied: traitlets in c:\\users\\gorku\\appdata\\local\\packages\\pythonsoftwarefoundation.python.3.12_qbz5n2kfra8p0\\localcache\\local-packages\\python312\\site-packages (from jupyterlab==4.2.5->-r requirements.txt (line 1)) (5.14.1)\n",
      "Requirement already satisfied: filelock in c:\\users\\gorku\\appdata\\local\\packages\\pythonsoftwarefoundation.python.3.12_qbz5n2kfra8p0\\localcache\\local-packages\\python312\\site-packages (from transformers==4.43.4->-r requirements.txt (line 2)) (3.13.1)\n",
      "Requirement already satisfied: huggingface-hub<1.0,>=0.23.2 in c:\\users\\gorku\\appdata\\local\\packages\\pythonsoftwarefoundation.python.3.12_qbz5n2kfra8p0\\localcache\\local-packages\\python312\\site-packages (from transformers==4.43.4->-r requirements.txt (line 2)) (0.25.2)\n",
      "Requirement already satisfied: numpy>=1.17 in c:\\users\\gorku\\appdata\\local\\packages\\pythonsoftwarefoundation.python.3.12_qbz5n2kfra8p0\\localcache\\local-packages\\python312\\site-packages (from transformers==4.43.4->-r requirements.txt (line 2)) (1.26.4)\n",
      "Requirement already satisfied: pyyaml>=5.1 in c:\\users\\gorku\\appdata\\local\\packages\\pythonsoftwarefoundation.python.3.12_qbz5n2kfra8p0\\localcache\\local-packages\\python312\\site-packages (from transformers==4.43.4->-r requirements.txt (line 2)) (6.0.1)\n",
      "Requirement already satisfied: regex!=2019.12.17 in c:\\users\\gorku\\appdata\\local\\packages\\pythonsoftwarefoundation.python.3.12_qbz5n2kfra8p0\\localcache\\local-packages\\python312\\site-packages (from transformers==4.43.4->-r requirements.txt (line 2)) (2024.4.16)\n",
      "Requirement already satisfied: requests in c:\\users\\gorku\\appdata\\local\\packages\\pythonsoftwarefoundation.python.3.12_qbz5n2kfra8p0\\localcache\\local-packages\\python312\\site-packages (from transformers==4.43.4->-r requirements.txt (line 2)) (2.31.0)\n",
      "Requirement already satisfied: safetensors>=0.4.1 in c:\\users\\gorku\\appdata\\local\\packages\\pythonsoftwarefoundation.python.3.12_qbz5n2kfra8p0\\localcache\\local-packages\\python312\\site-packages (from transformers==4.43.4->-r requirements.txt (line 2)) (0.4.5)\n",
      "Requirement already satisfied: tokenizers<0.20,>=0.19 in c:\\users\\gorku\\appdata\\local\\packages\\pythonsoftwarefoundation.python.3.12_qbz5n2kfra8p0\\localcache\\local-packages\\python312\\site-packages (from transformers==4.43.4->-r requirements.txt (line 2)) (0.19.1)\n",
      "Requirement already satisfied: tqdm>=4.27 in c:\\users\\gorku\\appdata\\local\\packages\\pythonsoftwarefoundation.python.3.12_qbz5n2kfra8p0\\localcache\\local-packages\\python312\\site-packages (from transformers==4.43.4->-r requirements.txt (line 2)) (4.66.2)\n",
      "Requirement already satisfied: typing-extensions>=4.8.0 in c:\\users\\gorku\\appdata\\local\\packages\\pythonsoftwarefoundation.python.3.12_qbz5n2kfra8p0\\localcache\\local-packages\\python312\\site-packages (from torch==2.4.1->-r requirements.txt (line 3)) (4.11.0)\n",
      "Requirement already satisfied: sympy in c:\\users\\gorku\\appdata\\local\\packages\\pythonsoftwarefoundation.python.3.12_qbz5n2kfra8p0\\localcache\\local-packages\\python312\\site-packages (from torch==2.4.1->-r requirements.txt (line 3)) (1.12)\n",
      "Requirement already satisfied: networkx in c:\\users\\gorku\\appdata\\local\\packages\\pythonsoftwarefoundation.python.3.12_qbz5n2kfra8p0\\localcache\\local-packages\\python312\\site-packages (from torch==2.4.1->-r requirements.txt (line 3)) (3.2.1)\n",
      "Requirement already satisfied: fsspec in c:\\users\\gorku\\appdata\\local\\packages\\pythonsoftwarefoundation.python.3.12_qbz5n2kfra8p0\\localcache\\local-packages\\python312\\site-packages (from torch==2.4.1->-r requirements.txt (line 3)) (2024.3.1)\n",
      "Requirement already satisfied: scikit-learn>=1.0.2 in c:\\users\\gorku\\appdata\\local\\packages\\pythonsoftwarefoundation.python.3.12_qbz5n2kfra8p0\\localcache\\local-packages\\python312\\site-packages (from mteb==1.14.20->-r requirements.txt (line 4)) (1.4.2)\n",
      "Requirement already satisfied: scipy>=0.0.0 in c:\\users\\gorku\\appdata\\local\\packages\\pythonsoftwarefoundation.python.3.12_qbz5n2kfra8p0\\localcache\\local-packages\\python312\\site-packages (from mteb==1.14.20->-r requirements.txt (line 4)) (1.12.0)\n",
      "Requirement already satisfied: sentence-transformers>=3.0.0 in c:\\users\\gorku\\appdata\\local\\packages\\pythonsoftwarefoundation.python.3.12_qbz5n2kfra8p0\\localcache\\local-packages\\python312\\site-packages (from mteb==1.14.20->-r requirements.txt (line 4)) (3.2.0)\n",
      "Requirement already satisfied: rich>=0.0.0 in c:\\users\\gorku\\appdata\\local\\packages\\pythonsoftwarefoundation.python.3.12_qbz5n2kfra8p0\\localcache\\local-packages\\python312\\site-packages (from mteb==1.14.20->-r requirements.txt (line 4)) (13.9.2)\n",
      "Requirement already satisfied: pytrec-eval-terrier>=0.5.6 in c:\\users\\gorku\\appdata\\local\\packages\\pythonsoftwarefoundation.python.3.12_qbz5n2kfra8p0\\localcache\\local-packages\\python312\\site-packages (from mteb==1.14.20->-r requirements.txt (line 4)) (0.5.6)\n",
      "Requirement already satisfied: pydantic>=2.0.0 in c:\\users\\gorku\\appdata\\local\\packages\\pythonsoftwarefoundation.python.3.12_qbz5n2kfra8p0\\localcache\\local-packages\\python312\\site-packages (from mteb==1.14.20->-r requirements.txt (line 4)) (2.9.2)\n",
      "Requirement already satisfied: eval-type-backport>=0.0.0 in c:\\users\\gorku\\appdata\\local\\packages\\pythonsoftwarefoundation.python.3.12_qbz5n2kfra8p0\\localcache\\local-packages\\python312\\site-packages (from mteb==1.14.20->-r requirements.txt (line 4)) (0.2.0)\n",
      "Requirement already satisfied: polars>=0.20.22 in c:\\users\\gorku\\appdata\\local\\packages\\pythonsoftwarefoundation.python.3.12_qbz5n2kfra8p0\\localcache\\local-packages\\python312\\site-packages (from mteb==1.14.20->-r requirements.txt (line 4)) (1.9.0)\n",
      "Requirement already satisfied: pyarrow>=12.0.0 in c:\\users\\gorku\\appdata\\local\\packages\\pythonsoftwarefoundation.python.3.12_qbz5n2kfra8p0\\localcache\\local-packages\\python312\\site-packages (from datasets==2.19.1->-r requirements.txt (line 5)) (15.0.0)\n",
      "Requirement already satisfied: pyarrow-hotfix in c:\\users\\gorku\\appdata\\local\\packages\\pythonsoftwarefoundation.python.3.12_qbz5n2kfra8p0\\localcache\\local-packages\\python312\\site-packages (from datasets==2.19.1->-r requirements.txt (line 5)) (0.6)\n",
      "Requirement already satisfied: dill<0.3.9,>=0.3.0 in c:\\users\\gorku\\appdata\\local\\packages\\pythonsoftwarefoundation.python.3.12_qbz5n2kfra8p0\\localcache\\local-packages\\python312\\site-packages (from datasets==2.19.1->-r requirements.txt (line 5)) (0.3.8)\n",
      "Requirement already satisfied: pandas in c:\\users\\gorku\\appdata\\local\\packages\\pythonsoftwarefoundation.python.3.12_qbz5n2kfra8p0\\localcache\\local-packages\\python312\\site-packages (from datasets==2.19.1->-r requirements.txt (line 5)) (2.2.0)\n",
      "Requirement already satisfied: xxhash in c:\\users\\gorku\\appdata\\local\\packages\\pythonsoftwarefoundation.python.3.12_qbz5n2kfra8p0\\localcache\\local-packages\\python312\\site-packages (from datasets==2.19.1->-r requirements.txt (line 5)) (3.5.0)\n",
      "Requirement already satisfied: multiprocess in c:\\users\\gorku\\appdata\\local\\packages\\pythonsoftwarefoundation.python.3.12_qbz5n2kfra8p0\\localcache\\local-packages\\python312\\site-packages (from datasets==2.19.1->-r requirements.txt (line 5)) (0.70.16)\n",
      "Requirement already satisfied: aiohttp in c:\\users\\gorku\\appdata\\local\\packages\\pythonsoftwarefoundation.python.3.12_qbz5n2kfra8p0\\localcache\\local-packages\\python312\\site-packages (from datasets==2.19.1->-r requirements.txt (line 5)) (3.10.10)\n",
      "Requirement already satisfied: llama-index-core<0.12.0,>=0.11.0 in c:\\users\\gorku\\appdata\\local\\packages\\pythonsoftwarefoundation.python.3.12_qbz5n2kfra8p0\\localcache\\local-packages\\python312\\site-packages (from llama-index-embeddings-huggingface==0.3.1->-r requirements.txt (line 6)) (0.11.17)\n",
      "Requirement already satisfied: llama-index-agent-openai<0.4.0,>=0.3.1 in c:\\users\\gorku\\appdata\\local\\packages\\pythonsoftwarefoundation.python.3.12_qbz5n2kfra8p0\\localcache\\local-packages\\python312\\site-packages (from llama-index==0.11.10->-r requirements.txt (line 7)) (0.3.4)\n",
      "Requirement already satisfied: llama-index-cli<0.4.0,>=0.3.1 in c:\\users\\gorku\\appdata\\local\\packages\\pythonsoftwarefoundation.python.3.12_qbz5n2kfra8p0\\localcache\\local-packages\\python312\\site-packages (from llama-index==0.11.10->-r requirements.txt (line 7)) (0.3.1)\n",
      "Requirement already satisfied: llama-index-embeddings-openai<0.3.0,>=0.2.4 in c:\\users\\gorku\\appdata\\local\\packages\\pythonsoftwarefoundation.python.3.12_qbz5n2kfra8p0\\localcache\\local-packages\\python312\\site-packages (from llama-index==0.11.10->-r requirements.txt (line 7)) (0.2.5)\n",
      "Requirement already satisfied: llama-index-indices-managed-llama-cloud>=0.3.0 in c:\\users\\gorku\\appdata\\local\\packages\\pythonsoftwarefoundation.python.3.12_qbz5n2kfra8p0\\localcache\\local-packages\\python312\\site-packages (from llama-index==0.11.10->-r requirements.txt (line 7)) (0.4.0)\n",
      "Requirement already satisfied: llama-index-legacy<0.10.0,>=0.9.48 in c:\\users\\gorku\\appdata\\local\\packages\\pythonsoftwarefoundation.python.3.12_qbz5n2kfra8p0\\localcache\\local-packages\\python312\\site-packages (from llama-index==0.11.10->-r requirements.txt (line 7)) (0.9.48.post3)\n",
      "Requirement already satisfied: llama-index-llms-openai<0.3.0,>=0.2.3 in c:\\users\\gorku\\appdata\\local\\packages\\pythonsoftwarefoundation.python.3.12_qbz5n2kfra8p0\\localcache\\local-packages\\python312\\site-packages (from llama-index==0.11.10->-r requirements.txt (line 7)) (0.2.13)\n",
      "Requirement already satisfied: llama-index-multi-modal-llms-openai<0.3.0,>=0.2.0 in c:\\users\\gorku\\appdata\\local\\packages\\pythonsoftwarefoundation.python.3.12_qbz5n2kfra8p0\\localcache\\local-packages\\python312\\site-packages (from llama-index==0.11.10->-r requirements.txt (line 7)) (0.2.2)\n",
      "Requirement already satisfied: llama-index-program-openai<0.3.0,>=0.2.0 in c:\\users\\gorku\\appdata\\local\\packages\\pythonsoftwarefoundation.python.3.12_qbz5n2kfra8p0\\localcache\\local-packages\\python312\\site-packages (from llama-index==0.11.10->-r requirements.txt (line 7)) (0.2.0)\n",
      "Requirement already satisfied: llama-index-question-gen-openai<0.3.0,>=0.2.0 in c:\\users\\gorku\\appdata\\local\\packages\\pythonsoftwarefoundation.python.3.12_qbz5n2kfra8p0\\localcache\\local-packages\\python312\\site-packages (from llama-index==0.11.10->-r requirements.txt (line 7)) (0.2.0)\n",
      "Requirement already satisfied: llama-index-readers-file<0.3.0,>=0.2.0 in c:\\users\\gorku\\appdata\\local\\packages\\pythonsoftwarefoundation.python.3.12_qbz5n2kfra8p0\\localcache\\local-packages\\python312\\site-packages (from llama-index==0.11.10->-r requirements.txt (line 7)) (0.2.2)\n",
      "Requirement already satisfied: llama-index-readers-llama-parse>=0.3.0 in c:\\users\\gorku\\appdata\\local\\packages\\pythonsoftwarefoundation.python.3.12_qbz5n2kfra8p0\\localcache\\local-packages\\python312\\site-packages (from llama-index==0.11.10->-r requirements.txt (line 7)) (0.3.0)\n",
      "Requirement already satisfied: nltk>3.8.1 in c:\\users\\gorku\\appdata\\local\\packages\\pythonsoftwarefoundation.python.3.12_qbz5n2kfra8p0\\localcache\\local-packages\\python312\\site-packages (from llama-index==0.11.10->-r requirements.txt (line 7)) (3.9.1)\n",
      "Requirement already satisfied: colorama in c:\\users\\gorku\\appdata\\local\\packages\\pythonsoftwarefoundation.python.3.12_qbz5n2kfra8p0\\localcache\\local-packages\\python312\\site-packages (from click==8.1.7->-r requirements.txt (line 8)) (0.4.6)\n",
      "Requirement already satisfied: aiohappyeyeballs>=2.3.0 in c:\\users\\gorku\\appdata\\local\\packages\\pythonsoftwarefoundation.python.3.12_qbz5n2kfra8p0\\localcache\\local-packages\\python312\\site-packages (from aiohttp->datasets==2.19.1->-r requirements.txt (line 5)) (2.4.3)\n",
      "Requirement already satisfied: aiosignal>=1.1.2 in c:\\users\\gorku\\appdata\\local\\packages\\pythonsoftwarefoundation.python.3.12_qbz5n2kfra8p0\\localcache\\local-packages\\python312\\site-packages (from aiohttp->datasets==2.19.1->-r requirements.txt (line 5)) (1.3.1)\n",
      "Requirement already satisfied: attrs>=17.3.0 in c:\\users\\gorku\\appdata\\local\\packages\\pythonsoftwarefoundation.python.3.12_qbz5n2kfra8p0\\localcache\\local-packages\\python312\\site-packages (from aiohttp->datasets==2.19.1->-r requirements.txt (line 5)) (23.2.0)\n",
      "Requirement already satisfied: frozenlist>=1.1.1 in c:\\users\\gorku\\appdata\\local\\packages\\pythonsoftwarefoundation.python.3.12_qbz5n2kfra8p0\\localcache\\local-packages\\python312\\site-packages (from aiohttp->datasets==2.19.1->-r requirements.txt (line 5)) (1.4.1)\n",
      "Requirement already satisfied: multidict<7.0,>=4.5 in c:\\users\\gorku\\appdata\\local\\packages\\pythonsoftwarefoundation.python.3.12_qbz5n2kfra8p0\\localcache\\local-packages\\python312\\site-packages (from aiohttp->datasets==2.19.1->-r requirements.txt (line 5)) (6.1.0)\n",
      "Requirement already satisfied: yarl<2.0,>=1.12.0 in c:\\users\\gorku\\appdata\\local\\packages\\pythonsoftwarefoundation.python.3.12_qbz5n2kfra8p0\\localcache\\local-packages\\python312\\site-packages (from aiohttp->datasets==2.19.1->-r requirements.txt (line 5)) (1.15.0)\n",
      "Requirement already satisfied: anyio in c:\\users\\gorku\\appdata\\local\\packages\\pythonsoftwarefoundation.python.3.12_qbz5n2kfra8p0\\localcache\\local-packages\\python312\\site-packages (from httpx>=0.25.0->jupyterlab==4.2.5->-r requirements.txt (line 1)) (4.2.0)\n",
      "Requirement already satisfied: certifi in c:\\users\\gorku\\appdata\\local\\packages\\pythonsoftwarefoundation.python.3.12_qbz5n2kfra8p0\\localcache\\local-packages\\python312\\site-packages (from httpx>=0.25.0->jupyterlab==4.2.5->-r requirements.txt (line 1)) (2024.2.2)\n",
      "Requirement already satisfied: httpcore==1.* in c:\\users\\gorku\\appdata\\local\\packages\\pythonsoftwarefoundation.python.3.12_qbz5n2kfra8p0\\localcache\\local-packages\\python312\\site-packages (from httpx>=0.25.0->jupyterlab==4.2.5->-r requirements.txt (line 1)) (1.0.4)\n",
      "Requirement already satisfied: idna in c:\\users\\gorku\\appdata\\local\\packages\\pythonsoftwarefoundation.python.3.12_qbz5n2kfra8p0\\localcache\\local-packages\\python312\\site-packages (from httpx>=0.25.0->jupyterlab==4.2.5->-r requirements.txt (line 1)) (2.10)\n",
      "Requirement already satisfied: sniffio in c:\\users\\gorku\\appdata\\local\\packages\\pythonsoftwarefoundation.python.3.12_qbz5n2kfra8p0\\localcache\\local-packages\\python312\\site-packages (from httpx>=0.25.0->jupyterlab==4.2.5->-r requirements.txt (line 1)) (1.3.0)\n",
      "Requirement already satisfied: h11<0.15,>=0.13 in c:\\users\\gorku\\appdata\\local\\packages\\pythonsoftwarefoundation.python.3.12_qbz5n2kfra8p0\\localcache\\local-packages\\python312\\site-packages (from httpcore==1.*->httpx>=0.25.0->jupyterlab==4.2.5->-r requirements.txt (line 1)) (0.14.0)\n",
      "Requirement already satisfied: minijinja>=1.0 in c:\\users\\gorku\\appdata\\local\\packages\\pythonsoftwarefoundation.python.3.12_qbz5n2kfra8p0\\localcache\\local-packages\\python312\\site-packages (from huggingface-hub[inference]>=0.19.0->llama-index-embeddings-huggingface==0.3.1->-r requirements.txt (line 6)) (2.2.0)\n",
      "Requirement already satisfied: comm>=0.1.1 in c:\\users\\gorku\\appdata\\local\\packages\\pythonsoftwarefoundation.python.3.12_qbz5n2kfra8p0\\localcache\\local-packages\\python312\\site-packages (from ipykernel>=6.5.0->jupyterlab==4.2.5->-r requirements.txt (line 1)) (0.2.1)\n",
      "Requirement already satisfied: debugpy>=1.6.5 in c:\\users\\gorku\\appdata\\local\\packages\\pythonsoftwarefoundation.python.3.12_qbz5n2kfra8p0\\localcache\\local-packages\\python312\\site-packages (from ipykernel>=6.5.0->jupyterlab==4.2.5->-r requirements.txt (line 1)) (1.8.1)\n",
      "Requirement already satisfied: ipython>=7.23.1 in c:\\users\\gorku\\appdata\\local\\packages\\pythonsoftwarefoundation.python.3.12_qbz5n2kfra8p0\\localcache\\local-packages\\python312\\site-packages (from ipykernel>=6.5.0->jupyterlab==4.2.5->-r requirements.txt (line 1)) (8.21.0)\n",
      "Requirement already satisfied: jupyter-client>=6.1.12 in c:\\users\\gorku\\appdata\\local\\packages\\pythonsoftwarefoundation.python.3.12_qbz5n2kfra8p0\\localcache\\local-packages\\python312\\site-packages (from ipykernel>=6.5.0->jupyterlab==4.2.5->-r requirements.txt (line 1)) (8.6.0)\n",
      "Requirement already satisfied: matplotlib-inline>=0.1 in c:\\users\\gorku\\appdata\\local\\packages\\pythonsoftwarefoundation.python.3.12_qbz5n2kfra8p0\\localcache\\local-packages\\python312\\site-packages (from ipykernel>=6.5.0->jupyterlab==4.2.5->-r requirements.txt (line 1)) (0.1.6)\n",
      "Requirement already satisfied: nest-asyncio in c:\\users\\gorku\\appdata\\local\\packages\\pythonsoftwarefoundation.python.3.12_qbz5n2kfra8p0\\localcache\\local-packages\\python312\\site-packages (from ipykernel>=6.5.0->jupyterlab==4.2.5->-r requirements.txt (line 1)) (1.6.0)\n",
      "Requirement already satisfied: psutil in c:\\users\\gorku\\appdata\\local\\packages\\pythonsoftwarefoundation.python.3.12_qbz5n2kfra8p0\\localcache\\local-packages\\python312\\site-packages (from ipykernel>=6.5.0->jupyterlab==4.2.5->-r requirements.txt (line 1)) (5.9.8)\n",
      "Requirement already satisfied: pyzmq>=24 in c:\\users\\gorku\\appdata\\local\\packages\\pythonsoftwarefoundation.python.3.12_qbz5n2kfra8p0\\localcache\\local-packages\\python312\\site-packages (from ipykernel>=6.5.0->jupyterlab==4.2.5->-r requirements.txt (line 1)) (25.1.2)\n",
      "Requirement already satisfied: MarkupSafe>=2.0 in c:\\users\\gorku\\appdata\\local\\packages\\pythonsoftwarefoundation.python.3.12_qbz5n2kfra8p0\\localcache\\local-packages\\python312\\site-packages (from jinja2>=3.0.3->jupyterlab==4.2.5->-r requirements.txt (line 1)) (2.1.5)\n",
      "Requirement already satisfied: platformdirs>=2.5 in c:\\users\\gorku\\appdata\\local\\packages\\pythonsoftwarefoundation.python.3.12_qbz5n2kfra8p0\\localcache\\local-packages\\python312\\site-packages (from jupyter-core->jupyterlab==4.2.5->-r requirements.txt (line 1)) (4.2.0)\n",
      "Requirement already satisfied: pywin32>=300 in c:\\users\\gorku\\appdata\\local\\packages\\pythonsoftwarefoundation.python.3.12_qbz5n2kfra8p0\\localcache\\local-packages\\python312\\site-packages (from jupyter-core->jupyterlab==4.2.5->-r requirements.txt (line 1)) (306)\n",
      "Requirement already satisfied: argon2-cffi in c:\\users\\gorku\\appdata\\local\\packages\\pythonsoftwarefoundation.python.3.12_qbz5n2kfra8p0\\localcache\\local-packages\\python312\\site-packages (from jupyter-server<3,>=2.4.0->jupyterlab==4.2.5->-r requirements.txt (line 1)) (23.1.0)\n",
      "Requirement already satisfied: jupyter-events>=0.9.0 in c:\\users\\gorku\\appdata\\local\\packages\\pythonsoftwarefoundation.python.3.12_qbz5n2kfra8p0\\localcache\\local-packages\\python312\\site-packages (from jupyter-server<3,>=2.4.0->jupyterlab==4.2.5->-r requirements.txt (line 1)) (0.9.0)\n",
      "Requirement already satisfied: jupyter-server-terminals in c:\\users\\gorku\\appdata\\local\\packages\\pythonsoftwarefoundation.python.3.12_qbz5n2kfra8p0\\localcache\\local-packages\\python312\\site-packages (from jupyter-server<3,>=2.4.0->jupyterlab==4.2.5->-r requirements.txt (line 1)) (0.5.2)\n",
      "Requirement already satisfied: nbconvert>=6.4.4 in c:\\users\\gorku\\appdata\\local\\packages\\pythonsoftwarefoundation.python.3.12_qbz5n2kfra8p0\\localcache\\local-packages\\python312\\site-packages (from jupyter-server<3,>=2.4.0->jupyterlab==4.2.5->-r requirements.txt (line 1)) (7.16.0)\n",
      "Requirement already satisfied: nbformat>=5.3.0 in c:\\users\\gorku\\appdata\\local\\packages\\pythonsoftwarefoundation.python.3.12_qbz5n2kfra8p0\\localcache\\local-packages\\python312\\site-packages (from jupyter-server<3,>=2.4.0->jupyterlab==4.2.5->-r requirements.txt (line 1)) (5.9.2)\n",
      "Requirement already satisfied: overrides in c:\\users\\gorku\\appdata\\local\\packages\\pythonsoftwarefoundation.python.3.12_qbz5n2kfra8p0\\localcache\\local-packages\\python312\\site-packages (from jupyter-server<3,>=2.4.0->jupyterlab==4.2.5->-r requirements.txt (line 1)) (7.7.0)\n",
      "Requirement already satisfied: prometheus-client in c:\\users\\gorku\\appdata\\local\\packages\\pythonsoftwarefoundation.python.3.12_qbz5n2kfra8p0\\localcache\\local-packages\\python312\\site-packages (from jupyter-server<3,>=2.4.0->jupyterlab==4.2.5->-r requirements.txt (line 1)) (0.19.0)\n",
      "Requirement already satisfied: pywinpty in c:\\users\\gorku\\appdata\\local\\packages\\pythonsoftwarefoundation.python.3.12_qbz5n2kfra8p0\\localcache\\local-packages\\python312\\site-packages (from jupyter-server<3,>=2.4.0->jupyterlab==4.2.5->-r requirements.txt (line 1)) (2.0.12)\n",
      "Requirement already satisfied: send2trash>=1.8.2 in c:\\users\\gorku\\appdata\\local\\packages\\pythonsoftwarefoundation.python.3.12_qbz5n2kfra8p0\\localcache\\local-packages\\python312\\site-packages (from jupyter-server<3,>=2.4.0->jupyterlab==4.2.5->-r requirements.txt (line 1)) (1.8.2)\n",
      "Requirement already satisfied: terminado>=0.8.3 in c:\\users\\gorku\\appdata\\local\\packages\\pythonsoftwarefoundation.python.3.12_qbz5n2kfra8p0\\localcache\\local-packages\\python312\\site-packages (from jupyter-server<3,>=2.4.0->jupyterlab==4.2.5->-r requirements.txt (line 1)) (0.18.0)\n",
      "Requirement already satisfied: websocket-client in c:\\users\\gorku\\appdata\\local\\packages\\pythonsoftwarefoundation.python.3.12_qbz5n2kfra8p0\\localcache\\local-packages\\python312\\site-packages (from jupyter-server<3,>=2.4.0->jupyterlab==4.2.5->-r requirements.txt (line 1)) (1.7.0)\n",
      "Requirement already satisfied: babel>=2.10 in c:\\users\\gorku\\appdata\\local\\packages\\pythonsoftwarefoundation.python.3.12_qbz5n2kfra8p0\\localcache\\local-packages\\python312\\site-packages (from jupyterlab-server<3,>=2.27.1->jupyterlab==4.2.5->-r requirements.txt (line 1)) (2.14.0)\n",
      "Requirement already satisfied: json5>=0.9.0 in c:\\users\\gorku\\appdata\\local\\packages\\pythonsoftwarefoundation.python.3.12_qbz5n2kfra8p0\\localcache\\local-packages\\python312\\site-packages (from jupyterlab-server<3,>=2.27.1->jupyterlab==4.2.5->-r requirements.txt (line 1)) (0.9.14)\n",
      "Requirement already satisfied: jsonschema>=4.18.0 in c:\\users\\gorku\\appdata\\local\\packages\\pythonsoftwarefoundation.python.3.12_qbz5n2kfra8p0\\localcache\\local-packages\\python312\\site-packages (from jupyterlab-server<3,>=2.27.1->jupyterlab==4.2.5->-r requirements.txt (line 1)) (4.21.1)\n",
      "Requirement already satisfied: openai>=1.14.0 in c:\\users\\gorku\\appdata\\local\\packages\\pythonsoftwarefoundation.python.3.12_qbz5n2kfra8p0\\localcache\\local-packages\\python312\\site-packages (from llama-index-agent-openai<0.4.0,>=0.3.1->llama-index==0.11.10->-r requirements.txt (line 7)) (1.51.2)\n",
      "Requirement already satisfied: SQLAlchemy>=1.4.49 in c:\\users\\gorku\\appdata\\local\\packages\\pythonsoftwarefoundation.python.3.12_qbz5n2kfra8p0\\localcache\\local-packages\\python312\\site-packages (from SQLAlchemy[asyncio]>=1.4.49->llama-index-core<0.12.0,>=0.11.0->llama-index-embeddings-huggingface==0.3.1->-r requirements.txt (line 6)) (2.0.35)\n",
      "Requirement already satisfied: dataclasses-json in c:\\users\\gorku\\appdata\\local\\packages\\pythonsoftwarefoundation.python.3.12_qbz5n2kfra8p0\\localcache\\local-packages\\python312\\site-packages (from llama-index-core<0.12.0,>=0.11.0->llama-index-embeddings-huggingface==0.3.1->-r requirements.txt (line 6)) (0.6.7)\n",
      "Requirement already satisfied: deprecated>=1.2.9.3 in c:\\users\\gorku\\appdata\\local\\packages\\pythonsoftwarefoundation.python.3.12_qbz5n2kfra8p0\\localcache\\local-packages\\python312\\site-packages (from llama-index-core<0.12.0,>=0.11.0->llama-index-embeddings-huggingface==0.3.1->-r requirements.txt (line 6)) (1.2.14)\n",
      "Requirement already satisfied: dirtyjson<2.0.0,>=1.0.8 in c:\\users\\gorku\\appdata\\local\\packages\\pythonsoftwarefoundation.python.3.12_qbz5n2kfra8p0\\localcache\\local-packages\\python312\\site-packages (from llama-index-core<0.12.0,>=0.11.0->llama-index-embeddings-huggingface==0.3.1->-r requirements.txt (line 6)) (1.0.8)\n",
      "Requirement already satisfied: pillow>=9.0.0 in c:\\users\\gorku\\appdata\\local\\packages\\pythonsoftwarefoundation.python.3.12_qbz5n2kfra8p0\\localcache\\local-packages\\python312\\site-packages (from llama-index-core<0.12.0,>=0.11.0->llama-index-embeddings-huggingface==0.3.1->-r requirements.txt (line 6)) (10.2.0)\n",
      "Requirement already satisfied: tenacity!=8.4.0,<9.0.0,>=8.2.0 in c:\\users\\gorku\\appdata\\local\\packages\\pythonsoftwarefoundation.python.3.12_qbz5n2kfra8p0\\localcache\\local-packages\\python312\\site-packages (from llama-index-core<0.12.0,>=0.11.0->llama-index-embeddings-huggingface==0.3.1->-r requirements.txt (line 6)) (8.5.0)\n",
      "Requirement already satisfied: tiktoken>=0.3.3 in c:\\users\\gorku\\appdata\\local\\packages\\pythonsoftwarefoundation.python.3.12_qbz5n2kfra8p0\\localcache\\local-packages\\python312\\site-packages (from llama-index-core<0.12.0,>=0.11.0->llama-index-embeddings-huggingface==0.3.1->-r requirements.txt (line 6)) (0.8.0)\n",
      "Requirement already satisfied: typing-inspect>=0.8.0 in c:\\users\\gorku\\appdata\\local\\packages\\pythonsoftwarefoundation.python.3.12_qbz5n2kfra8p0\\localcache\\local-packages\\python312\\site-packages (from llama-index-core<0.12.0,>=0.11.0->llama-index-embeddings-huggingface==0.3.1->-r requirements.txt (line 6)) (0.9.0)\n",
      "Requirement already satisfied: wrapt in c:\\users\\gorku\\appdata\\local\\packages\\pythonsoftwarefoundation.python.3.12_qbz5n2kfra8p0\\localcache\\local-packages\\python312\\site-packages (from llama-index-core<0.12.0,>=0.11.0->llama-index-embeddings-huggingface==0.3.1->-r requirements.txt (line 6)) (1.16.0)\n",
      "Requirement already satisfied: llama-cloud>=0.0.11 in c:\\users\\gorku\\appdata\\local\\packages\\pythonsoftwarefoundation.python.3.12_qbz5n2kfra8p0\\localcache\\local-packages\\python312\\site-packages (from llama-index-indices-managed-llama-cloud>=0.3.0->llama-index==0.11.10->-r requirements.txt (line 7)) (0.1.2)\n",
      "Requirement already satisfied: beautifulsoup4<5.0.0,>=4.12.3 in c:\\users\\gorku\\appdata\\local\\packages\\pythonsoftwarefoundation.python.3.12_qbz5n2kfra8p0\\localcache\\local-packages\\python312\\site-packages (from llama-index-readers-file<0.3.0,>=0.2.0->llama-index==0.11.10->-r requirements.txt (line 7)) (4.12.3)\n",
      "Requirement already satisfied: pypdf<5.0.0,>=4.0.1 in c:\\users\\gorku\\appdata\\local\\packages\\pythonsoftwarefoundation.python.3.12_qbz5n2kfra8p0\\localcache\\local-packages\\python312\\site-packages (from llama-index-readers-file<0.3.0,>=0.2.0->llama-index==0.11.10->-r requirements.txt (line 7)) (4.3.1)\n",
      "Requirement already satisfied: striprtf<0.0.27,>=0.0.26 in c:\\users\\gorku\\appdata\\local\\packages\\pythonsoftwarefoundation.python.3.12_qbz5n2kfra8p0\\localcache\\local-packages\\python312\\site-packages (from llama-index-readers-file<0.3.0,>=0.2.0->llama-index==0.11.10->-r requirements.txt (line 7)) (0.0.26)\n",
      "Requirement already satisfied: llama-parse>=0.5.0 in c:\\users\\gorku\\appdata\\local\\packages\\pythonsoftwarefoundation.python.3.12_qbz5n2kfra8p0\\localcache\\local-packages\\python312\\site-packages (from llama-index-readers-llama-parse>=0.3.0->llama-index==0.11.10->-r requirements.txt (line 7)) (0.5.7)\n",
      "Requirement already satisfied: joblib in c:\\users\\gorku\\appdata\\local\\packages\\pythonsoftwarefoundation.python.3.12_qbz5n2kfra8p0\\localcache\\local-packages\\python312\\site-packages (from nltk>3.8.1->llama-index==0.11.10->-r requirements.txt (line 7)) (1.4.0)\n",
      "Requirement already satisfied: annotated-types>=0.6.0 in c:\\users\\gorku\\appdata\\local\\packages\\pythonsoftwarefoundation.python.3.12_qbz5n2kfra8p0\\localcache\\local-packages\\python312\\site-packages (from pydantic>=2.0.0->mteb==1.14.20->-r requirements.txt (line 4)) (0.7.0)\n",
      "Requirement already satisfied: pydantic-core==2.23.4 in c:\\users\\gorku\\appdata\\local\\packages\\pythonsoftwarefoundation.python.3.12_qbz5n2kfra8p0\\localcache\\local-packages\\python312\\site-packages (from pydantic>=2.0.0->mteb==1.14.20->-r requirements.txt (line 4)) (2.23.4)\n",
      "Requirement already satisfied: charset-normalizer<4,>=2 in c:\\users\\gorku\\appdata\\local\\packages\\pythonsoftwarefoundation.python.3.12_qbz5n2kfra8p0\\localcache\\local-packages\\python312\\site-packages (from requests->transformers==4.43.4->-r requirements.txt (line 2)) (3.3.2)\n",
      "Requirement already satisfied: urllib3<3,>=1.21.1 in c:\\users\\gorku\\appdata\\local\\packages\\pythonsoftwarefoundation.python.3.12_qbz5n2kfra8p0\\localcache\\local-packages\\python312\\site-packages (from requests->transformers==4.43.4->-r requirements.txt (line 2)) (2.2.0)\n",
      "Requirement already satisfied: markdown-it-py>=2.2.0 in c:\\users\\gorku\\appdata\\local\\packages\\pythonsoftwarefoundation.python.3.12_qbz5n2kfra8p0\\localcache\\local-packages\\python312\\site-packages (from rich>=0.0.0->mteb==1.14.20->-r requirements.txt (line 4)) (3.0.0)\n",
      "Requirement already satisfied: pygments<3.0.0,>=2.13.0 in c:\\users\\gorku\\appdata\\local\\packages\\pythonsoftwarefoundation.python.3.12_qbz5n2kfra8p0\\localcache\\local-packages\\python312\\site-packages (from rich>=0.0.0->mteb==1.14.20->-r requirements.txt (line 4)) (2.17.2)\n",
      "Requirement already satisfied: threadpoolctl>=2.0.0 in c:\\users\\gorku\\appdata\\local\\packages\\pythonsoftwarefoundation.python.3.12_qbz5n2kfra8p0\\localcache\\local-packages\\python312\\site-packages (from scikit-learn>=1.0.2->mteb==1.14.20->-r requirements.txt (line 4)) (3.4.0)\n",
      "Requirement already satisfied: python-dateutil>=2.8.2 in c:\\users\\gorku\\appdata\\local\\packages\\pythonsoftwarefoundation.python.3.12_qbz5n2kfra8p0\\localcache\\local-packages\\python312\\site-packages (from pandas->datasets==2.19.1->-r requirements.txt (line 5)) (2.8.2)\n",
      "Requirement already satisfied: pytz>=2020.1 in c:\\users\\gorku\\appdata\\local\\packages\\pythonsoftwarefoundation.python.3.12_qbz5n2kfra8p0\\localcache\\local-packages\\python312\\site-packages (from pandas->datasets==2.19.1->-r requirements.txt (line 5)) (2024.1)\n",
      "Requirement already satisfied: tzdata>=2022.7 in c:\\users\\gorku\\appdata\\local\\packages\\pythonsoftwarefoundation.python.3.12_qbz5n2kfra8p0\\localcache\\local-packages\\python312\\site-packages (from pandas->datasets==2.19.1->-r requirements.txt (line 5)) (2024.1)\n",
      "Requirement already satisfied: mpmath>=0.19 in c:\\users\\gorku\\appdata\\local\\packages\\pythonsoftwarefoundation.python.3.12_qbz5n2kfra8p0\\localcache\\local-packages\\python312\\site-packages (from sympy->torch==2.4.1->-r requirements.txt (line 3)) (1.3.0)\n",
      "Requirement already satisfied: soupsieve>1.2 in c:\\users\\gorku\\appdata\\local\\packages\\pythonsoftwarefoundation.python.3.12_qbz5n2kfra8p0\\localcache\\local-packages\\python312\\site-packages (from beautifulsoup4<5.0.0,>=4.12.3->llama-index-readers-file<0.3.0,>=0.2.0->llama-index==0.11.10->-r requirements.txt (line 7)) (2.5)\n",
      "Requirement already satisfied: decorator in c:\\users\\gorku\\appdata\\local\\packages\\pythonsoftwarefoundation.python.3.12_qbz5n2kfra8p0\\localcache\\local-packages\\python312\\site-packages (from ipython>=7.23.1->ipykernel>=6.5.0->jupyterlab==4.2.5->-r requirements.txt (line 1)) (5.1.1)\n",
      "Requirement already satisfied: jedi>=0.16 in c:\\users\\gorku\\appdata\\local\\packages\\pythonsoftwarefoundation.python.3.12_qbz5n2kfra8p0\\localcache\\local-packages\\python312\\site-packages (from ipython>=7.23.1->ipykernel>=6.5.0->jupyterlab==4.2.5->-r requirements.txt (line 1)) (0.19.1)\n",
      "Requirement already satisfied: prompt-toolkit<3.1.0,>=3.0.41 in c:\\users\\gorku\\appdata\\local\\packages\\pythonsoftwarefoundation.python.3.12_qbz5n2kfra8p0\\localcache\\local-packages\\python312\\site-packages (from ipython>=7.23.1->ipykernel>=6.5.0->jupyterlab==4.2.5->-r requirements.txt (line 1)) (3.0.43)\n",
      "Requirement already satisfied: stack-data in c:\\users\\gorku\\appdata\\local\\packages\\pythonsoftwarefoundation.python.3.12_qbz5n2kfra8p0\\localcache\\local-packages\\python312\\site-packages (from ipython>=7.23.1->ipykernel>=6.5.0->jupyterlab==4.2.5->-r requirements.txt (line 1)) (0.6.3)\n",
      "Requirement already satisfied: jsonschema-specifications>=2023.03.6 in c:\\users\\gorku\\appdata\\local\\packages\\pythonsoftwarefoundation.python.3.12_qbz5n2kfra8p0\\localcache\\local-packages\\python312\\site-packages (from jsonschema>=4.18.0->jupyterlab-server<3,>=2.27.1->jupyterlab==4.2.5->-r requirements.txt (line 1)) (2023.12.1)\n",
      "Requirement already satisfied: referencing>=0.28.4 in c:\\users\\gorku\\appdata\\local\\packages\\pythonsoftwarefoundation.python.3.12_qbz5n2kfra8p0\\localcache\\local-packages\\python312\\site-packages (from jsonschema>=4.18.0->jupyterlab-server<3,>=2.27.1->jupyterlab==4.2.5->-r requirements.txt (line 1)) (0.33.0)\n",
      "Requirement already satisfied: rpds-py>=0.7.1 in c:\\users\\gorku\\appdata\\local\\packages\\pythonsoftwarefoundation.python.3.12_qbz5n2kfra8p0\\localcache\\local-packages\\python312\\site-packages (from jsonschema>=4.18.0->jupyterlab-server<3,>=2.27.1->jupyterlab==4.2.5->-r requirements.txt (line 1)) (0.17.1)\n",
      "Requirement already satisfied: python-json-logger>=2.0.4 in c:\\users\\gorku\\appdata\\local\\packages\\pythonsoftwarefoundation.python.3.12_qbz5n2kfra8p0\\localcache\\local-packages\\python312\\site-packages (from jupyter-events>=0.9.0->jupyter-server<3,>=2.4.0->jupyterlab==4.2.5->-r requirements.txt (line 1)) (2.0.7)\n",
      "Requirement already satisfied: rfc3339-validator in c:\\users\\gorku\\appdata\\local\\packages\\pythonsoftwarefoundation.python.3.12_qbz5n2kfra8p0\\localcache\\local-packages\\python312\\site-packages (from jupyter-events>=0.9.0->jupyter-server<3,>=2.4.0->jupyterlab==4.2.5->-r requirements.txt (line 1)) (0.1.4)\n",
      "Requirement already satisfied: rfc3986-validator>=0.1.1 in c:\\users\\gorku\\appdata\\local\\packages\\pythonsoftwarefoundation.python.3.12_qbz5n2kfra8p0\\localcache\\local-packages\\python312\\site-packages (from jupyter-events>=0.9.0->jupyter-server<3,>=2.4.0->jupyterlab==4.2.5->-r requirements.txt (line 1)) (0.1.1)\n",
      "Requirement already satisfied: mdurl~=0.1 in c:\\users\\gorku\\appdata\\local\\packages\\pythonsoftwarefoundation.python.3.12_qbz5n2kfra8p0\\localcache\\local-packages\\python312\\site-packages (from markdown-it-py>=2.2.0->rich>=0.0.0->mteb==1.14.20->-r requirements.txt (line 4)) (0.1.2)\n",
      "Requirement already satisfied: bleach!=5.0.0 in c:\\users\\gorku\\appdata\\local\\packages\\pythonsoftwarefoundation.python.3.12_qbz5n2kfra8p0\\localcache\\local-packages\\python312\\site-packages (from nbconvert>=6.4.4->jupyter-server<3,>=2.4.0->jupyterlab==4.2.5->-r requirements.txt (line 1)) (6.1.0)\n",
      "Requirement already satisfied: defusedxml in c:\\users\\gorku\\appdata\\local\\packages\\pythonsoftwarefoundation.python.3.12_qbz5n2kfra8p0\\localcache\\local-packages\\python312\\site-packages (from nbconvert>=6.4.4->jupyter-server<3,>=2.4.0->jupyterlab==4.2.5->-r requirements.txt (line 1)) (0.7.1)\n",
      "Requirement already satisfied: jupyterlab-pygments in c:\\users\\gorku\\appdata\\local\\packages\\pythonsoftwarefoundation.python.3.12_qbz5n2kfra8p0\\localcache\\local-packages\\python312\\site-packages (from nbconvert>=6.4.4->jupyter-server<3,>=2.4.0->jupyterlab==4.2.5->-r requirements.txt (line 1)) (0.3.0)\n",
      "Requirement already satisfied: mistune<4,>=2.0.3 in c:\\users\\gorku\\appdata\\local\\packages\\pythonsoftwarefoundation.python.3.12_qbz5n2kfra8p0\\localcache\\local-packages\\python312\\site-packages (from nbconvert>=6.4.4->jupyter-server<3,>=2.4.0->jupyterlab==4.2.5->-r requirements.txt (line 1)) (3.0.2)\n",
      "Requirement already satisfied: nbclient>=0.5.0 in c:\\users\\gorku\\appdata\\local\\packages\\pythonsoftwarefoundation.python.3.12_qbz5n2kfra8p0\\localcache\\local-packages\\python312\\site-packages (from nbconvert>=6.4.4->jupyter-server<3,>=2.4.0->jupyterlab==4.2.5->-r requirements.txt (line 1)) (0.9.0)\n",
      "Requirement already satisfied: pandocfilters>=1.4.1 in c:\\users\\gorku\\appdata\\local\\packages\\pythonsoftwarefoundation.python.3.12_qbz5n2kfra8p0\\localcache\\local-packages\\python312\\site-packages (from nbconvert>=6.4.4->jupyter-server<3,>=2.4.0->jupyterlab==4.2.5->-r requirements.txt (line 1)) (1.5.1)\n",
      "Requirement already satisfied: tinycss2 in c:\\users\\gorku\\appdata\\local\\packages\\pythonsoftwarefoundation.python.3.12_qbz5n2kfra8p0\\localcache\\local-packages\\python312\\site-packages (from nbconvert>=6.4.4->jupyter-server<3,>=2.4.0->jupyterlab==4.2.5->-r requirements.txt (line 1)) (1.2.1)\n",
      "Requirement already satisfied: fastjsonschema in c:\\users\\gorku\\appdata\\local\\packages\\pythonsoftwarefoundation.python.3.12_qbz5n2kfra8p0\\localcache\\local-packages\\python312\\site-packages (from nbformat>=5.3.0->jupyter-server<3,>=2.4.0->jupyterlab==4.2.5->-r requirements.txt (line 1)) (2.19.1)\n",
      "Requirement already satisfied: distro<2,>=1.7.0 in c:\\users\\gorku\\appdata\\local\\packages\\pythonsoftwarefoundation.python.3.12_qbz5n2kfra8p0\\localcache\\local-packages\\python312\\site-packages (from openai>=1.14.0->llama-index-agent-openai<0.4.0,>=0.3.1->llama-index==0.11.10->-r requirements.txt (line 7)) (1.9.0)\n",
      "Requirement already satisfied: jiter<1,>=0.4.0 in c:\\users\\gorku\\appdata\\local\\packages\\pythonsoftwarefoundation.python.3.12_qbz5n2kfra8p0\\localcache\\local-packages\\python312\\site-packages (from openai>=1.14.0->llama-index-agent-openai<0.4.0,>=0.3.1->llama-index==0.11.10->-r requirements.txt (line 7)) (0.6.1)\n",
      "Requirement already satisfied: six>=1.5 in c:\\users\\gorku\\appdata\\local\\packages\\pythonsoftwarefoundation.python.3.12_qbz5n2kfra8p0\\localcache\\local-packages\\python312\\site-packages (from python-dateutil>=2.8.2->pandas->datasets==2.19.1->-r requirements.txt (line 5)) (1.16.0)\n",
      "Requirement already satisfied: greenlet!=0.4.17 in c:\\users\\gorku\\appdata\\local\\packages\\pythonsoftwarefoundation.python.3.12_qbz5n2kfra8p0\\localcache\\local-packages\\python312\\site-packages (from SQLAlchemy>=1.4.49->SQLAlchemy[asyncio]>=1.4.49->llama-index-core<0.12.0,>=0.11.0->llama-index-embeddings-huggingface==0.3.1->-r requirements.txt (line 6)) (3.1.1)\n",
      "Requirement already satisfied: mypy-extensions>=0.3.0 in c:\\users\\gorku\\appdata\\local\\packages\\pythonsoftwarefoundation.python.3.12_qbz5n2kfra8p0\\localcache\\local-packages\\python312\\site-packages (from typing-inspect>=0.8.0->llama-index-core<0.12.0,>=0.11.0->llama-index-embeddings-huggingface==0.3.1->-r requirements.txt (line 6)) (1.0.0)\n",
      "Requirement already satisfied: propcache>=0.2.0 in c:\\users\\gorku\\appdata\\local\\packages\\pythonsoftwarefoundation.python.3.12_qbz5n2kfra8p0\\localcache\\local-packages\\python312\\site-packages (from yarl<2.0,>=1.12.0->aiohttp->datasets==2.19.1->-r requirements.txt (line 5)) (0.2.0)\n",
      "Requirement already satisfied: argon2-cffi-bindings in c:\\users\\gorku\\appdata\\local\\packages\\pythonsoftwarefoundation.python.3.12_qbz5n2kfra8p0\\localcache\\local-packages\\python312\\site-packages (from argon2-cffi->jupyter-server<3,>=2.4.0->jupyterlab==4.2.5->-r requirements.txt (line 1)) (21.2.0)\n",
      "Requirement already satisfied: marshmallow<4.0.0,>=3.18.0 in c:\\users\\gorku\\appdata\\local\\packages\\pythonsoftwarefoundation.python.3.12_qbz5n2kfra8p0\\localcache\\local-packages\\python312\\site-packages (from dataclasses-json->llama-index-core<0.12.0,>=0.11.0->llama-index-embeddings-huggingface==0.3.1->-r requirements.txt (line 6)) (3.22.0)\n",
      "Requirement already satisfied: webencodings in c:\\users\\gorku\\appdata\\local\\packages\\pythonsoftwarefoundation.python.3.12_qbz5n2kfra8p0\\localcache\\local-packages\\python312\\site-packages (from bleach!=5.0.0->nbconvert>=6.4.4->jupyter-server<3,>=2.4.0->jupyterlab==4.2.5->-r requirements.txt (line 1)) (0.5.1)\n",
      "Requirement already satisfied: parso<0.9.0,>=0.8.3 in c:\\users\\gorku\\appdata\\local\\packages\\pythonsoftwarefoundation.python.3.12_qbz5n2kfra8p0\\localcache\\local-packages\\python312\\site-packages (from jedi>=0.16->ipython>=7.23.1->ipykernel>=6.5.0->jupyterlab==4.2.5->-r requirements.txt (line 1)) (0.8.3)\n",
      "Requirement already satisfied: fqdn in c:\\users\\gorku\\appdata\\local\\packages\\pythonsoftwarefoundation.python.3.12_qbz5n2kfra8p0\\localcache\\local-packages\\python312\\site-packages (from jsonschema[format-nongpl]>=4.18.0->jupyter-events>=0.9.0->jupyter-server<3,>=2.4.0->jupyterlab==4.2.5->-r requirements.txt (line 1)) (1.5.1)\n",
      "Requirement already satisfied: isoduration in c:\\users\\gorku\\appdata\\local\\packages\\pythonsoftwarefoundation.python.3.12_qbz5n2kfra8p0\\localcache\\local-packages\\python312\\site-packages (from jsonschema[format-nongpl]>=4.18.0->jupyter-events>=0.9.0->jupyter-server<3,>=2.4.0->jupyterlab==4.2.5->-r requirements.txt (line 1)) (20.11.0)\n",
      "Requirement already satisfied: jsonpointer>1.13 in c:\\users\\gorku\\appdata\\local\\packages\\pythonsoftwarefoundation.python.3.12_qbz5n2kfra8p0\\localcache\\local-packages\\python312\\site-packages (from jsonschema[format-nongpl]>=4.18.0->jupyter-events>=0.9.0->jupyter-server<3,>=2.4.0->jupyterlab==4.2.5->-r requirements.txt (line 1)) (2.4)\n",
      "Requirement already satisfied: uri-template in c:\\users\\gorku\\appdata\\local\\packages\\pythonsoftwarefoundation.python.3.12_qbz5n2kfra8p0\\localcache\\local-packages\\python312\\site-packages (from jsonschema[format-nongpl]>=4.18.0->jupyter-events>=0.9.0->jupyter-server<3,>=2.4.0->jupyterlab==4.2.5->-r requirements.txt (line 1)) (1.3.0)\n",
      "Requirement already satisfied: webcolors>=1.11 in c:\\users\\gorku\\appdata\\local\\packages\\pythonsoftwarefoundation.python.3.12_qbz5n2kfra8p0\\localcache\\local-packages\\python312\\site-packages (from jsonschema[format-nongpl]>=4.18.0->jupyter-events>=0.9.0->jupyter-server<3,>=2.4.0->jupyterlab==4.2.5->-r requirements.txt (line 1)) (1.13)\n",
      "Requirement already satisfied: wcwidth in c:\\users\\gorku\\appdata\\local\\packages\\pythonsoftwarefoundation.python.3.12_qbz5n2kfra8p0\\localcache\\local-packages\\python312\\site-packages (from prompt-toolkit<3.1.0,>=3.0.41->ipython>=7.23.1->ipykernel>=6.5.0->jupyterlab==4.2.5->-r requirements.txt (line 1)) (0.2.13)\n",
      "Requirement already satisfied: cffi>=1.0.1 in c:\\users\\gorku\\appdata\\local\\packages\\pythonsoftwarefoundation.python.3.12_qbz5n2kfra8p0\\localcache\\local-packages\\python312\\site-packages (from argon2-cffi-bindings->argon2-cffi->jupyter-server<3,>=2.4.0->jupyterlab==4.2.5->-r requirements.txt (line 1)) (1.16.0)\n",
      "Requirement already satisfied: executing>=1.2.0 in c:\\users\\gorku\\appdata\\local\\packages\\pythonsoftwarefoundation.python.3.12_qbz5n2kfra8p0\\localcache\\local-packages\\python312\\site-packages (from stack-data->ipython>=7.23.1->ipykernel>=6.5.0->jupyterlab==4.2.5->-r requirements.txt (line 1)) (2.0.1)\n",
      "Requirement already satisfied: asttokens>=2.1.0 in c:\\users\\gorku\\appdata\\local\\packages\\pythonsoftwarefoundation.python.3.12_qbz5n2kfra8p0\\localcache\\local-packages\\python312\\site-packages (from stack-data->ipython>=7.23.1->ipykernel>=6.5.0->jupyterlab==4.2.5->-r requirements.txt (line 1)) (2.4.1)\n",
      "Requirement already satisfied: pure-eval in c:\\users\\gorku\\appdata\\local\\packages\\pythonsoftwarefoundation.python.3.12_qbz5n2kfra8p0\\localcache\\local-packages\\python312\\site-packages (from stack-data->ipython>=7.23.1->ipykernel>=6.5.0->jupyterlab==4.2.5->-r requirements.txt (line 1)) (0.2.2)\n",
      "Requirement already satisfied: pycparser in c:\\users\\gorku\\appdata\\local\\packages\\pythonsoftwarefoundation.python.3.12_qbz5n2kfra8p0\\localcache\\local-packages\\python312\\site-packages (from cffi>=1.0.1->argon2-cffi-bindings->argon2-cffi->jupyter-server<3,>=2.4.0->jupyterlab==4.2.5->-r requirements.txt (line 1)) (2.21)\n",
      "Requirement already satisfied: arrow>=0.15.0 in c:\\users\\gorku\\appdata\\local\\packages\\pythonsoftwarefoundation.python.3.12_qbz5n2kfra8p0\\localcache\\local-packages\\python312\\site-packages (from isoduration->jsonschema[format-nongpl]>=4.18.0->jupyter-events>=0.9.0->jupyter-server<3,>=2.4.0->jupyterlab==4.2.5->-r requirements.txt (line 1)) (1.3.0)\n",
      "Requirement already satisfied: types-python-dateutil>=2.8.10 in c:\\users\\gorku\\appdata\\local\\packages\\pythonsoftwarefoundation.python.3.12_qbz5n2kfra8p0\\localcache\\local-packages\\python312\\site-packages (from arrow>=0.15.0->isoduration->jsonschema[format-nongpl]>=4.18.0->jupyter-events>=0.9.0->jupyter-server<3,>=2.4.0->jupyterlab==4.2.5->-r requirements.txt (line 1)) (2.8.19.20240106)\n"
     ]
    }
   ],
   "source": [
    "!pip install -r requirements.txt"
   ]
  },
  {
   "cell_type": "markdown",
   "id": "58a8fbc1e477db48",
   "metadata": {
    "collapsed": false,
    "jupyter": {
     "outputs_hidden": false
    }
   },
   "source": [
    "Then we load a model which we want to use for the embedding. We choose `jinaai/jina-embeddings-v2-base-en` but any other model which supports mean pooling is possible. However, models with a large maximum context-length are preferred."
   ]
  },
  {
   "cell_type": "code",
   "execution_count": 5,
   "id": "1380abf7acde9517",
   "metadata": {
    "collapsed": false,
    "jupyter": {
     "outputs_hidden": false
    }
   },
   "outputs": [
    {
     "data": {
      "application/vnd.jupyter.widget-view+json": {
       "model_id": "b477d86c8e46401581497e0e50c5f4f8",
       "version_major": 2,
       "version_minor": 0
      },
      "text/plain": [
       "tokenizer_config.json:   0%|          | 0.00/373 [00:00<?, ?B/s]"
      ]
     },
     "metadata": {},
     "output_type": "display_data"
    },
    {
     "name": "stderr",
     "output_type": "stream",
     "text": [
      "C:\\Users\\gorku\\AppData\\Local\\Packages\\PythonSoftwareFoundation.Python.3.12_qbz5n2kfra8p0\\LocalCache\\local-packages\\Python312\\site-packages\\huggingface_hub\\file_download.py:147: UserWarning: `huggingface_hub` cache-system uses symlinks by default to efficiently store duplicated files but your machine does not support them in C:\\Users\\gorku\\.cache\\huggingface\\hub\\models--jinaai--jina-embeddings-v2-base-en. Caching files will still work but in a degraded version that might require more space on your disk. This warning can be disabled by setting the `HF_HUB_DISABLE_SYMLINKS_WARNING` environment variable. For more details, see https://huggingface.co/docs/huggingface_hub/how-to-cache#limitations.\n",
      "To support symlinks on Windows, you either need to activate Developer Mode or to run Python as an administrator. In order to activate developer mode, see this article: https://docs.microsoft.com/en-us/windows/apps/get-started/enable-your-device-for-development\n",
      "  warnings.warn(message)\n"
     ]
    },
    {
     "data": {
      "application/vnd.jupyter.widget-view+json": {
       "model_id": "22dc0de8011a4f8a8859162282ce9ca5",
       "version_major": 2,
       "version_minor": 0
      },
      "text/plain": [
       "vocab.txt:   0%|          | 0.00/232k [00:00<?, ?B/s]"
      ]
     },
     "metadata": {},
     "output_type": "display_data"
    },
    {
     "data": {
      "application/vnd.jupyter.widget-view+json": {
       "model_id": "61cb21efebd847ea99b8a52d43d46a5b",
       "version_major": 2,
       "version_minor": 0
      },
      "text/plain": [
       "tokenizer.json:   0%|          | 0.00/712k [00:00<?, ?B/s]"
      ]
     },
     "metadata": {},
     "output_type": "display_data"
    },
    {
     "data": {
      "application/vnd.jupyter.widget-view+json": {
       "model_id": "a2fb616d11fe4af393380e1d8df0fc23",
       "version_major": 2,
       "version_minor": 0
      },
      "text/plain": [
       "special_tokens_map.json:   0%|          | 0.00/125 [00:00<?, ?B/s]"
      ]
     },
     "metadata": {},
     "output_type": "display_data"
    },
    {
     "data": {
      "application/vnd.jupyter.widget-view+json": {
       "model_id": "db66ecfc4ddf44ee82309d9cfb82932b",
       "version_major": 2,
       "version_minor": 0
      },
      "text/plain": [
       "config.json:   0%|          | 0.00/1.18k [00:00<?, ?B/s]"
      ]
     },
     "metadata": {},
     "output_type": "display_data"
    },
    {
     "data": {
      "application/vnd.jupyter.widget-view+json": {
       "model_id": "1c9fca8223f244c0852490db99eba12a",
       "version_major": 2,
       "version_minor": 0
      },
      "text/plain": [
       "configuration_bert.py:   0%|          | 0.00/8.24k [00:00<?, ?B/s]"
      ]
     },
     "metadata": {},
     "output_type": "display_data"
    },
    {
     "name": "stderr",
     "output_type": "stream",
     "text": [
      "C:\\Users\\gorku\\AppData\\Local\\Packages\\PythonSoftwareFoundation.Python.3.12_qbz5n2kfra8p0\\LocalCache\\local-packages\\Python312\\site-packages\\huggingface_hub\\file_download.py:147: UserWarning: `huggingface_hub` cache-system uses symlinks by default to efficiently store duplicated files but your machine does not support them in C:\\Users\\gorku\\.cache\\huggingface\\hub\\models--jinaai--jina-bert-implementation. Caching files will still work but in a degraded version that might require more space on your disk. This warning can be disabled by setting the `HF_HUB_DISABLE_SYMLINKS_WARNING` environment variable. For more details, see https://huggingface.co/docs/huggingface_hub/how-to-cache#limitations.\n",
      "To support symlinks on Windows, you either need to activate Developer Mode or to run Python as an administrator. In order to activate developer mode, see this article: https://docs.microsoft.com/en-us/windows/apps/get-started/enable-your-device-for-development\n",
      "  warnings.warn(message)\n",
      "A new version of the following files was downloaded from https://huggingface.co/jinaai/jina-bert-implementation:\n",
      "- configuration_bert.py\n",
      ". Make sure to double-check they do not contain any added malicious code. To avoid downloading new versions of the code file, you can pin a revision.\n"
     ]
    },
    {
     "data": {
      "application/vnd.jupyter.widget-view+json": {
       "model_id": "4ed4fedc3b7b4fcda9530c0454ae3e79",
       "version_major": 2,
       "version_minor": 0
      },
      "text/plain": [
       "modeling_bert.py:   0%|          | 0.00/97.7k [00:00<?, ?B/s]"
      ]
     },
     "metadata": {},
     "output_type": "display_data"
    },
    {
     "name": "stderr",
     "output_type": "stream",
     "text": [
      "A new version of the following files was downloaded from https://huggingface.co/jinaai/jina-bert-implementation:\n",
      "- modeling_bert.py\n",
      ". Make sure to double-check they do not contain any added malicious code. To avoid downloading new versions of the code file, you can pin a revision.\n"
     ]
    },
    {
     "data": {
      "application/vnd.jupyter.widget-view+json": {
       "model_id": "9b1daa7fb12e4b5ab09a4e1334766767",
       "version_major": 2,
       "version_minor": 0
      },
      "text/plain": [
       "model.safetensors:   0%|          | 0.00/275M [00:00<?, ?B/s]"
      ]
     },
     "metadata": {},
     "output_type": "display_data"
    }
   ],
   "source": [
    "from transformers import AutoModel\n",
    "from transformers import AutoTokenizer\n",
    "\n",
    "from chunked_pooling import chunked_pooling, chunk_by_sentences\n",
    "\n",
    "# load model and tokenizer\n",
    "tokenizer = AutoTokenizer.from_pretrained('jinaai/jina-embeddings-v2-base-en', trust_remote_code=True)\n",
    "model = AutoModel.from_pretrained('jinaai/jina-embeddings-v2-base-en', trust_remote_code=True)"
   ]
  },
  {
   "cell_type": "markdown",
   "id": "2cc0c1162797ffb0",
   "metadata": {
    "collapsed": false,
    "jupyter": {
     "outputs_hidden": false
    }
   },
   "source": [
    "Now we define the text which we want to encode and split it into chunks. The `chunk_by_sentences` function also returns the span annotations. Those specify the number of tokens per chunk which is needed for the chunked pooling."
   ]
  },
  {
   "cell_type": "code",
   "execution_count": 6,
   "id": "8ef392f3437ef82e",
   "metadata": {
    "collapsed": false,
    "jupyter": {
     "outputs_hidden": false
    }
   },
   "outputs": [
    {
     "name": "stdout",
     "output_type": "stream",
     "text": [
      "Chunks:\n",
      "- \"Berlin is the capital and largest city of Germany, both by area and by population.\"\n",
      "- \" Its more than 3.85 million inhabitants make it the European Union's most populous city, as measured by population within city limits.\"\n",
      "- \" The city is also one of the states of Germany, and is the third smallest state in the country in terms of area.\"\n"
     ]
    }
   ],
   "source": [
    "input_text = \"Berlin is the capital and largest city of Germany, both by area and by population. Its more than 3.85 million inhabitants make it the European Union's most populous city, as measured by population within city limits. The city is also one of the states of Germany, and is the third smallest state in the country in terms of area.\"\n",
    "\n",
    "# determine chunks\n",
    "chunks, span_annotations = chunk_by_sentences(input_text, tokenizer)\n",
    "print('Chunks:\\n- \"' + '\"\\n- \"'.join(chunks) + '\"')\n"
   ]
  },
  {
   "cell_type": "markdown",
   "id": "9ac41fd1f0560da7",
   "metadata": {
    "collapsed": false,
    "jupyter": {
     "outputs_hidden": false
    }
   },
   "source": [
    "Now we encode the chunks with the traditional and the context-sensitive chunked pooling method:"
   ]
  },
  {
   "cell_type": "code",
   "execution_count": 7,
   "id": "abe3d93b9e6609b9",
   "metadata": {
    "collapsed": false,
    "jupyter": {
     "outputs_hidden": false
    }
   },
   "outputs": [],
   "source": [
    "# chunk before\n",
    "embeddings_traditional_chunking = model.encode(chunks)\n",
    "\n",
    "# chunk afterwards (context-sensitive chunked pooling)\n",
    "inputs = tokenizer(input_text, return_tensors='pt')\n",
    "model_output = model(**inputs)\n",
    "embeddings = chunked_pooling(model_output, [span_annotations])[0]"
   ]
  },
  {
   "cell_type": "markdown",
   "id": "e84b1b9d48cb6367",
   "metadata": {
    "collapsed": false,
    "jupyter": {
     "outputs_hidden": false
    }
   },
   "source": [
    "Finally, we compare the similarity of the word \"Berlin\" with the chunks. The similarity should be higher for the context-sensitive chunked pooling method:"
   ]
  },
  {
   "cell_type": "code",
   "execution_count": 8,
   "id": "da0cec59a3ece76",
   "metadata": {
    "collapsed": false,
    "jupyter": {
     "outputs_hidden": false
    }
   },
   "outputs": [
    {
     "name": "stdout",
     "output_type": "stream",
     "text": [
      "similarity_new(\"Berlin\", \"Berlin is the capital and largest city of Germany, both by area and by population.\"): 0.849546\n",
      "similarity_trad(\"Berlin\", \"Berlin is the capital and largest city of Germany, both by area and by population.\"): 0.84862185\n",
      "similarity_new(\"Berlin\", \" Its more than 3.85 million inhabitants make it the European Union's most populous city, as measured by population within city limits.\"): 0.8248903\n",
      "similarity_trad(\"Berlin\", \" Its more than 3.85 million inhabitants make it the European Union's most populous city, as measured by population within city limits.\"): 0.708434\n",
      "similarity_new(\"Berlin\", \" The city is also one of the states of Germany, and is the third smallest state in the country in terms of area.\"): 0.84980094\n",
      "similarity_trad(\"Berlin\", \" The city is also one of the states of Germany, and is the third smallest state in the country in terms of area.\"): 0.7534553\n"
     ]
    }
   ],
   "source": [
    "import numpy as np\n",
    "\n",
    "cos_sim = lambda x, y: np.dot(x, y) / (np.linalg.norm(x) * np.linalg.norm(y))\n",
    "\n",
    "berlin_embedding = model.encode('Berlin')\n",
    "\n",
    "for chunk, new_embedding, trad_embeddings in zip(chunks, embeddings, embeddings_traditional_chunking):\n",
    "    print(f'similarity_new(\"Berlin\", \"{chunk}\"):', cos_sim(berlin_embedding, new_embedding))\n",
    "    print(f'similarity_trad(\"Berlin\", \"{chunk}\"):', cos_sim(berlin_embedding, trad_embeddings))"
   ]
  },
  {
   "cell_type": "code",
   "execution_count": null,
   "id": "01fab1ad-7add-4949-9cc5-20824200f409",
   "metadata": {},
   "outputs": [],
   "source": []
  }
 ],
 "metadata": {
  "kernelspec": {
   "display_name": "venv",
   "language": "python",
   "name": "venv"
  },
  "language_info": {
   "codemirror_mode": {
    "name": "ipython",
    "version": 3
   },
   "file_extension": ".py",
   "mimetype": "text/x-python",
   "name": "python",
   "nbconvert_exporter": "python",
   "pygments_lexer": "ipython3",
   "version": "3.12.7"
  }
 },
 "nbformat": 4,
 "nbformat_minor": 5
}

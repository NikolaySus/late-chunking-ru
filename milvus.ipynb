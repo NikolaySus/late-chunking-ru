{
 "cells": [
  {
   "cell_type": "markdown",
   "id": "1ccdd36c-74d6-4d09-8c13-73f97b88d6bc",
   "metadata": {},
   "source": [
    "# Load to qdrant"
   ]
  },
  {
   "cell_type": "code",
   "execution_count": 1,
   "id": "6d08bc96-41a8-4189-b3a3-22fe2c60bf98",
   "metadata": {},
   "outputs": [],
   "source": [
    "from pymilvus import MilvusClient, DataType, Collection, connections\n",
    "import pandas as pd\n",
    "import numpy as np\n",
    "import os"
   ]
  },
  {
   "cell_type": "code",
   "execution_count": 2,
   "id": "c361d53b-5642-4b43-9fff-8ead7086bc87",
   "metadata": {},
   "outputs": [
    {
     "data": {
      "text/plain": [
       "<pymilvus.milvus_client.milvus_client.MilvusClient at 0x2b6405c32f0>"
      ]
     },
     "execution_count": 2,
     "metadata": {},
     "output_type": "execute_result"
    }
   ],
   "source": [
    "client = MilvusClient(\n",
    "    uri=\"http://localhost:19530\"\n",
    ")\n",
    "\n",
    "client"
   ]
  },
  {
   "cell_type": "code",
   "execution_count": 3,
   "id": "38d8ee43-2a9c-4929-8bc5-8976d5728815",
   "metadata": {},
   "outputs": [
    {
     "data": {
      "text/plain": [
       "'C:\\\\Users\\\\gorku\\\\Documents\\\\bmstu\\\\RAG24\\\\late-chunking-ru'"
      ]
     },
     "execution_count": 3,
     "metadata": {},
     "output_type": "execute_result"
    }
   ],
   "source": [
    "basePath = os.path.abspath('')\n",
    "basePath"
   ]
  },
  {
   "cell_type": "code",
   "execution_count": 7,
   "id": "787ca34e-362c-4f11-925c-b2fb2eaa11c3",
   "metadata": {},
   "outputs": [],
   "source": [
    "schema = MilvusClient.create_schema(\n",
    "    auto_id=False,\n",
    "    enable_dynamic_field=True,\n",
    ")\n",
    "\n",
    "schema.add_field(field_name=\"id\", datatype=DataType.INT64, is_primary=True)\n",
    "schema.add_field(field_name=\"chunk\", datatype=DataType.VARCHAR, max_length=4096)\n",
    "schema.add_field(field_name=\"trad_chunk_embedding\", datatype=DataType.FLOAT_VECTOR, dim=1024)\n",
    "schema.add_field(field_name=\"new_chunk_embedding\", datatype=DataType.FLOAT_VECTOR, dim=1024)\n",
    "schema.add_field(field_name=\"doc_id\", datatype=DataType.INT64)\n",
    "\n",
    "index_params = client.prepare_index_params()\n",
    "\n",
    "index_params.add_index(\n",
    "    field_name=\"id\",\n",
    "    index_type=\"\",\n",
    "    sync=True,\n",
    "    extra_params={\"mmap.enabled\": True}\n",
    ")\n",
    "\n",
    "index_params.add_index(\n",
    "    field_name=\"trad_chunk_embedding\", \n",
    "    index_type=\"DISKANN\",\n",
    "    metric_type=\"COSINE\",\n",
    "    params={ \"nlist\": 1024 },\n",
    "    sync=True,\n",
    "    extra_params={\"mmap.enabled\": True}\n",
    ")\n",
    "\n",
    "index_params.add_index(\n",
    "    field_name=\"new_chunk_embedding\", \n",
    "    index_type=\"DISKANN\",\n",
    "    metric_type=\"COSINE\",\n",
    "    params={ \"nlist\": 1024 },\n",
    "    sync=True,\n",
    "    extra_params={\"mmap.enabled\": True}\n",
    ")\n"
   ]
  },
  {
   "cell_type": "code",
   "execution_count": 8,
   "id": "05a184d3-3562-4cf2-96b0-9f5e458290c2",
   "metadata": {},
   "outputs": [],
   "source": [
    "client.create_collection(\n",
    "    collection_name=\"chunks_embedded\",\n",
    "    schema=schema,\n",
    "    index_params=index_params\n",
    ")\n",
    "\n",
    "connections.connect(\"default\", host=\"localhost\", port=\"19530\")\n",
    "\n",
    "collection = Collection(\"chunks_embedded\")\n",
    "\n",
    "collection.release()\n",
    "\n",
    "collection.set_properties({'mmap.enabled': True})\n"
   ]
  },
  {
   "cell_type": "code",
   "execution_count": 9,
   "id": "0356bedc-4688-40ba-a1ac-74b3f40bc00c",
   "metadata": {},
   "outputs": [],
   "source": [
    "collection.load()\n"
   ]
  },
  {
   "cell_type": "code",
   "execution_count": 10,
   "id": "e77f84b5-2afe-425b-ba10-9c699cf10b96",
   "metadata": {},
   "outputs": [
    {
     "data": {
      "text/plain": [
       "{'state': <LoadState: Loaded>}"
      ]
     },
     "execution_count": 10,
     "metadata": {},
     "output_type": "execute_result"
    }
   ],
   "source": [
    "client.get_load_state(\n",
    "    collection_name=\"chunks_embedded\"\n",
    ")\n"
   ]
  },
  {
   "cell_type": "markdown",
   "id": "c7e85ef3-37d8-4430-b7a3-42dbc88cbd94",
   "metadata": {},
   "source": [
    "### DANGER ZONE"
   ]
  },
  {
   "cell_type": "code",
   "execution_count": 5,
   "id": "86614e0f-8c2a-412a-bf96-827367cb5e21",
   "metadata": {},
   "outputs": [],
   "source": [
    "client.drop_collection(\n",
    "    collection_name=\"chunks_embedded\"\n",
    ")"
   ]
  },
  {
   "cell_type": "code",
   "execution_count": 11,
   "id": "25c841d1-cc2c-4376-b668-2fe4884adba9",
   "metadata": {},
   "outputs": [],
   "source": [
    "def stick_it(payloads_, last_idx_):\n",
    "    added = 0\n",
    "    for payload in payloads_:\n",
    "        res = client.insert(\n",
    "            collection_name=\"chunks_embedded\",\n",
    "            data=[\n",
    "                {\n",
    "                    \"id\" : id + last_idx_, \"chunk\" : row['chunk'], \"trad_chunk_embedding\" : row['trad_chunk_embedding'], \"new_chunk_embedding\" : row['new_chunk_embedding'], \"doc_id\" : row['doc_id']\n",
    "                } for id, row in payload.iterrows()\n",
    "            ]\n",
    "        )\n",
    "        add = res['insert_count']\n",
    "        if add != payload.shape[0]:\n",
    "            print(\"Error!\")\n",
    "            return None\n",
    "        added += add\n",
    "    return added\n"
   ]
  },
  {
   "cell_type": "code",
   "execution_count": 12,
   "id": "0187ee28-b170-4d37-9695-8b5095a81d2d",
   "metadata": {},
   "outputs": [
    {
     "name": "stderr",
     "output_type": "stream",
     "text": [
      "C:\\Users\\gorku\\AppData\\Local\\Packages\\PythonSoftwareFoundation.Python.3.12_qbz5n2kfra8p0\\LocalCache\\local-packages\\Python312\\site-packages\\numpy\\core\\fromnumeric.py:59: FutureWarning: 'DataFrame.swapaxes' is deprecated and will be removed in a future version. Please use 'DataFrame.transpose' instead.\n",
      "  return bound(*args, **kwds)\n"
     ]
    },
    {
     "name": "stdout",
     "output_type": "stream",
     "text": [
      "234628 234628\n"
     ]
    },
    {
     "name": "stderr",
     "output_type": "stream",
     "text": [
      "C:\\Users\\gorku\\AppData\\Local\\Packages\\PythonSoftwareFoundation.Python.3.12_qbz5n2kfra8p0\\LocalCache\\local-packages\\Python312\\site-packages\\numpy\\core\\fromnumeric.py:59: FutureWarning: 'DataFrame.swapaxes' is deprecated and will be removed in a future version. Please use 'DataFrame.transpose' instead.\n",
      "  return bound(*args, **kwds)\n"
     ]
    },
    {
     "name": "stdout",
     "output_type": "stream",
     "text": [
      "231833 231833\n"
     ]
    },
    {
     "name": "stderr",
     "output_type": "stream",
     "text": [
      "C:\\Users\\gorku\\AppData\\Local\\Packages\\PythonSoftwareFoundation.Python.3.12_qbz5n2kfra8p0\\LocalCache\\local-packages\\Python312\\site-packages\\numpy\\core\\fromnumeric.py:59: FutureWarning: 'DataFrame.swapaxes' is deprecated and will be removed in a future version. Please use 'DataFrame.transpose' instead.\n",
      "  return bound(*args, **kwds)\n"
     ]
    },
    {
     "name": "stdout",
     "output_type": "stream",
     "text": [
      "240764 240764\n"
     ]
    },
    {
     "name": "stderr",
     "output_type": "stream",
     "text": [
      "C:\\Users\\gorku\\AppData\\Local\\Packages\\PythonSoftwareFoundation.Python.3.12_qbz5n2kfra8p0\\LocalCache\\local-packages\\Python312\\site-packages\\numpy\\core\\fromnumeric.py:59: FutureWarning: 'DataFrame.swapaxes' is deprecated and will be removed in a future version. Please use 'DataFrame.transpose' instead.\n",
      "  return bound(*args, **kwds)\n"
     ]
    },
    {
     "name": "stdout",
     "output_type": "stream",
     "text": [
      "241110 241110\n"
     ]
    },
    {
     "name": "stderr",
     "output_type": "stream",
     "text": [
      "C:\\Users\\gorku\\AppData\\Local\\Packages\\PythonSoftwareFoundation.Python.3.12_qbz5n2kfra8p0\\LocalCache\\local-packages\\Python312\\site-packages\\numpy\\core\\fromnumeric.py:59: FutureWarning: 'DataFrame.swapaxes' is deprecated and will be removed in a future version. Please use 'DataFrame.transpose' instead.\n",
      "  return bound(*args, **kwds)\n"
     ]
    },
    {
     "name": "stdout",
     "output_type": "stream",
     "text": [
      "247331 247331\n"
     ]
    },
    {
     "name": "stderr",
     "output_type": "stream",
     "text": [
      "C:\\Users\\gorku\\AppData\\Local\\Packages\\PythonSoftwareFoundation.Python.3.12_qbz5n2kfra8p0\\LocalCache\\local-packages\\Python312\\site-packages\\numpy\\core\\fromnumeric.py:59: FutureWarning: 'DataFrame.swapaxes' is deprecated and will be removed in a future version. Please use 'DataFrame.transpose' instead.\n",
      "  return bound(*args, **kwds)\n"
     ]
    },
    {
     "name": "stdout",
     "output_type": "stream",
     "text": [
      "246433 246433\n"
     ]
    },
    {
     "name": "stderr",
     "output_type": "stream",
     "text": [
      "C:\\Users\\gorku\\AppData\\Local\\Packages\\PythonSoftwareFoundation.Python.3.12_qbz5n2kfra8p0\\LocalCache\\local-packages\\Python312\\site-packages\\numpy\\core\\fromnumeric.py:59: FutureWarning: 'DataFrame.swapaxes' is deprecated and will be removed in a future version. Please use 'DataFrame.transpose' instead.\n",
      "  return bound(*args, **kwds)\n"
     ]
    },
    {
     "name": "stdout",
     "output_type": "stream",
     "text": [
      "245563 245563\n"
     ]
    },
    {
     "name": "stderr",
     "output_type": "stream",
     "text": [
      "C:\\Users\\gorku\\AppData\\Local\\Packages\\PythonSoftwareFoundation.Python.3.12_qbz5n2kfra8p0\\LocalCache\\local-packages\\Python312\\site-packages\\numpy\\core\\fromnumeric.py:59: FutureWarning: 'DataFrame.swapaxes' is deprecated and will be removed in a future version. Please use 'DataFrame.transpose' instead.\n",
      "  return bound(*args, **kwds)\n"
     ]
    },
    {
     "name": "stdout",
     "output_type": "stream",
     "text": [
      "250901 250901\n"
     ]
    },
    {
     "name": "stderr",
     "output_type": "stream",
     "text": [
      "C:\\Users\\gorku\\AppData\\Local\\Packages\\PythonSoftwareFoundation.Python.3.12_qbz5n2kfra8p0\\LocalCache\\local-packages\\Python312\\site-packages\\numpy\\core\\fromnumeric.py:59: FutureWarning: 'DataFrame.swapaxes' is deprecated and will be removed in a future version. Please use 'DataFrame.transpose' instead.\n",
      "  return bound(*args, **kwds)\n"
     ]
    },
    {
     "name": "stdout",
     "output_type": "stream",
     "text": [
      "250559 250559\n"
     ]
    },
    {
     "name": "stderr",
     "output_type": "stream",
     "text": [
      "C:\\Users\\gorku\\AppData\\Local\\Packages\\PythonSoftwareFoundation.Python.3.12_qbz5n2kfra8p0\\LocalCache\\local-packages\\Python312\\site-packages\\numpy\\core\\fromnumeric.py:59: FutureWarning: 'DataFrame.swapaxes' is deprecated and will be removed in a future version. Please use 'DataFrame.transpose' instead.\n",
      "  return bound(*args, **kwds)\n"
     ]
    },
    {
     "name": "stdout",
     "output_type": "stream",
     "text": [
      "253142 253142\n"
     ]
    },
    {
     "name": "stderr",
     "output_type": "stream",
     "text": [
      "C:\\Users\\gorku\\AppData\\Local\\Packages\\PythonSoftwareFoundation.Python.3.12_qbz5n2kfra8p0\\LocalCache\\local-packages\\Python312\\site-packages\\numpy\\core\\fromnumeric.py:59: FutureWarning: 'DataFrame.swapaxes' is deprecated and will be removed in a future version. Please use 'DataFrame.transpose' instead.\n",
      "  return bound(*args, **kwds)\n"
     ]
    },
    {
     "name": "stdout",
     "output_type": "stream",
     "text": [
      "253865 253865\n"
     ]
    },
    {
     "name": "stderr",
     "output_type": "stream",
     "text": [
      "C:\\Users\\gorku\\AppData\\Local\\Packages\\PythonSoftwareFoundation.Python.3.12_qbz5n2kfra8p0\\LocalCache\\local-packages\\Python312\\site-packages\\numpy\\core\\fromnumeric.py:59: FutureWarning: 'DataFrame.swapaxes' is deprecated and will be removed in a future version. Please use 'DataFrame.transpose' instead.\n",
      "  return bound(*args, **kwds)\n"
     ]
    },
    {
     "name": "stdout",
     "output_type": "stream",
     "text": [
      "252677 252677\n"
     ]
    },
    {
     "name": "stderr",
     "output_type": "stream",
     "text": [
      "C:\\Users\\gorku\\AppData\\Local\\Packages\\PythonSoftwareFoundation.Python.3.12_qbz5n2kfra8p0\\LocalCache\\local-packages\\Python312\\site-packages\\numpy\\core\\fromnumeric.py:59: FutureWarning: 'DataFrame.swapaxes' is deprecated and will be removed in a future version. Please use 'DataFrame.transpose' instead.\n",
      "  return bound(*args, **kwds)\n"
     ]
    },
    {
     "name": "stdout",
     "output_type": "stream",
     "text": [
      "252887 252887\n"
     ]
    },
    {
     "name": "stderr",
     "output_type": "stream",
     "text": [
      "C:\\Users\\gorku\\AppData\\Local\\Packages\\PythonSoftwareFoundation.Python.3.12_qbz5n2kfra8p0\\LocalCache\\local-packages\\Python312\\site-packages\\numpy\\core\\fromnumeric.py:59: FutureWarning: 'DataFrame.swapaxes' is deprecated and will be removed in a future version. Please use 'DataFrame.transpose' instead.\n",
      "  return bound(*args, **kwds)\n"
     ]
    },
    {
     "name": "stdout",
     "output_type": "stream",
     "text": [
      "252142 252142\n"
     ]
    },
    {
     "name": "stderr",
     "output_type": "stream",
     "text": [
      "C:\\Users\\gorku\\AppData\\Local\\Packages\\PythonSoftwareFoundation.Python.3.12_qbz5n2kfra8p0\\LocalCache\\local-packages\\Python312\\site-packages\\numpy\\core\\fromnumeric.py:59: FutureWarning: 'DataFrame.swapaxes' is deprecated and will be removed in a future version. Please use 'DataFrame.transpose' instead.\n",
      "  return bound(*args, **kwds)\n"
     ]
    },
    {
     "name": "stdout",
     "output_type": "stream",
     "text": [
      "255681 255681\n"
     ]
    },
    {
     "name": "stderr",
     "output_type": "stream",
     "text": [
      "C:\\Users\\gorku\\AppData\\Local\\Packages\\PythonSoftwareFoundation.Python.3.12_qbz5n2kfra8p0\\LocalCache\\local-packages\\Python312\\site-packages\\numpy\\core\\fromnumeric.py:59: FutureWarning: 'DataFrame.swapaxes' is deprecated and will be removed in a future version. Please use 'DataFrame.transpose' instead.\n",
      "  return bound(*args, **kwds)\n"
     ]
    },
    {
     "name": "stdout",
     "output_type": "stream",
     "text": [
      "259470 259470\n"
     ]
    },
    {
     "name": "stderr",
     "output_type": "stream",
     "text": [
      "C:\\Users\\gorku\\AppData\\Local\\Packages\\PythonSoftwareFoundation.Python.3.12_qbz5n2kfra8p0\\LocalCache\\local-packages\\Python312\\site-packages\\numpy\\core\\fromnumeric.py:59: FutureWarning: 'DataFrame.swapaxes' is deprecated and will be removed in a future version. Please use 'DataFrame.transpose' instead.\n",
      "  return bound(*args, **kwds)\n"
     ]
    },
    {
     "name": "stdout",
     "output_type": "stream",
     "text": [
      "257050 257050\n"
     ]
    },
    {
     "name": "stderr",
     "output_type": "stream",
     "text": [
      "C:\\Users\\gorku\\AppData\\Local\\Packages\\PythonSoftwareFoundation.Python.3.12_qbz5n2kfra8p0\\LocalCache\\local-packages\\Python312\\site-packages\\numpy\\core\\fromnumeric.py:59: FutureWarning: 'DataFrame.swapaxes' is deprecated and will be removed in a future version. Please use 'DataFrame.transpose' instead.\n",
      "  return bound(*args, **kwds)\n"
     ]
    },
    {
     "name": "stdout",
     "output_type": "stream",
     "text": [
      "255660 255660\n"
     ]
    },
    {
     "name": "stderr",
     "output_type": "stream",
     "text": [
      "C:\\Users\\gorku\\AppData\\Local\\Packages\\PythonSoftwareFoundation.Python.3.12_qbz5n2kfra8p0\\LocalCache\\local-packages\\Python312\\site-packages\\numpy\\core\\fromnumeric.py:59: FutureWarning: 'DataFrame.swapaxes' is deprecated and will be removed in a future version. Please use 'DataFrame.transpose' instead.\n",
      "  return bound(*args, **kwds)\n"
     ]
    },
    {
     "name": "stdout",
     "output_type": "stream",
     "text": [
      "258399 258399\n"
     ]
    },
    {
     "name": "stderr",
     "output_type": "stream",
     "text": [
      "C:\\Users\\gorku\\AppData\\Local\\Packages\\PythonSoftwareFoundation.Python.3.12_qbz5n2kfra8p0\\LocalCache\\local-packages\\Python312\\site-packages\\numpy\\core\\fromnumeric.py:59: FutureWarning: 'DataFrame.swapaxes' is deprecated and will be removed in a future version. Please use 'DataFrame.transpose' instead.\n",
      "  return bound(*args, **kwds)\n"
     ]
    },
    {
     "name": "stdout",
     "output_type": "stream",
     "text": [
      "271333 271333\n"
     ]
    },
    {
     "name": "stderr",
     "output_type": "stream",
     "text": [
      "C:\\Users\\gorku\\AppData\\Local\\Packages\\PythonSoftwareFoundation.Python.3.12_qbz5n2kfra8p0\\LocalCache\\local-packages\\Python312\\site-packages\\numpy\\core\\fromnumeric.py:59: FutureWarning: 'DataFrame.swapaxes' is deprecated and will be removed in a future version. Please use 'DataFrame.transpose' instead.\n",
      "  return bound(*args, **kwds)\n"
     ]
    },
    {
     "name": "stdout",
     "output_type": "stream",
     "text": [
      "258252 258252\n"
     ]
    },
    {
     "name": "stderr",
     "output_type": "stream",
     "text": [
      "C:\\Users\\gorku\\AppData\\Local\\Packages\\PythonSoftwareFoundation.Python.3.12_qbz5n2kfra8p0\\LocalCache\\local-packages\\Python312\\site-packages\\numpy\\core\\fromnumeric.py:59: FutureWarning: 'DataFrame.swapaxes' is deprecated and will be removed in a future version. Please use 'DataFrame.transpose' instead.\n",
      "  return bound(*args, **kwds)\n"
     ]
    },
    {
     "name": "stdout",
     "output_type": "stream",
     "text": [
      "249231 249231\n",
      "CPU times: total: 28min 51s\n",
      "Wall time: 1h 30min 33s\n"
     ]
    }
   ],
   "source": [
    "%%time\n",
    "last_idx = 0\n",
    "for i in range(22):\n",
    "    chunks_embedded_n = pd.read_pickle(basePath + \"\\\\ai-forever-ria-news-retrieval\\\\chunks_embedded_\"+str(i)+\".pkl\")\n",
    "    payloads = np.array_split(chunks_embedded_n, chunks_embedded_n.shape[0] / 7000)\n",
    "    delta = chunks_embedded_n.shape[0]\n",
    "    print(stick_it(payloads, last_idx), delta)\n",
    "    last_idx += delta\n",
    "    del payloads\n",
    "    del chunks_embedded_n"
   ]
  },
  {
   "cell_type": "code",
   "execution_count": 13,
   "id": "bbeeede4-c7d6-4677-b578-c5352bdea810",
   "metadata": {},
   "outputs": [
    {
     "data": {
      "text/plain": [
       "5518911"
      ]
     },
     "execution_count": 13,
     "metadata": {},
     "output_type": "execute_result"
    }
   ],
   "source": [
    "last_idx"
   ]
  },
  {
   "cell_type": "code",
   "execution_count": 17,
   "id": "17ca7dc4-ac99-41e7-9512-40130bb51106",
   "metadata": {},
   "outputs": [],
   "source": [
    "connections.disconnect(\"default\")"
   ]
  },
  {
   "cell_type": "markdown",
   "id": "a246ce17-11a8-48a3-8e0a-891c17cf6d69",
   "metadata": {},
   "source": [
    "### Trash"
   ]
  },
  {
   "cell_type": "code",
   "execution_count": null,
   "id": "637779ec-40ef-4d21-969d-a0a9e8491611",
   "metadata": {},
   "outputs": [],
   "source": []
  },
  {
   "cell_type": "code",
   "execution_count": 8,
   "id": "9d11c77d-d317-4016-bd2f-d35d498d7ae2",
   "metadata": {},
   "outputs": [
    {
     "data": {
      "text/plain": [
       "(234628, 4)"
      ]
     },
     "execution_count": 8,
     "metadata": {},
     "output_type": "execute_result"
    }
   ],
   "source": [
    "chunks_embedded_n = pd.read_pickle(basePath + \"\\\\ai-forever-ria-news-retrieval\\\\chunks_embedded_0.pkl\")\n",
    "chunks_embedded_n.shape"
   ]
  },
  {
   "cell_type": "code",
   "execution_count": 9,
   "id": "8b36102b-0aae-4507-8c94-02d93301f56e",
   "metadata": {},
   "outputs": [
    {
     "data": {
      "text/html": [
       "<div>\n",
       "<style scoped>\n",
       "    .dataframe tbody tr th:only-of-type {\n",
       "        vertical-align: middle;\n",
       "    }\n",
       "\n",
       "    .dataframe tbody tr th {\n",
       "        vertical-align: top;\n",
       "    }\n",
       "\n",
       "    .dataframe thead th {\n",
       "        text-align: right;\n",
       "    }\n",
       "</style>\n",
       "<table border=\"1\" class=\"dataframe\">\n",
       "  <thead>\n",
       "    <tr style=\"text-align: right;\">\n",
       "      <th></th>\n",
       "      <th>chunk</th>\n",
       "      <th>trad_chunk_embedding</th>\n",
       "      <th>new_chunk_embedding</th>\n",
       "      <th>doc_id</th>\n",
       "    </tr>\n",
       "  </thead>\n",
       "  <tbody>\n",
       "    <tr>\n",
       "      <th>234627</th>\n",
       "      <td>dum spiro, spero.соболезнования родным и близ...</td>\n",
       "      <td>[0.0529799, -0.10728489, -0.020307904, 0.04234...</td>\n",
       "      <td>[1.1796875, -1.875, -0.013183594, 0.609375, 0....</td>\n",
       "      <td>32015</td>\n",
       "    </tr>\n",
       "  </tbody>\n",
       "</table>\n",
       "</div>"
      ],
      "text/plain": [
       "                                                    chunk  \\\n",
       "234627   dum spiro, spero.соболезнования родным и близ...   \n",
       "\n",
       "                                     trad_chunk_embedding  \\\n",
       "234627  [0.0529799, -0.10728489, -0.020307904, 0.04234...   \n",
       "\n",
       "                                      new_chunk_embedding doc_id  \n",
       "234627  [1.1796875, -1.875, -0.013183594, 0.609375, 0....  32015  "
      ]
     },
     "execution_count": 9,
     "metadata": {},
     "output_type": "execute_result"
    }
   ],
   "source": [
    "chunks_embedded_n.iloc[[-1]]"
   ]
  },
  {
   "cell_type": "code",
   "execution_count": 5,
   "id": "ed47aada-08d4-4f57-87c8-7c7f6e941aa8",
   "metadata": {},
   "outputs": [],
   "source": [
    "chunks_embedded_n = chunks_embedded_n.reset_index(drop=True)"
   ]
  },
  {
   "cell_type": "code",
   "execution_count": 7,
   "id": "0b49f729-8600-49b3-973c-f7c5004dbf76",
   "metadata": {},
   "outputs": [],
   "source": [
    "chunks_embedded_n.to_pickle(basePath + \"\\\\ai-forever-ria-news-retrieval\\\\chunks_embedded_0.pkl\")\n"
   ]
  },
  {
   "cell_type": "code",
   "execution_count": null,
   "id": "af643048-196d-4eea-a207-3ba8e8d70f02",
   "metadata": {},
   "outputs": [],
   "source": []
  },
  {
   "cell_type": "code",
   "execution_count": 45,
   "id": "95c1f416-0be7-402e-bcb0-05ab27fc33eb",
   "metadata": {},
   "outputs": [
    {
     "name": "stderr",
     "output_type": "stream",
     "text": [
      "C:\\Users\\gorku\\AppData\\Local\\Packages\\PythonSoftwareFoundation.Python.3.12_qbz5n2kfra8p0\\LocalCache\\local-packages\\Python312\\site-packages\\numpy\\core\\fromnumeric.py:59: FutureWarning: 'DataFrame.swapaxes' is deprecated and will be removed in a future version. Please use 'DataFrame.transpose' instead.\n",
      "  return bound(*args, **kwds)\n"
     ]
    },
    {
     "data": {
      "text/plain": [
       "(7110, 4)"
      ]
     },
     "execution_count": 45,
     "metadata": {},
     "output_type": "execute_result"
    }
   ],
   "source": [
    "payloads = np.array_split(chunks_embedded_n, chunks_embedded_n.shape[0] / 7000)\n",
    "payloads[0].shape"
   ]
  },
  {
   "cell_type": "code",
   "execution_count": null,
   "id": "204e2a79-cb8c-4900-85ad-a49b559ec201",
   "metadata": {},
   "outputs": [],
   "source": [
    "last_idx = 0\n",
    "for payload in payloads:\n",
    "    points = [\n",
    "        models.PointStruct(\n",
    "            id=id, vector=row['trad_chunk_embedding'], payload={\"chunk\": row['chunk'], \"doc_id\": row['doc_id']}\n",
    "        ) for id, row in payload.iterrows()\n",
    "    ]\n",
    "    operation_info = client.upsert(\n",
    "        collection_name=\"{chunks_embedded_trad}\",\n",
    "        wait=True,\n",
    "        points=points,\n",
    "    )\n",
    "    last_idx += payload.shape[0]\n",
    "    if operation_info.status != \"completed\":\n",
    "        print(\"Error!\")\n",
    "        break\n",
    "last_idx"
   ]
  },
  {
   "cell_type": "code",
   "execution_count": 42,
   "id": "653836f3-71fe-4d9f-a424-1214e6d2f4f4",
   "metadata": {},
   "outputs": [
    {
     "name": "stdout",
     "output_type": "stream",
     "text": [
      "A  28343\n",
      "B  28346\n"
     ]
    }
   ],
   "source": [
    "for id, row in chunks_embedded_n.iterrows():\n",
    "    if id == 28343:\n",
    "        print(\"A \", chunks_embedded_n.index[id])\n",
    "    if id == 28345:\n",
    "        print(\"B \", chunks_embedded_n.index[id])"
   ]
  },
  {
   "cell_type": "code",
   "execution_count": 47,
   "id": "3ff107ca-f320-4765-a5d2-53f41fe6c0e0",
   "metadata": {},
   "outputs": [
    {
     "data": {
      "text/plain": [
       "(7110, 4)"
      ]
     },
     "execution_count": 47,
     "metadata": {},
     "output_type": "execute_result"
    }
   ],
   "source": [
    "payloads[0].shape"
   ]
  },
  {
   "cell_type": "code",
   "execution_count": 61,
   "id": "87be6ffe-d532-4ac5-8eb8-dcec49b00212",
   "metadata": {},
   "outputs": [
    {
     "name": "stdout",
     "output_type": "stream",
     "text": [
      "CPU times: total: 2.33 s\n",
      "Wall time: 7.06 s\n"
     ]
    }
   ],
   "source": [
    "%%time\n",
    "res = client.insert(\n",
    "    collection_name=\"chunks_embedded\",\n",
    "    data=[\n",
    "        {\n",
    "            \"id\" : id, \"chunk\" : row['chunk'], \"trad_chunk_embedding\" : row['trad_chunk_embedding'], \"new_chunk_embedding\" : row['new_chunk_embedding'], \"doc_id\" : row['doc_id']\n",
    "        } for id, row in payloads[0].iterrows()\n",
    "    ]\n",
    ")"
   ]
  },
  {
   "cell_type": "code",
   "execution_count": 66,
   "id": "99c4f83e-5b17-4893-a3ee-eacbd0d79c39",
   "metadata": {},
   "outputs": [
    {
     "data": {
      "text/plain": [
       "True"
      ]
     },
     "execution_count": 66,
     "metadata": {},
     "output_type": "execute_result"
    }
   ],
   "source": [
    "res['insert_count'] == payloads[0].shape[0]"
   ]
  },
  {
   "cell_type": "code",
   "execution_count": 16,
   "id": "bd432642-fe82-4056-8831-4d148a898694",
   "metadata": {},
   "outputs": [
    {
     "data": {
      "text/plain": [
       "data: [\"{'trad_chunk_embedding': [0.05621778, 0.03213727, -0.007372917, 0.058613904, -0.046933513, -0.1865095, -0.018278578, 0.001619006, -0.17829084, 0.0020009445, -0.0041661807, 0.05058364, -0.04056935, -0.010017232, -0.046516713, -0.11094019, -0.08805039, -0.015233375, 0.029342277, 0.08198647, -0.005583823, -0.05279726, -0.09186535, 0.018865835, -0.0155954445, 0.12568197, 0.00519241, 0.10719586, -0.020464605, 0.10290991, 0.0974465, 0.12388046, -0.022666454, 0.018115206, -0.022159042, 0.04709247, -0.008114532, 0.017028265, -0.058449432, 0.0076271747, 0.09132372, 0.0026088075, 0.019679755, 0.034698244, 0.064418785, 0.026714336, 0.008320679, -0.030110938, -0.08263407, -0.0003988642, 0.0029031723, -0.068763606, -0.06566689, 0.03806504, 0.08708487, 0.03248315, -0.0055252262, -0.0039549745, -0.072549134, -0.10192085, -0.027798336, -0.032606784, -0.0057161953, -0.010541202, 0.009073793, -0.06033889, 0.030195937, -0.07652306, 0.0023630129, 0.050454117, -0.04372494, 0.0071159, -0.016502088, -0.021704065, -0.0028075841, -0.029953083, 0.040677525, -0.014473914, 0.0024947412, 0.0067137238, 0.08576022, 0.050983973, 0.006791236, -0.02134586, 0.06989985, 0.061781272, 0.008374585, -0.054610547, 0.0407077, 0.030052064, 0.00864402, 0.04729558, -0.04389567, 0.051113494, -0.013680418, -0.023061085, -0.032968853, -0.05784856, 0.10177956, 0.038040757, 0.027155885, -0.061157215, -0.02990746, 0.03769635, 0.0100433575, 0.021876452, -0.012467818, 0.051769927, -0.026646266, 0.04501131, 0.023186741, 0.056612227, 0.05143141, 0.014137603, 0.0016057596, -0.028565153, 0.02663265, 0.025377553, 0.0060985014, -0.077771164, 0.024566974, 0.008283423, -0.031259697, -0.056641664, -0.0047127795, -0.0975878, 0.025645839, 0.022974433, 0.011921036, -0.01679259, -0.0034637533, 0.0033031404, -0.08229261, -0.0046531707, -0.019199941, 0.05110172, 0.013843973, 0.004967083, -0.006687967, -0.0058394605, 0.019213922, 0.009336238, 0.014909712, -0.04510698, -0.05442215, -0.026042448, -0.067915834, -0.061604653, 0.001971508, 0.04419592, 0.050936874, 0.0020796868, 0.03719593, -0.028458448, -0.03764925, -0.027370034, 0.019863732, -0.025524367, 0.021186719, 0.01063871, -0.04642721, -0.019578936, -0.019564953, -0.034005016, -0.005255882, 0.0015069175, -0.005021495, 0.02196421, -0.021104664, -0.028461391, 0.038673274, 0.0060819434, 0.042394407, -0.0027315207, -0.007943065, 0.016312223, 0.025100483, 0.07067109, -0.017379386, -0.027710026, -0.01621214, 0.06362988, -0.0033741558, 0.0031275793, -0.021707928, 0.0381195, -0.030755598, -0.040322084, 0.0048215105, 0.016986318, 0.0148181375, 0.020072732, -0.022572257, 0.00036611615, -0.06284098, -0.06701508, -0.0336205, -0.03517291, -0.03745497, 0.02747012, -0.045288015, -0.015316534, 0.062040314, -0.04252393, 0.016232375, -0.031008381, -0.041556943, 0.0014401795, 0.0015886497, 0.003875496, -0.05312695, -0.023329876, -0.013408337, -0.01558551, -0.05917909, 0.03581867, 0.05777791, 0.071273066, -0.060839303, 0.015087296, 0.010073897, 0.056930143, -0.02925544, 0.022401156, 0.0069879545, 0.005675904, 0.026098378, -0.014929444, 0.0415643, 0.06377117, -0.02100734, -0.060668573, -0.03494404, -0.021360578, 0.0632531, 0.03770702, 0.0034613612, 0.021822361, -0.053703904, 0.0235168, 0.021901289, 0.00084942626, -0.025241777, 0.0048881103, -0.008916307, -0.048615646, 0.0026448672, 0.022227481, -0.04758995, 0.018739259, 0.0101232035, -0.014224441, 0.049329642, 0.0084258225, 0.0050402605, 0.02214506, -0.031023838, -0.0018759313, -0.0089591285, -0.001411479, -0.03186204, 5.2985655e-05, -0.016154736, -0.010694271, -0.011349969, -0.05441038, 0.0060583944, 0.0057003736, 0.013871938, -0.028024996, -0.03254791, 0.014828624, -0.02765704, -0.02434838, 0.00825086, -0.016457565, -0.0018801627, 0.020727694, -0.04811686, -0.0029778674, -0.001302564, -0.0017518381, -0.021397375, 0.005049827, 0.005828422, -0.011779741, -0.060721558, 0.028930167, -0.044366654, 0.005325058, -0.06706218, 0.023884755, 0.016923029, 0.007660842, 0.014995309, 0.032759853, 0.031126129, -0.0024033042, 0.024031937, 0.01806774, 0.0508103, 0.012919668, 0.03391082, -0.039462537, 0.010371942, -0.03816439, 0.0053273463, -0.014682362, -0.04537338, -0.0070507713, 0.021018378, 0.0058442443, 0.02751685, 0.021236576, 0.05625899, -0.0030109833, -0.00069617265, 0.0025829817, 0.03275691, -0.03235565, 0.007656059, 0.017745778, 0.032171123, 0.03697221, -0.025978792, -0.025357315, 0.012360196, -0.027508385, -0.017454356, -0.0007956127, -0.027089652, -0.010038573, -0.009058339, 0.022174496, -0.014223705, -0.0026275734, -0.08524803, 0.0017750195, 0.053494904, 0.039268255, -0.008543293, 0.014219289, -0.035678476, 0.029540973, -0.008223079, 0.055891037, -0.0038488188, 0.015969288, -0.01641525, -0.044872962, -0.04037801, 0.08026149, -0.031598583, -0.023861207, -0.04593709, 0.03200637, 0.027765585, 0.010036917, -0.028459182, 0.00724358, 0.034318514, -0.029854473, 0.03203866, -0.027822435, -0.009226862, -0.011160839, 0.022415875, 0.04702771, 0.0017469168, -0.02079235, 0.014612266, -0.02668674, 0.042394407, 0.032413974, -0.037967164, -0.0054319496, -0.007959071, 0.010119892, -0.0047651674, 0.0133972755, -0.0113702975, -0.024108473, -0.013401691, -0.023575673, -0.021255342, -0.030087018, 0.086825825, -0.0047775395, 0.011813225, -0.028318623, 0.0025423914, -0.027991142, -0.0037774355, -0.004092958, -0.023506496, -0.03457976, -0.005074112, -0.008464366, 0.07453315, -0.0019477748, -0.024675125, 0.029664606, 0.018636232, 0.037917122, 0.044237133, 0.014167039, -0.005644812, -0.0074110003, 0.017555913, 0.00015012601, -0.023925966, -0.03393584, -0.009619104, 0.029432427, -0.008903061, -0.018309487, 0.0052970937, 0.06017993, 0.0008032478, 0.016544035, -0.022966154, 0.0075504556, 0.01829624, -0.020187534, 0.019530365, 0.029092066, -0.009911628, -0.041640837, 0.040936384, -0.050713155, 0.006387163, -0.010681393, -0.033383906, -0.01239202, -0.022792662, -0.02026729, 0.01257379, -0.010527771, -0.05649264, 0.0031780354, 0.02872411, 0.042824183, -0.023045449, -0.009868578, -0.010689258, 0.0017085574, 0.025040781, -0.01164139, -0.025998294, -0.004390818, -0.008650184, 0.0041262577, 0.01576912, -0.08232793, -0.016736107, -0.016756713, 0.054975558, 0.024388118, 0.014729276, -0.026071884, -0.0042486032, 0.0055318954, -0.0002973084, 0.0279308, 0.009565567, 0.061822485, -0.011230015, 0.035855833, 0.048895456, 0.0060764244, -0.009902522, -0.0029015166, 0.08989899, -0.017467603, 0.0069394647, -0.00046215265, -0.02594494, 0.009856068, 0.05041585, 0.034605518, -0.022254711, -0.023145901, 0.008313596, 0.055022657, -0.038897354, -0.020529734, -0.007114543, 0.03868247, 0.030195937, -0.015998725, -0.015398956, 0.03505295, -0.010096711, -0.030625708, 0.003414263, -0.020922802, 0.0646896, -0.0053876108, -0.053998265, 0.013503247, 0.012889496, -0.03708996, 0.0681631, -0.020296196, -0.013228752, -0.02816776, -0.029660191, -0.011404609, 0.028041186, 0.012363687, 0.013217897, -0.03977162, 0.024932694, -0.032767214, 0.012315853, 0.043983977, -0.0100654345, -0.025534669, -0.011450053, 0.0028847745, -0.0033778355, -0.0034823348, 0.038628012, 0.00017606691, 0.008124444, 0.016821105, 0.002171676, -0.020462766, -0.05293267, -0.06983509, -0.0253242, -0.00425449, 0.031067254, 0.0012268571, 0.0032155667, -0.025765745, -0.02383361, 0.002639348, 0.034222845, 0.025884964, 0.038202655, 0.018265333, -0.019994725, -0.03434059, -0.0072767423, -0.028628258, -0.025048967, 0.033369187, 0.013920509, 0.010038941, -0.036925115, -0.0444844, -0.038757786, -0.019381022, -0.033506434, 0.015655054, 0.049394403, 0.01073723, 0.056400284, 0.0056944857, 0.0034346844, -0.007938833, 0.00020734317, 0.04387212, 0.018676708, 0.009084464, 0.0053771236, -0.04026321, -0.044714008, 0.038953286, 0.009634467, -0.021868357, -0.0013088193, -0.026266167, -0.060285904, 0.0018841643, -0.016510919, 0.025034986, -0.023265485, 0.02794699, -0.050106768, 0.006331234, -0.007389015, 0.013909654, -0.019266173, 0.04221779, 0.017280683, 0.021611523, 0.037725784, -0.021949306, 0.015900113, 0.022187926, 0.030835811, -0.0323448, -0.016313327, 0.01137131, 0.053068075, 0.022983998, 0.013264075, -0.040286757, 0.026311792, -0.0031568778, -0.013777833, 0.007837829, 0.03742259, 0.019996196, 0.020107687, 0.021301704, 0.008280112, -0.0014101912, -0.032639164, -0.011332559, -0.0030326927, 0.007636005, -0.017964898, -0.01055592, 0.024954218, -0.021762386, -0.03159417, 0.025914032, 0.009742001, 0.034696773, -0.020558434, -0.008318012, 0.0069106724, 0.026210235, 0.035603415, 0.0040464113, -0.023776943, 0.025990935, -0.045084905, 0.028444463, -0.03194152, -0.022490203, 0.0014575195, 0.004345065, -0.050654285, -0.004365337, 0.0023173864, 0.007679976, -0.012542399, -0.02920687, 0.03887381, 0.0040688566, 0.013478962, -0.028459182, -0.008346344, 0.00036795594, 0.00037605097, -0.04707481, 0.0048174174, 0.020989677, -0.03248904, 0.002053746, -0.01738371, 0.02448526, -0.04228255, 0.0040931418, 0.024362914, -0.0013434071, -0.0136143705, -0.018795189, 0.03972158, -0.0033872183, 0.007497102, -0.06530187, 0.00888172, 0.025200566, 0.0066636815, -0.018879082, -0.010228071, -0.0020349803, -0.015217922, 0.05917909, 0.01908661, -0.018169297, -0.0016180862, 0.016646326, -0.0020826305, 0.0157131, 0.0014239894, 0.033375647, 0.015957512, -0.0066397646, 0.04579138, 0.022319471, 0.04004538, -0.052526444, 0.0012344922, 0.012789228, 0.023694891, 0.023622772, -0.01497691, 0.0034635693, 0.0025771633, -0.00062828476, -0.0046288855, 0.008106713, 0.007983724, 0.027658511, 0.023396846, -0.028753549, 0.0031707021, 0.023304673, 0.011275779, 0.01685643, 0.016774092, 0.015126484, 0.01578899, 0.0148168495, 0.022851812, 0.0074592023, -0.019118255, -0.016946578, -0.020817474, 0.0006948273, -0.002337624, -0.019214658, 0.04515555, 0.034581788, -0.012199211, -0.00093865563, -0.022256918, 0.025956348, 0.026451616, 0.0044566826, 0.023647055, 0.0019494306, 0.003997841, 0.019049814, -0.014203098, -0.0068800403, 0.0021267852, 0.013487793, -0.020084506, 0.014752824, 0.037387263, -0.015666828, -0.016289776, 0.010790675, -0.01003057, 0.07041205, -0.015945738, -0.008650414, -0.00030503547, -0.016880898, -0.0037627171, -0.017037831, 0.03882965, 0.043836795, -0.02191987, -0.023756707, 0.02971612, 0.042211905, 0.025178488, -0.019152842, -0.020211084, -0.042188354, 0.024782568, 0.010525747, 0.030268054, 0.018745147, -0.021300232, 0.020653091, 0.0028398838, 0.010708254, -0.029359939, 0.037563886, 0.012038322, 0.0107284915, 0.0018762072, -0.0009522699, -0.005182843, 0.02325923, 0.024738412, -0.0016604356, -0.0049055885, 0.018753242, -0.0012808546, 0.024093755, -0.030034127, 0.045255635, -0.0029031723, 0.03366061, 0.026620874, 0.00067579706, -0.001068452, 0.02810889, -0.010085672, -0.002580107, -0.0074349176, 0.006745943, 0.04182629, -0.025857735, 0.029568939, -0.044908285, 0.015822105, 0.02528446, 0.008492422, 0.042683255, 0.006458362, 0.00078448205, -0.012204362, -0.04984184, 0.009381404, 0.013649142, -0.0036182946, -0.012134635, -0.027423019, -0.017182069, 0.016092552, -0.042447396, 0.017160729, -0.012143097, -0.004351263, -0.006418255, -0.00046952325, -0.004467997, 0.0048028827, 0.0075416244, -0.003997473, 0.00040254378, 0.012868891, -0.02469573, 0.04633301, 0.0007329682, -0.008711357, 0.039992392, 0.041655555, -0.023272477, -0.033872552, 0.025751213, 0.0012091032, -0.014359112, 0.00077923865, -0.020615466, -0.023847224, 0.008955311, -0.0057310974, 0.031125575, 0.009389499, 0.016325468, 0.0074179913, -0.0013603331, 0.0018471964, -0.019822521, -0.051290113, -0.04914125, -0.027689418, -0.020595873, -0.047333848, -0.026467806, -0.016340187, 0.01660806, -0.002388402, -0.020255238, -0.00868468, 0.029198037, -0.0010611849, -0.0007616688, -0.06359456, 0.0013174663, 0.030608047, -0.0028899258, 0.022366568, -0.02477668, -0.024603005, 0.0008189319, -0.0086293025, 0.016828833, -0.022651367, 0.002619846, -0.010368998, 0.009150696, -0.01970404, 0.0045288014, 0.018541299, -0.013824657, 0.0027250818, 0.009821388, 0.025758388, 0.006712344, -0.016534008, -0.001821106, -0.043548323, -0.0144371195, 0.011712957, -0.0135187, 0.021256538, -0.0137438895, 0.0382733, 0.014870111, 0.0013562855, -0.0068552033, -0.033503123, -0.0135472175, 0.036857408, 0.006011388, 0.04718667, 0.020484842, -0.019548763, 0.013891349, 0.0141273, -0.0037211382, -0.005349711, -0.013771739, -0.045991547, -0.0009154744, 0.0060138716, 0.0039687725, 0.0029200981, 0.001761037, -0.024335869, -0.015399692, -0.0052549397, 0.0048483713, 0.021553295, 0.013729908, -0.008018863, -0.0070943744, 0.017302392, 0.03114379, -0.01614885, -0.01621177, 0.0036835147, -0.006945904, 0.00048514988, 0.013313381, 0.022755453, 0.0037045802, -0.0034788393, 0.014899455, -0.013402151, 0.016799396, -4.7650294e-05, 0.00761724, -0.00611322, 0.0008477705, 0.0065983925, -0.008448268, 0.0011703757, 0.006866702, -0.031691305, 0.015640333, 0.0015796348, -0.038491134, 0.017254787, -0.035506275, -0.0161724, -0.00788971, -0.041496597, -0.0016997724, -0.002964621, -0.0076829423, -0.014036231, -0.049933095, 0.016382134, 0.0028785192, -0.021742333, 0.010446085, -0.006118739, 0.010687647, 0.011443061, 0.0015564535, 0.045967996, -0.027629076, -0.0057712044, 0.011112637, -0.00811283, -0.00013209617, -0.0040209764, -0.024779623, -0.01110967, 0.02274444, 0.023190053, -0.007918044, 0.010618036, -0.027078612, -0.00863519, 0.009564095, 0.0039386004, 0.0051307776, 0.037243027, 0.0027016934, -0.041882217, -0.011649485, -0.042632844, 0.026389798, 0.028500395, 0.017196788, -0.044248905, 0.019460453, 0.004850395, -0.037216537, -0.030349005, -0.005545096, 0.011520654, -0.049747642, 0.041063882, -0.007322323, -0.021789245, 0.009167254, 0.028834684, -0.02169006, 0.024565842, -0.0327363, 0.00536259, -0.036434997, -0.0038961014, 0.008475129, 0.030305585, -0.0056650494, 0.0022758076, -0.0121178925, 0.020236656, 0.034505434, 0.008622312, 0.0141898515, -0.035013214, 0.018689126, -0.015605655, 0.019232322, 0.00046702803, 0.050094992], 'new_chunk_embedding': [1.3125, 1.3203125, -0.28320312, 1.8125, -0.8984375, -1.4140625, -1.296875, -1.15625, -1.6484375, 0.23046875, -0.8671875, 1.3984375, -0.65625, -0.33789062, -0.3203125, -1.6328125, -0.76171875, -1.171875, -0.43554688, 1.2109375, 1.1015625, -0.359375, -0.23730469, 0.9921875, 0.16796875, 0.75, 0.50390625, 1.53125, -0.4921875, 1.046875, 2.125, 1.671875, -0.22363281, 0.0859375, 0.62890625, 0.90234375, -1.6640625, 0.71875, -1.1015625, 1.21875, -0.07470703, 1.4375, 0.24609375, -0.25, 0.87109375, 0.7109375, 0.014953613, -1.4140625, -0.34375, 1.109375, 0.71875, -1.5, -1.5625, 0.81640625, 0.3671875, 0.14746094, -0.1875, -0.30078125, -0.026367188, -0.53515625, -0.33007812, -0.20507812, 0.44921875, 1.1796875, -0.49609375, -1.796875, -0.69921875, -0.81640625, 1.484375, 0.2890625, 0.17578125, -0.22851562, 0.08984375, 0.33203125, 0.37890625, -0.35351562, 0.84765625, -0.07128906, 0.061523438, 0.123046875, 0.88671875, -0.45507812, -0.27148438, 0.18847656, 0.88671875, 0.84375, -0.22265625, -0.671875, 0.048828125, 0.87109375, 0.93359375, 0.78515625, 0.059814453, 0.47460938, 0.84375, 0.14550781, -0.24609375, -0.28515625, 0.78515625, 0.90625, 0.87109375, -1.25, -1.171875, -0.87109375, 0.78125, 1.3984375, 0.0043640137, 1.125, -1.0, 1.40625, 0.21386719, 1.96875, 0.49609375, -0.16210938, -1.34375, -0.72265625, 0.96484375, -0.22167969, 0.13574219, -0.43554688, 0.024536133, 1.234375, -0.28125, -0.8203125, 0.24609375, -2.640625, -0.17382812, 0.44335938, 0.41601562, 0.77734375, -0.15332031, -0.015258789, -0.56640625, 0.08203125, -0.34179688, 0.40820312, 0.17285156, -0.14257812, -0.43359375, -0.9140625, 0.41015625, -0.33984375, -1.0078125, -0.029663086, 0.099121094, 0.38085938, -0.45898438, -1.03125, -0.7578125, 1.2734375, 1.2578125, 0.22753906, 0.44726562, -0.72265625, 0.046875, 0.0859375, 0.609375, -0.9296875, 0.83203125, 0.38867188, -0.86328125, -0.18945312, -0.58984375, 0.40820312, -0.32226562, 0.078125, -0.60546875, 0.46679688, 0.056640625, -0.38085938, 0.50390625, -0.16308594, 0.90234375, 0.31835938, -0.69140625, -0.06982422, -0.875, 0.53515625, 0.51953125, 0.05859375, 0.8828125, 1.4453125, -0.33984375, 0.2109375, 0.39453125, 0.59765625, 0.609375, -0.9765625, -0.75, 0.32226562, -0.17675781, 0.59765625, 0.84375, -0.9765625, -1.296875, -0.74609375, -0.3828125, -0.33789062, -1.03125, 0.29101562, -0.484375, -0.92578125, 0.73046875, -0.43945312, -0.51953125, -1.0078125, -0.75, 0.15136719, 0.53125, -0.17480469, -0.46484375, -0.16699219, 0.13085938, 0.72265625, -0.6484375, 0.50390625, 0.87109375, 0.057128906, -0.44335938, 0.3359375, 0.14257812, 0.78125, -0.30273438, -0.33398438, 0.59375, -0.49609375, 0.8046875, -0.028320312, 0.265625, 0.53125, -0.11035156, -0.20703125, 0.85546875, -1.1171875, 0.78125, 0.075683594, -0.18164062, -0.70703125, -0.14941406, -0.071777344, 0.75, 0.25390625, 0.22460938, 0.28320312, 0.0625, -0.56640625, -1.1015625, -0.140625, -0.24414062, 1.5390625, 0.09423828, -0.37304688, 0.43554688, 1.2734375, -0.24121094, -0.09082031, -0.25390625, 0.19824219, -0.33203125, -0.13574219, 0.47460938, 0.20019531, 0.24414062, -0.28320312, 0.037109375, -0.032714844, 0.12792969, 0.51171875, 0.13867188, 0.3046875, -0.9296875, 0.13574219, -0.73046875, 0.390625, 0.30664062, 0.36328125, 0.036865234, 0.21679688, -0.17480469, 0.45703125, 0.3359375, -0.265625, 0.03125, -0.7578125, -0.47851562, 0.890625, -0.71484375, 1.3984375, -0.5625, -0.25, -1.3046875, 0.07421875, 0.95703125, 0.42773438, -0.107421875, 0.875, 0.25, -0.07080078, -0.09765625, -0.13671875, 0.17382812, 0.84375, 0.27929688, -0.55078125, 0.13085938, -0.63671875, -0.10253906, -0.24414062, -0.62890625, -0.7109375, -0.30664062, 0.12597656, 0.033691406, -0.33789062, 0.57421875, -0.13574219, 0.20996094, -0.42382812, 0.34570312, -1.1640625, -0.115722656, -0.20996094, 0.94921875, 0.796875, -0.14550781, -0.18457031, -0.2890625, -0.85546875, -0.75390625, -0.16015625, 0.1640625, 0.119628906, -0.5078125, 0.89453125, 0.265625, -0.1328125, -1.25, -0.39648438, 0.47851562, 0.02319336, -0.48242188, -0.23730469, -1.4296875, -0.2421875, -0.328125, 0.390625, -0.58203125, 0.90625, -0.17675781, -1.1328125, -0.48828125, 0.12060547, -0.2890625, 0.18261719, -0.21679688, -0.1953125, 0.41796875, 0.24121094, -0.18652344, 0.40429688, 0.89453125, 0.51171875, 0.49609375, -0.44726562, 0.484375, -0.21386719, 0.17675781, 0.36328125, -0.58984375, -0.36328125, -0.25390625, -0.48828125, 0.41796875, 0.47460938, -0.62890625, 0.10498047, -0.2890625, -0.89453125, -0.19433594, 0.106933594, 0.111328125, 0.13867188, 0.62890625, -0.47070312, 0.22753906, -0.76171875, 0.65625, -0.33203125, 0.61328125, -0.27148438, 0.09423828, -0.32226562, 0.040283203, -0.017211914, -0.42382812, 0.39648438, -0.75, -0.8359375, 0.96875, 1.15625, -0.088378906, 0.21875, 0.4921875, 0.8828125, 0.18457031, 0.27148438, 0.25976562, -0.37304688, 0.75, -0.1640625, 0.37695312, -1.09375, -0.3046875, 1.25, -0.79296875, -0.41796875, -0.15429688, 0.70703125, -0.3515625, 0.2890625, -1.046875, 0.051757812, 0.4453125, -0.171875, -0.28125, 1.1328125, -0.8671875, -0.21484375, 0.5546875, -1.1640625, -0.5703125, -0.54296875, -0.34375, -0.6796875, 0.484375, -0.31445312, -0.296875, -0.18261719, -0.74609375, 0.19433594, 0.19921875, 0.57421875, -0.53125, -0.53125, -0.6328125, 0.296875, 0.14355469, -0.13671875, -0.41601562, -0.24121094, -0.44726562, 0.515625, -0.34765625, -1.0078125, -0.70703125, 0.6640625, 0.63671875, -0.44140625, -0.40039062, -0.51953125, 0.026000977, 0.765625, 0.65625, 0.26757812, 0.19140625, 0.65625, -0.55859375, -0.20117188, 0.71875, 0.08935547, 0.453125, 0.053955078, 0.66796875, -0.5078125, -0.2109375, -0.33398438, -0.65234375, -0.28125, 0.20410156, 0.81640625, -0.47460938, -0.19726562, 1.09375, 1.0625, -0.16601562, -0.29296875, 0.28320312, 0.44726562, 0.6875, -0.11767578, -0.5078125, 0.03515625, 0.09082031, -0.28125, -0.42773438, 0.04272461, 0.19042969, -0.14160156, -1.2421875, 0.27539062, 0.19824219, -0.7109375, 1.1171875, 0.21484375, -0.50390625, -0.4296875, -0.39453125, -0.05444336, 0.46875, -0.45898438, 0.43945312, -0.9921875, 0.044189453, -0.33398438, 0.38476562, 0.52734375, 0.10644531, 0.053955078, -0.26367188, 0.015625, -0.12402344, 0.014160156, 1.25, 0.12988281, 0.026611328, -0.27929688, -0.48242188, -0.66015625, -0.2890625, -0.359375, 0.050048828, -0.2890625, -0.20214844, -0.064941406, 0.60546875, -0.35742188, 0.1796875, 0.3359375, -0.10644531, 0.44921875, 0.27734375, 0.49609375, -0.734375, -0.58203125, 0.06201172, 0.33398438, 0.07421875, 0.640625, -0.08496094, 0.16796875, -0.30859375, -0.19726562, -0.64453125, 0.109375, -0.38476562, -0.013183594, 0.53515625, 0.37695312, 0.77734375, -0.026855469, -0.40820312, -0.5234375, -0.14941406, 0.49609375, -0.21289062, -0.1171875, -0.037109375, -1.4375, -0.8046875, 0.84765625, 0.484375, -0.5390625, -0.09765625, -0.484375, -0.94921875, -0.5, -0.14257812, 0.33984375, -0.36328125, -0.0031738281, -0.64453125, 0.17675781, 0.2109375, 0.036621094, -0.41992188, 0.21972656, 0.34765625, -0.15722656, 0.5546875, 0.140625, 0.3203125, 0.041992188, 0.15039062, -0.55859375, 0.12695312, 0.359375, 0.8984375, 0.46289062, 0.76953125, 0.1328125, 0.33984375, -0.546875, -0.75, 0.21386719, -0.076660156, 0.50390625, -0.296875, -0.033203125, -0.026489258, -0.15429688, -0.20507812, -0.36328125, -0.14257812, 0.3203125, -0.6171875, 0.29101562, 0.12792969, -0.13574219, -0.3046875, 0.03881836, -0.13476562, 0.27148438, 0.123046875, -0.3203125, 0.2890625, 0.4609375, 0.4296875, 0.19726562, -0.73828125, 0.16796875, -0.24121094, 0.072265625, -0.296875, -1.1640625, -0.33398438, 0.07714844, -0.51953125, -0.171875, -0.08203125, -0.4375, 0.19726562, -0.796875, 0.6640625, -0.18945312, 0.24121094, -0.36523438, -0.296875, 0.053466797, 0.03540039, -0.546875, 0.12109375, 0.23046875, -0.38671875, 0.088378906, 0.111816406, -0.27929688, -0.70703125, 0.027832031, 0.15625, -0.24121094, -0.103027344, -0.69921875, -0.03881836, 0.19140625, -0.10595703, -0.03930664, -0.70703125, 0.24609375, 0.19628906, -0.05883789, 0.34765625, 0.15917969, -0.203125, 0.25585938, 0.21484375, -0.30078125, 0.39648438, 0.30664062, 0.25976562, 0.81640625, -0.011962891, 1.125, 0.81640625, -0.047851562, 0.39648438, -0.23046875, 0.54296875, -0.9921875, -0.9296875, -0.3828125, 0.28710938, -0.21191406, 0.11425781, 0.32421875, 0.19628906, 0.044921875, 0.18554688, 0.48828125, -0.08935547, 0.609375, 0.34375, -0.53515625, 0.040771484, 0.62109375, 0.009399414, -0.1328125, -0.66796875, -0.13671875, -0.2109375, 0.4609375, 0.94921875, -0.8828125, -0.41601562, 0.16601562, -0.15722656, -0.11328125, 0.18164062, -0.44726562, 0.23535156, 0.546875, -0.60546875, 0.032958984, 0.045654297, -0.40234375, 0.3828125, 0.23242188, 0.40820312, -0.3359375, 0.54296875, 0.73046875, 0.051757812, -0.31054688, -0.013000488, -0.23730469, -1.09375, 0.034179688, 0.18359375, -0.484375, -0.31640625, -0.087402344, -0.03125, 0.82421875, -0.31054688, -0.052978516, 0.27734375, -0.016235352, 0.20605469, 0.16894531, 0.16992188, 0.14746094, -0.19726562, 0.025024414, 0.37109375, 0.09423828, 0.63671875, 0.15039062, -0.048095703, -0.234375, -0.20117188, -0.8203125, 0.46679688, 0.83984375, -0.07910156, 0.008300781, 0.12792969, -0.21289062, 0.12109375, -0.16601562, 0.056640625, 0.2734375, 0.21582031, 0.03857422, -0.375, -0.11230469, 0.0036773682, -0.19433594, 0.030517578, 0.22949219, -0.21289062, 0.31640625, -0.85546875, 0.16308594, -0.31640625, 0.25, -0.23730469, -0.037841797, 0.25390625, 0.20117188, -0.27148438, -0.50390625, -0.17285156, 0.50390625, 0.50390625, 0.06640625, 0.5703125, -0.30859375, 0.028564453, 0.41796875, -0.021728516, 0.48242188, 0.32421875, 0.328125, -0.8203125, -0.984375, 0.30273438, 0.43359375, -0.22167969, 0.22949219, 0.040283203, -0.40429688, 0.5078125, -0.78125, 0.2734375, -0.22265625, 0.08203125, 0.055908203, 0.25, 0.033203125, 0.14550781, 0.5703125, 0.052246094, 0.1796875, 0.20703125, -0.421875, 0.41210938, -0.043945312, -0.030273438, 0.45117188, 0.29296875, -0.44335938, -0.064941406, 0.796875, -0.375, -0.2265625, -0.47851562, 0.028564453, 0.028076172, 0.49609375, 0.41210938, 0.765625, -0.06640625, 0.20605469, 0.5234375, -0.16113281, 0.12597656, -0.13085938, -1.046875, -0.19335938, -0.59375, -0.25390625, -0.34375, -0.36914062, -0.51953125, 0.41015625, 0.0018310547, -0.58984375, -0.06640625, -0.23339844, -0.40625, -0.11621094, -0.51953125, 0.36328125, 0.008728027, 0.5859375, -0.1484375, -0.022949219, -0.60546875, -0.6796875, -0.16894531, 0.45898438, -0.042236328, -0.5390625, 0.046142578, 0.06640625, -0.12597656, -0.07519531, 0.31835938, -0.59375, -0.014160156, -0.3671875, 0.2265625, -0.29296875, -0.5, -0.040039062, -0.4921875, 0.064453125, 0.22558594, -0.14746094, -0.125, -0.66015625, 0.73828125, 0.20703125, -0.44921875, 0.087402344, 0.075683594, -0.20898438, 0.12109375, -0.1640625, 1.0078125, 0.03466797, 0.06201172, -0.10253906, -0.16113281, 0.052490234, 0.4609375, -0.23242188, -0.52734375, 0.36914062, -0.087890625, 0.47851562, -0.3671875, 0.24609375, -0.47851562, -0.1328125, -0.36523438, -0.33398438, 0.3203125, 0.4375, -0.123046875, 0.020019531, 0.3828125, 0.328125, -0.27734375, -0.48242188, -0.064453125, 0.37695312, -0.055419922, 0.13085938, 0.79296875, -0.03125, 0.20019531, 0.2265625, 0.15136719, 0.85546875, 0.17089844, -0.1796875, 0.27929688, 0.5625, -0.23925781, -0.58984375, 0.16992188, 0.6171875, -0.73828125, 0.546875, 0.12695312, -0.49609375, 0.013671875, -0.76953125, -0.1875, 0.31640625, -0.6640625, 0.05029297, 0.41601562, -0.12792969, 0.3046875, -0.47460938, 0.28320312, 0.34765625, 0.06640625, -0.62890625, 0.21484375, 0.41601562, -0.5390625, 0.016723633, 0.9140625, -0.32226562, 0.008605957, -0.002243042, -0.08154297, 0.47070312, 0.1328125, -0.14257812, -0.15722656, 0.36328125, 0.31054688, -0.58984375, 0.106933594, 0.17871094, 0.08203125, 0.546875, -0.55859375, 0.044677734, 0.85546875, 0.35742188, -0.54296875, 0.079589844, -0.53515625, 0.390625, 0.54296875, 0.106933594, -0.41601562, 0.12792969, 0.37695312, -0.88671875, 0.48242188, 0.21972656, 0.15332031, -0.016967773, 0.09375, -0.10498047, -0.03857422, 0.2578125, 0.12890625, -0.91796875, 0.70703125, -0.703125, 0.041259766, -0.94921875, 0.059326172, 0.45117188, 0.8046875, -0.22363281, -0.23535156, 0.11035156, 0.25, 0.765625, -0.068847656, 0.1796875, -0.3671875, 0.24804688, -0.08496094, 0.65234375, 0.33203125, 0.4140625], 'doc_id': 704343, 'id': 5518910, 'chunk': ' в настоящий момент пожару присвоен повышенный четвертый ранг сложности.'}\"] "
      ]
     },
     "execution_count": 16,
     "metadata": {},
     "output_type": "execute_result"
    }
   ],
   "source": [
    "client.get(\n",
    "    collection_name=\"chunks_embedded\",\n",
    "    ids=[5518910]\n",
    ")"
   ]
  },
  {
   "cell_type": "code",
   "execution_count": 56,
   "id": "07fe042f-de40-46a8-b71e-0a12b8927065",
   "metadata": {},
   "outputs": [
    {
     "data": {
      "text/plain": [
       "{'delete_count': 7110, 'cost': 0}"
      ]
     },
     "execution_count": 56,
     "metadata": {},
     "output_type": "execute_result"
    }
   ],
   "source": [
    "client.delete(\n",
    "    collection_name=\"chunks_embedded\",\n",
    "    filter=\"id in \"+str(list(range(7110)))\n",
    ")"
   ]
  },
  {
   "cell_type": "code",
   "execution_count": null,
   "id": "caa3fac5-7fb2-4bf1-b5f5-a49339770af1",
   "metadata": {},
   "outputs": [],
   "source": []
  },
  {
   "cell_type": "code",
   "execution_count": null,
   "id": "ff20edef-8946-457f-9dc9-9eb211f4452a",
   "metadata": {},
   "outputs": [],
   "source": []
  },
  {
   "cell_type": "code",
   "execution_count": null,
   "id": "ac700420-5c64-487a-badb-c382fbf39aec",
   "metadata": {},
   "outputs": [],
   "source": []
  },
  {
   "cell_type": "code",
   "execution_count": null,
   "id": "cc2e8421-f631-4a32-9316-7e3c7fcafc3a",
   "metadata": {},
   "outputs": [],
   "source": []
  },
  {
   "cell_type": "code",
   "execution_count": null,
   "id": "a9b990b2-7ba0-4418-bf2a-0956cc4a20c7",
   "metadata": {},
   "outputs": [],
   "source": []
  },
  {
   "cell_type": "code",
   "execution_count": null,
   "id": "e57c03da-566d-4cc4-85e7-44c220184680",
   "metadata": {},
   "outputs": [],
   "source": []
  },
  {
   "cell_type": "code",
   "execution_count": null,
   "id": "6f6c29bf-84ac-4a6a-baa8-804348ab8b18",
   "metadata": {},
   "outputs": [],
   "source": []
  },
  {
   "cell_type": "code",
   "execution_count": null,
   "id": "f587bfcf-280d-4d0d-917d-038957e315e7",
   "metadata": {},
   "outputs": [],
   "source": []
  },
  {
   "cell_type": "code",
   "execution_count": null,
   "id": "e8e2c7ef-2889-49ea-8c8b-5ab4ad8ee009",
   "metadata": {},
   "outputs": [],
   "source": []
  },
  {
   "cell_type": "code",
   "execution_count": null,
   "id": "9a55e0e4-ce88-4cc9-a91c-9929cf83ec58",
   "metadata": {},
   "outputs": [],
   "source": []
  },
  {
   "cell_type": "code",
   "execution_count": null,
   "id": "e166fc88-dd51-4f75-815a-472681b4d441",
   "metadata": {},
   "outputs": [],
   "source": []
  },
  {
   "cell_type": "code",
   "execution_count": 40,
   "id": "46c13133-c973-4344-a9ef-f677e852cc2b",
   "metadata": {},
   "outputs": [
    {
     "data": {
      "text/plain": [
       "True"
      ]
     },
     "execution_count": 40,
     "metadata": {},
     "output_type": "execute_result"
    }
   ],
   "source": [
    "client.create_collection(\n",
    "    collection_name=\"{chunks_embedded_new}\",\n",
    "    vectors_config=models.VectorParams(size=1024, distance=models.Distance.COSINE, on_disk=True),\n",
    "    on_disk_payload=True,\n",
    "    optimizers_config=models.OptimizersConfigDiff(\n",
    "        indexing_threshold=0,\n",
    "    ),\n",
    ")"
   ]
  },
  {
   "cell_type": "code",
   "execution_count": 38,
   "id": "f836b336-8631-48dc-b614-7a785826d3d7",
   "metadata": {},
   "outputs": [
    {
     "data": {
      "text/plain": [
       "True"
      ]
     },
     "execution_count": 38,
     "metadata": {},
     "output_type": "execute_result"
    }
   ],
   "source": [
    "client.delete_collection(collection_name=\"{chunks_embedded_new}\")"
   ]
  },
  {
   "cell_type": "code",
   "execution_count": 8,
   "id": "04cd1695-b616-4e94-9fa1-e8f080418dd4",
   "metadata": {},
   "outputs": [],
   "source": [
    "chunks_embedded_n = pd.read_pickle(basePath + \"\\\\ai-forever-ria-news-retrieval\\\\chunks_embedded_0.pkl\")"
   ]
  },
  {
   "cell_type": "code",
   "execution_count": 30,
   "id": "80e20c23-f8cd-4e24-92a8-6d073754030f",
   "metadata": {},
   "outputs": [
    {
     "data": {
      "text/html": [
       "<div>\n",
       "<style scoped>\n",
       "    .dataframe tbody tr th:only-of-type {\n",
       "        vertical-align: middle;\n",
       "    }\n",
       "\n",
       "    .dataframe tbody tr th {\n",
       "        vertical-align: top;\n",
       "    }\n",
       "\n",
       "    .dataframe thead th {\n",
       "        text-align: right;\n",
       "    }\n",
       "</style>\n",
       "<table border=\"1\" class=\"dataframe\">\n",
       "  <thead>\n",
       "    <tr style=\"text-align: right;\">\n",
       "      <th></th>\n",
       "      <th>chunk</th>\n",
       "      <th>trad_chunk_embedding</th>\n",
       "      <th>new_chunk_embedding</th>\n",
       "      <th>doc_id</th>\n",
       "    </tr>\n",
       "  </thead>\n",
       "  <tbody>\n",
       "    <tr>\n",
       "      <th>3839</th>\n",
       "      <td>по его словам, на помощь сейнеру вышло погра...</td>\n",
       "      <td>[-0.041260462, -0.14105958, 0.039183214, -0.01...</td>\n",
       "      <td>[0.12402344, -0.38867188, 0.2734375, -0.746093...</td>\n",
       "      <td>529</td>\n",
       "    </tr>\n",
       "  </tbody>\n",
       "</table>\n",
       "</div>"
      ],
      "text/plain": [
       "                                                  chunk  \\\n",
       "3839   по его словам, на помощь сейнеру вышло погра...   \n",
       "\n",
       "                                   trad_chunk_embedding  \\\n",
       "3839  [-0.041260462, -0.14105958, 0.039183214, -0.01...   \n",
       "\n",
       "                                    new_chunk_embedding doc_id  \n",
       "3839  [0.12402344, -0.38867188, 0.2734375, -0.746093...    529  "
      ]
     },
     "execution_count": 30,
     "metadata": {},
     "output_type": "execute_result"
    }
   ],
   "source": [
    "#chunks_embedded_n['chunk'][28345]\n",
    "chunks_embedded_n.iloc[[3839]]"
   ]
  },
  {
   "cell_type": "code",
   "execution_count": 5,
   "id": "a59f8aa8-6a65-4661-9119-11085bb9274f",
   "metadata": {},
   "outputs": [
    {
     "data": {
      "text/plain": [
       "CollectionInfo(status=<CollectionStatus.GREEN: 'green'>, optimizer_status=<OptimizersStatusOneOf.OK: 'ok'>, vectors_count=None, indexed_vectors_count=0, points_count=0, segments_count=8, config=CollectionConfig(params=CollectionParams(vectors=VectorParams(size=1024, distance=<Distance.COSINE: 'Cosine'>, hnsw_config=None, quantization_config=None, on_disk=True, datatype=None, multivector_config=None), shard_number=1, sharding_method=None, replication_factor=1, write_consistency_factor=1, read_fan_out_factor=None, on_disk_payload=True, sparse_vectors=None), hnsw_config=HnswConfig(m=16, ef_construct=100, full_scan_threshold=10000, max_indexing_threads=0, on_disk=False, payload_m=None), optimizer_config=OptimizersConfig(deleted_threshold=0.2, vacuum_min_vector_number=1000, default_segment_number=0, max_segment_size=None, memmap_threshold=None, indexing_threshold=0, flush_interval_sec=5, max_optimization_threads=None), wal_config=WalConfig(wal_capacity_mb=32, wal_segments_ahead=0), quantization_config=None), payload_schema={})"
      ]
     },
     "execution_count": 5,
     "metadata": {},
     "output_type": "execute_result"
    }
   ],
   "source": [
    "client.get_collection(collection_name=\"{chunks_embedded_new}\")"
   ]
  },
  {
   "cell_type": "code",
   "execution_count": 15,
   "id": "917e6312-7d53-456c-920c-7f949aaae6d3",
   "metadata": {},
   "outputs": [
    {
     "name": "stderr",
     "output_type": "stream",
     "text": [
      "C:\\Users\\gorku\\AppData\\Local\\Packages\\PythonSoftwareFoundation.Python.3.12_qbz5n2kfra8p0\\LocalCache\\local-packages\\Python312\\site-packages\\numpy\\core\\fromnumeric.py:59: FutureWarning: 'DataFrame.swapaxes' is deprecated and will be removed in a future version. Please use 'DataFrame.transpose' instead.\n",
      "  return bound(*args, **kwds)\n"
     ]
    },
    {
     "data": {
      "text/plain": [
       "(1003, 4)"
      ]
     },
     "execution_count": 15,
     "metadata": {},
     "output_type": "execute_result"
    }
   ],
   "source": [
    "payloads = np.array_split(chunks_embedded_n, chunks_embedded_n.shape[0] / 1000)\n",
    "payloads[0].shape"
   ]
  },
  {
   "cell_type": "code",
   "execution_count": 24,
   "id": "3e1a4459-4798-4706-b55c-65915fe9695c",
   "metadata": {},
   "outputs": [
    {
     "data": {
      "text/html": [
       "<div>\n",
       "<style scoped>\n",
       "    .dataframe tbody tr th:only-of-type {\n",
       "        vertical-align: middle;\n",
       "    }\n",
       "\n",
       "    .dataframe tbody tr th {\n",
       "        vertical-align: top;\n",
       "    }\n",
       "\n",
       "    .dataframe thead th {\n",
       "        text-align: right;\n",
       "    }\n",
       "</style>\n",
       "<table border=\"1\" class=\"dataframe\">\n",
       "  <thead>\n",
       "    <tr style=\"text-align: right;\">\n",
       "      <th></th>\n",
       "      <th>chunk</th>\n",
       "      <th>trad_chunk_embedding</th>\n",
       "      <th>new_chunk_embedding</th>\n",
       "      <th>doc_id</th>\n",
       "    </tr>\n",
       "  </thead>\n",
       "  <tbody>\n",
       "    <tr>\n",
       "      <th>28334</th>\n",
       "      <td>сильнейший ливень, вызвавший мощное наводн...</td>\n",
       "      <td>[0.022568297, -0.087302975, 0.023843262, -0.07...</td>\n",
       "      <td>[-0.118652344, -1.828125, 1.1875, -0.43554688,...</td>\n",
       "      <td>3838</td>\n",
       "    </tr>\n",
       "    <tr>\n",
       "      <th>28335</th>\n",
       "      <td>ранее стало известно, что в результате сильне...</td>\n",
       "      <td>[0.0012870327, -0.09821144, 0.08754822, -0.014...</td>\n",
       "      <td>[-0.11425781, -1.8984375, 1.1796875, -0.164062...</td>\n",
       "      <td>3838</td>\n",
       "    </tr>\n",
       "    <tr>\n",
       "      <th>28336</th>\n",
       "      <td>от наводнения частично пострадал аэропорт шар...</td>\n",
       "      <td>[0.025234822, -0.094522074, 0.05937534, -0.030...</td>\n",
       "      <td>[0.12158203, -1.828125, 1.2421875, -0.2890625,...</td>\n",
       "      <td>3838</td>\n",
       "    </tr>\n",
       "    <tr>\n",
       "      <th>28337</th>\n",
       "      <td>из-за плохой погоды закрыты пять морских пор...</td>\n",
       "      <td>[0.010627331, -0.070719995, -0.031499058, -0.0...</td>\n",
       "      <td>[0.027954102, -1.5078125, 1.203125, -0.3125, 0...</td>\n",
       "      <td>3838</td>\n",
       "    </tr>\n",
       "    <tr>\n",
       "      <th>28338</th>\n",
       "      <td>по данным спасательных служб, во многих курор...</td>\n",
       "      <td>[-0.03727261, -0.045487158, -0.06894926, 0.014...</td>\n",
       "      <td>[-0.14355469, -1.6328125, 0.94921875, -0.01397...</td>\n",
       "      <td>3838</td>\n",
       "    </tr>\n",
       "    <tr>\n",
       "      <th>28339</th>\n",
       "      <td>селевыми потоками разрушены порядка 45 жилых ...</td>\n",
       "      <td>[0.05095162, -0.098087795, -0.00092488277, -0....</td>\n",
       "      <td>[0.0033111572, -1.609375, 1.1640625, -0.3125, ...</td>\n",
       "      <td>3838</td>\n",
       "    </tr>\n",
       "    <tr>\n",
       "      <th>28340</th>\n",
       "      <td>завоевание золотых медалей, выигрыш кубка рос...</td>\n",
       "      <td>[0.033281542, -0.12408914, -0.07292332, -0.004...</td>\n",
       "      <td>[0.45703125, -2.03125, -1.609375, 0.49414062, ...</td>\n",
       "      <td>3839</td>\n",
       "    </tr>\n",
       "    <tr>\n",
       "      <th>28341</th>\n",
       "      <td>- если говорить о конкретных задачах, то в гр...</td>\n",
       "      <td>[0.022755839, -0.08163082, -0.099895306, 0.032...</td>\n",
       "      <td>[0.49804688, -1.8203125, -1.5546875, 0.7226562...</td>\n",
       "      <td>3839</td>\n",
       "    </tr>\n",
       "    <tr>\n",
       "      <th>28342</th>\n",
       "      <td>мы надеемся, что с новым наставником сможем в...</td>\n",
       "      <td>[0.08612651, -0.13075887, -0.056889694, -0.036...</td>\n",
       "      <td>[0.51171875, -1.84375, -1.546875, 0.62890625, ...</td>\n",
       "      <td>3839</td>\n",
       "    </tr>\n",
       "    <tr>\n",
       "      <th>28343</th>\n",
       "      <td>предложение \"зенита\" было самым интересным - ...</td>\n",
       "      <td>[-0.0015919321, -0.13995178, -0.07896757, 0.02...</td>\n",
       "      <td>[0.25, -2.21875, -1.3828125, 0.91015625, -1.96...</td>\n",
       "      <td>3839</td>\n",
       "    </tr>\n",
       "    <tr>\n",
       "      <th>28345</th>\n",
       "      <td>пожарные ликвидировали возгорание в четырехэта...</td>\n",
       "      <td>[0.057892222, 0.1501091, 0.043521278, 0.042573...</td>\n",
       "      <td>[1.3046875, 2.21875, 0.32617188, 0.7734375, -2...</td>\n",
       "      <td>3841</td>\n",
       "    </tr>\n",
       "    <tr>\n",
       "      <th>28346</th>\n",
       "      <td>\"пожар ликвидирован в 16.35 мск, его общая пл...</td>\n",
       "      <td>[0.046006564, 0.044077124, -0.047614258, 0.066...</td>\n",
       "      <td>[1.3515625, 2.109375, 0.16699219, 0.69140625, ...</td>\n",
       "      <td>3841</td>\n",
       "    </tr>\n",
       "    <tr>\n",
       "      <th>28347</th>\n",
       "      <td>он уточнил, что погибших и пострадавших нет.</td>\n",
       "      <td>[0.02071538, -0.10553269, -0.025949435, 0.0569...</td>\n",
       "      <td>[1.1640625, 1.6953125, -0.018676758, 0.7226562...</td>\n",
       "      <td>3841</td>\n",
       "    </tr>\n",
       "    <tr>\n",
       "      <th>28348</th>\n",
       "      <td>сообщение о возгорании в четырехэтажном двухп...</td>\n",
       "      <td>[-0.015505215, 0.14778917, 0.03789337, 0.09432...</td>\n",
       "      <td>[1.2265625, 2.15625, 0.27148438, 0.8515625, -2...</td>\n",
       "      <td>3841</td>\n",
       "    </tr>\n",
       "    <tr>\n",
       "      <th>28349</th>\n",
       "      <td>из горящего здания пожарные эвакуировали окол...</td>\n",
       "      <td>[0.039156064, 0.07081243, -0.009151965, 0.0919...</td>\n",
       "      <td>[1.375, 2.484375, 0.35351562, 1.0078125, -2.65...</td>\n",
       "      <td>3841</td>\n",
       "    </tr>\n",
       "    <tr>\n",
       "      <th>28350</th>\n",
       "      <td>спустя полтора часа после начала пожара произ...</td>\n",
       "      <td>[0.0531033, 0.01863629, -0.035436668, 0.073127...</td>\n",
       "      <td>[1.5390625, 2.0625, 0.0038452148, 0.75390625, ...</td>\n",
       "      <td>3841</td>\n",
       "    </tr>\n",
       "    <tr>\n",
       "      <th>28351</th>\n",
       "      <td>горевшее здание - старой постройки, оно рас...</td>\n",
       "      <td>[0.10348037, 0.036057126, 0.0205615, 0.0609830...</td>\n",
       "      <td>[1.546875, 1.7734375, 0.17871094, 0.6875, -2.5...</td>\n",
       "      <td>3841</td>\n",
       "    </tr>\n",
       "    <tr>\n",
       "      <th>28352</th>\n",
       "      <td>в непосредственной близости от него находитс...</td>\n",
       "      <td>[0.03427641, -0.13583227, 0.08040809, 0.066706...</td>\n",
       "      <td>[1.3125, 0.9921875, 0.56640625, 0.49414062, -2...</td>\n",
       "      <td>3841</td>\n",
       "    </tr>\n",
       "    <tr>\n",
       "      <th>28353</th>\n",
       "      <td>избирательный штаб юлии тимошенко, который с...</td>\n",
       "      <td>[0.11534102, -0.05606783, -0.06419965, 0.02261...</td>\n",
       "      <td>[1.984375, -0.9765625, -1.3984375, 0.9296875, ...</td>\n",
       "      <td>3842</td>\n",
       "    </tr>\n",
       "    <tr>\n",
       "      <th>28354</th>\n",
       "      <td>\"наш избирательный штаб принял решение не об...</td>\n",
       "      <td>[0.09654281, -0.02262261, -0.05942133, -0.0097...</td>\n",
       "      <td>[1.890625, -0.70703125, -1.265625, 0.671875, -...</td>\n",
       "      <td>3842</td>\n",
       "    </tr>\n",
       "    <tr>\n",
       "      <th>28355</th>\n",
       "      <td>по его словам, анализ первого тура свидетельс...</td>\n",
       "      <td>[0.10632963, -0.11407574, -0.067639284, 0.0326...</td>\n",
       "      <td>[1.8828125, -0.84765625, -1.4765625, 0.8789062...</td>\n",
       "      <td>3842</td>\n",
       "    </tr>\n",
       "    <tr>\n",
       "      <th>28356</th>\n",
       "      <td>\"во втором туре все избирательные комиссии бу...</td>\n",
       "      <td>[0.10184045, -0.054479714, -0.039342906, 0.029...</td>\n",
       "      <td>[1.9453125, -0.6796875, -0.85546875, 1.0390625...</td>\n",
       "      <td>3842</td>\n",
       "    </tr>\n",
       "    <tr>\n",
       "      <th>28357</th>\n",
       "      <td>по данным цик, после подсчета 95,18% протокол...</td>\n",
       "      <td>[0.1060529, -0.08306628, -0.090341754, 0.09439...</td>\n",
       "      <td>[1.8984375, -1.0234375, -1.4375, 1.28125, -1.1...</td>\n",
       "      <td>3842</td>\n",
       "    </tr>\n",
       "    <tr>\n",
       "      <th>28358</th>\n",
       "      <td>турчинов заявил, что согласно их параллельном...</td>\n",
       "      <td>[0.11003849, -0.051110197, -0.06420426, 0.0586...</td>\n",
       "      <td>[1.828125, -0.88671875, -1.3125, 1.1953125, -1...</td>\n",
       "      <td>3842</td>\n",
       "    </tr>\n",
       "    <tr>\n",
       "      <th>28359</th>\n",
       "      <td>устройство крещенской купели &gt;&gt; список водое...</td>\n",
       "      <td>[0.037906162, 0.06453494, 0.13702783, 0.083511...</td>\n",
       "      <td>[0.703125, 1.2109375, 2.578125, 1.5625, 1.3593...</td>\n",
       "      <td>3843</td>\n",
       "    </tr>\n",
       "    <tr>\n",
       "      <th>28360</th>\n",
       "      <td>уголовное дело по факту нарушения правил безоп...</td>\n",
       "      <td>[-0.0030722101, 0.04411937, 0.06381444, 0.0656...</td>\n",
       "      <td>[-0.10058594, 0.546875, 1.359375, 1.21875, -0....</td>\n",
       "      <td>3844</td>\n",
       "    </tr>\n",
       "    <tr>\n",
       "      <th>28361</th>\n",
       "      <td>\"дело возбуждено по признакам преступления, п...</td>\n",
       "      <td>[0.047104593, -0.111651644, 0.045673065, 0.069...</td>\n",
       "      <td>[-0.029296875, 0.5234375, 1.484375, 1.328125, ...</td>\n",
       "      <td>3844</td>\n",
       "    </tr>\n",
       "    <tr>\n",
       "      <th>28362</th>\n",
       "      <td>взрыв в луганской больнице произошел в понед...</td>\n",
       "      <td>[-0.012895238, 0.043642115, -0.0022798062, 0.0...</td>\n",
       "      <td>[-0.40039062, 0.9453125, 1.0703125, 1.171875, ...</td>\n",
       "      <td>3844</td>\n",
       "    </tr>\n",
       "    <tr>\n",
       "      <th>28363</th>\n",
       "      <td>по последним данным городских властей, судьб...</td>\n",
       "      <td>[-0.028248813, -0.06392935, -0.021528779, 0.03...</td>\n",
       "      <td>[-0.3828125, 0.3671875, 0.859375, 0.8671875, -...</td>\n",
       "      <td>3844</td>\n",
       "    </tr>\n",
       "    <tr>\n",
       "      <th>28364</th>\n",
       "      <td>по данным мчс украины, в результате взрыва тр...</td>\n",
       "      <td>[0.1022798, -0.059766226, 0.008271083, 0.09506...</td>\n",
       "      <td>[-0.14746094, 0.4140625, 1.1015625, 0.8125, -0...</td>\n",
       "      <td>3844</td>\n",
       "    </tr>\n",
       "    <tr>\n",
       "      <th>28365</th>\n",
       "      <td>данные о раненых мчс не приводит, городские в...</td>\n",
       "      <td>[0.06425366, -0.050904375, -0.018216345, 0.086...</td>\n",
       "      <td>[-0.37695312, 0.51953125, 0.88671875, 0.90625,...</td>\n",
       "      <td>3844</td>\n",
       "    </tr>\n",
       "    <tr>\n",
       "      <th>28366</th>\n",
       "      <td>по данным минздрава, на момент взрыва в больн...</td>\n",
       "      <td>[0.056918718, -0.02104044, -0.029103776, 0.134...</td>\n",
       "      <td>[-0.3515625, 0.625, 0.89453125, 1.21875, -0.21...</td>\n",
       "      <td>3844</td>\n",
       "    </tr>\n",
       "    <tr>\n",
       "      <th>28367</th>\n",
       "      <td>на место прибыла премьер страны юлия тимошенко.</td>\n",
       "      <td>[0.031754263, -0.11391136, 0.040285897, 0.0792...</td>\n",
       "      <td>[-0.5703125, 0.30078125, 0.96875, 0.75390625, ...</td>\n",
       "      <td>3844</td>\n",
       "    </tr>\n",
       "    <tr>\n",
       "      <th>28368</th>\n",
       "      <td>австрийская столица выделяет на помощь постра...</td>\n",
       "      <td>[-0.005071952, -0.099160515, -0.022552488, 0.1...</td>\n",
       "      <td>[0.15039062, -1.5859375, -0.27539062, 1.898437...</td>\n",
       "      <td>3845</td>\n",
       "    </tr>\n",
       "    <tr>\n",
       "      <th>28369</th>\n",
       "      <td>два мощных землетрясения у побережья гаити 12...</td>\n",
       "      <td>[0.08534849, -0.14079054, 0.008002368, -0.0095...</td>\n",
       "      <td>[0.796875, -1.78125, -0.34570312, 1.53125, 0.4...</td>\n",
       "      <td>3845</td>\n",
       "    </tr>\n",
       "    <tr>\n",
       "      <th>28370</th>\n",
       "      <td>по разным данным, стихия унесла жизни от 50 д...</td>\n",
       "      <td>[0.074981175, -0.1580666, 0.019304167, -0.0031...</td>\n",
       "      <td>[0.20605469, -1.8359375, -0.020141602, 1.82031...</td>\n",
       "      <td>3845</td>\n",
       "    </tr>\n",
       "    <tr>\n",
       "      <th>28371</th>\n",
       "      <td>по его словам, половина этой суммы будет исп...</td>\n",
       "      <td>[-0.018761579, -0.08820925, 0.025434915, 0.006...</td>\n",
       "      <td>[0.012756348, -1.4375, 0.33007812, 1.625, 0.06...</td>\n",
       "      <td>3845</td>\n",
       "    </tr>\n",
       "    <tr>\n",
       "      <th>28372</th>\n",
       "      <td>вторую половину суммы планируется использоват...</td>\n",
       "      <td>[0.024221737, -0.1025434, -0.039433554, 0.0404...</td>\n",
       "      <td>[0.1875, -1.3046875, 0.107421875, 1.7578125, -...</td>\n",
       "      <td>3845</td>\n",
       "    </tr>\n",
       "    <tr>\n",
       "      <th>28373</th>\n",
       "      <td>\"население гаити должно быть уверено, что меж...</td>\n",
       "      <td>[0.0694953, -0.162233, 0.0331101, -0.048825096...</td>\n",
       "      <td>[0.16699219, -1.640625, 0.014831543, 1.4296875...</td>\n",
       "      <td>3845</td>\n",
       "    </tr>\n",
       "    <tr>\n",
       "      <th>28374</th>\n",
       "      <td>в воскресенье глава австрийского мид михаэль...</td>\n",
       "      <td>[0.034792762, -0.13462086, 0.029820036, 0.0477...</td>\n",
       "      <td>[0.2265625, -1.6171875, -0.20019531, 1.671875,...</td>\n",
       "      <td>3845</td>\n",
       "    </tr>\n",
       "    <tr>\n",
       "      <th>28375</th>\n",
       "      <td>министр отверг упрек в том, что этой суммы н...</td>\n",
       "      <td>[-0.028208202, -0.1155297, -0.022245267, -0.01...</td>\n",
       "      <td>[0.004425049, -1.6640625, -0.20898438, 1.38281...</td>\n",
       "      <td>3845</td>\n",
       "    </tr>\n",
       "    <tr>\n",
       "      <th>28376</th>\n",
       "      <td>по его словам, речь идет лишь о первичной по...</td>\n",
       "      <td>[-0.013400878, -0.06715825, 0.03564311, 0.0213...</td>\n",
       "      <td>[-0.029296875, -1.5078125, 0.049804688, 1.6171...</td>\n",
       "      <td>3845</td>\n",
       "    </tr>\n",
       "    <tr>\n",
       "      <th>28377</th>\n",
       "      <td>вопрос о длительной помощи гаити будет рассм...</td>\n",
       "      <td>[0.04479255, -0.12891592, 0.04372519, -0.04339...</td>\n",
       "      <td>[0.265625, -1.6171875, -0.01159668, 1.5078125,...</td>\n",
       "      <td>3845</td>\n",
       "    </tr>\n",
       "    <tr>\n",
       "      <th>28378</th>\n",
       "      <td>российские спасатели обнаружили тело россияни...</td>\n",
       "      <td>[-0.006966851, -0.1243763, 0.113860644, 0.0011...</td>\n",
       "      <td>[0.22753906, -2.65625, 1.6171875, 0.4296875, -...</td>\n",
       "      <td>3846</td>\n",
       "    </tr>\n",
       "    <tr>\n",
       "      <th>28379</th>\n",
       "      <td>два землетрясения магнитудой 7,0 и 5,9 произ...</td>\n",
       "      <td>[0.057193603, -0.097067215, 0.013108827, -0.00...</td>\n",
       "      <td>[1.1875, -2.671875, 0.80859375, 0.66796875, 0....</td>\n",
       "      <td>3846</td>\n",
       "    </tr>\n",
       "    <tr>\n",
       "      <th>28380</th>\n",
       "      <td>по сведениям местных властей, среди погибших...</td>\n",
       "      <td>[0.090887986, -0.17497152, -0.049203448, 0.021...</td>\n",
       "      <td>[0.4921875, -3.0625, 1.015625, 0.53515625, -0....</td>\n",
       "      <td>3846</td>\n",
       "    </tr>\n",
       "    <tr>\n",
       "      <th>28381</th>\n",
       "      <td>ранее жена гражданина рф - гражданка доминика...</td>\n",
       "      <td>[0.019005157, -0.10681837, 0.0028044588, -0.03...</td>\n",
       "      <td>[0.30273438, -2.703125, 1.2578125, 0.34570312,...</td>\n",
       "      <td>3846</td>\n",
       "    </tr>\n",
       "    <tr>\n",
       "      <th>28382</th>\n",
       "      <td>\"тело профессора обнаружено.</td>\n",
       "      <td>[0.07251922, -0.11065266, 0.082448594, 0.02639...</td>\n",
       "      <td>[0.8125, -2.875, 1.59375, 0.73046875, -0.09814...</td>\n",
       "      <td>3846</td>\n",
       "    </tr>\n",
       "    <tr>\n",
       "      <th>28383</th>\n",
       "      <td>мы будем его доставать\", - сказал представите...</td>\n",
       "      <td>[0.016437689, -0.17014691, 0.03877459, 0.00497...</td>\n",
       "      <td>[0.43554688, -2.59375, 1.4140625, 0.65234375, ...</td>\n",
       "      <td>3846</td>\n",
       "    </tr>\n",
       "    <tr>\n",
       "      <th>28384</th>\n",
       "      <td>он добавил, что еще две группы российских сп...</td>\n",
       "      <td>[0.008625241, -0.16109177, -0.009925262, -9.78...</td>\n",
       "      <td>[0.4296875, -2.6875, 1.1484375, 0.49804688, -0...</td>\n",
       "      <td>3846</td>\n",
       "    </tr>\n",
       "  </tbody>\n",
       "</table>\n",
       "</div>"
      ],
      "text/plain": [
       "                                                   chunk  \\\n",
       "28334   сильнейший ливень, вызвавший мощное наводн...   \n",
       "28335   ранее стало известно, что в результате сильне...   \n",
       "28336   от наводнения частично пострадал аэропорт шар...   \n",
       "28337   из-за плохой погоды закрыты пять морских пор...   \n",
       "28338   по данным спасательных служб, во многих курор...   \n",
       "28339   селевыми потоками разрушены порядка 45 жилых ...   \n",
       "28340  завоевание золотых медалей, выигрыш кубка рос...   \n",
       "28341   - если говорить о конкретных задачах, то в гр...   \n",
       "28342   мы надеемся, что с новым наставником сможем в...   \n",
       "28343   предложение \"зенита\" было самым интересным - ...   \n",
       "28345  пожарные ликвидировали возгорание в четырехэта...   \n",
       "28346   \"пожар ликвидирован в 16.35 мск, его общая пл...   \n",
       "28347       он уточнил, что погибших и пострадавших нет.   \n",
       "28348   сообщение о возгорании в четырехэтажном двухп...   \n",
       "28349   из горящего здания пожарные эвакуировали окол...   \n",
       "28350   спустя полтора часа после начала пожара произ...   \n",
       "28351   горевшее здание - старой постройки, оно рас...   \n",
       "28352   в непосредственной близости от него находитс...   \n",
       "28353  избирательный штаб юлии тимошенко, который с...   \n",
       "28354   \"наш избирательный штаб принял решение не об...   \n",
       "28355   по его словам, анализ первого тура свидетельс...   \n",
       "28356   \"во втором туре все избирательные комиссии бу...   \n",
       "28357   по данным цик, после подсчета 95,18% протокол...   \n",
       "28358   турчинов заявил, что согласно их параллельном...   \n",
       "28359  устройство крещенской купели >> список водое...   \n",
       "28360  уголовное дело по факту нарушения правил безоп...   \n",
       "28361   \"дело возбуждено по признакам преступления, п...   \n",
       "28362   взрыв в луганской больнице произошел в понед...   \n",
       "28363   по последним данным городских властей, судьб...   \n",
       "28364   по данным мчс украины, в результате взрыва тр...   \n",
       "28365   данные о раненых мчс не приводит, городские в...   \n",
       "28366   по данным минздрава, на момент взрыва в больн...   \n",
       "28367    на место прибыла премьер страны юлия тимошенко.   \n",
       "28368  австрийская столица выделяет на помощь постра...   \n",
       "28369   два мощных землетрясения у побережья гаити 12...   \n",
       "28370   по разным данным, стихия унесла жизни от 50 д...   \n",
       "28371   по его словам, половина этой суммы будет исп...   \n",
       "28372   вторую половину суммы планируется использоват...   \n",
       "28373   \"население гаити должно быть уверено, что меж...   \n",
       "28374   в воскресенье глава австрийского мид михаэль...   \n",
       "28375   министр отверг упрек в том, что этой суммы н...   \n",
       "28376   по его словам, речь идет лишь о первичной по...   \n",
       "28377   вопрос о длительной помощи гаити будет рассм...   \n",
       "28378  российские спасатели обнаружили тело россияни...   \n",
       "28379   два землетрясения магнитудой 7,0 и 5,9 произ...   \n",
       "28380   по сведениям местных властей, среди погибших...   \n",
       "28381   ранее жена гражданина рф - гражданка доминика...   \n",
       "28382                       \"тело профессора обнаружено.   \n",
       "28383   мы будем его доставать\", - сказал представите...   \n",
       "28384   он добавил, что еще две группы российских сп...   \n",
       "\n",
       "                                    trad_chunk_embedding  \\\n",
       "28334  [0.022568297, -0.087302975, 0.023843262, -0.07...   \n",
       "28335  [0.0012870327, -0.09821144, 0.08754822, -0.014...   \n",
       "28336  [0.025234822, -0.094522074, 0.05937534, -0.030...   \n",
       "28337  [0.010627331, -0.070719995, -0.031499058, -0.0...   \n",
       "28338  [-0.03727261, -0.045487158, -0.06894926, 0.014...   \n",
       "28339  [0.05095162, -0.098087795, -0.00092488277, -0....   \n",
       "28340  [0.033281542, -0.12408914, -0.07292332, -0.004...   \n",
       "28341  [0.022755839, -0.08163082, -0.099895306, 0.032...   \n",
       "28342  [0.08612651, -0.13075887, -0.056889694, -0.036...   \n",
       "28343  [-0.0015919321, -0.13995178, -0.07896757, 0.02...   \n",
       "28345  [0.057892222, 0.1501091, 0.043521278, 0.042573...   \n",
       "28346  [0.046006564, 0.044077124, -0.047614258, 0.066...   \n",
       "28347  [0.02071538, -0.10553269, -0.025949435, 0.0569...   \n",
       "28348  [-0.015505215, 0.14778917, 0.03789337, 0.09432...   \n",
       "28349  [0.039156064, 0.07081243, -0.009151965, 0.0919...   \n",
       "28350  [0.0531033, 0.01863629, -0.035436668, 0.073127...   \n",
       "28351  [0.10348037, 0.036057126, 0.0205615, 0.0609830...   \n",
       "28352  [0.03427641, -0.13583227, 0.08040809, 0.066706...   \n",
       "28353  [0.11534102, -0.05606783, -0.06419965, 0.02261...   \n",
       "28354  [0.09654281, -0.02262261, -0.05942133, -0.0097...   \n",
       "28355  [0.10632963, -0.11407574, -0.067639284, 0.0326...   \n",
       "28356  [0.10184045, -0.054479714, -0.039342906, 0.029...   \n",
       "28357  [0.1060529, -0.08306628, -0.090341754, 0.09439...   \n",
       "28358  [0.11003849, -0.051110197, -0.06420426, 0.0586...   \n",
       "28359  [0.037906162, 0.06453494, 0.13702783, 0.083511...   \n",
       "28360  [-0.0030722101, 0.04411937, 0.06381444, 0.0656...   \n",
       "28361  [0.047104593, -0.111651644, 0.045673065, 0.069...   \n",
       "28362  [-0.012895238, 0.043642115, -0.0022798062, 0.0...   \n",
       "28363  [-0.028248813, -0.06392935, -0.021528779, 0.03...   \n",
       "28364  [0.1022798, -0.059766226, 0.008271083, 0.09506...   \n",
       "28365  [0.06425366, -0.050904375, -0.018216345, 0.086...   \n",
       "28366  [0.056918718, -0.02104044, -0.029103776, 0.134...   \n",
       "28367  [0.031754263, -0.11391136, 0.040285897, 0.0792...   \n",
       "28368  [-0.005071952, -0.099160515, -0.022552488, 0.1...   \n",
       "28369  [0.08534849, -0.14079054, 0.008002368, -0.0095...   \n",
       "28370  [0.074981175, -0.1580666, 0.019304167, -0.0031...   \n",
       "28371  [-0.018761579, -0.08820925, 0.025434915, 0.006...   \n",
       "28372  [0.024221737, -0.1025434, -0.039433554, 0.0404...   \n",
       "28373  [0.0694953, -0.162233, 0.0331101, -0.048825096...   \n",
       "28374  [0.034792762, -0.13462086, 0.029820036, 0.0477...   \n",
       "28375  [-0.028208202, -0.1155297, -0.022245267, -0.01...   \n",
       "28376  [-0.013400878, -0.06715825, 0.03564311, 0.0213...   \n",
       "28377  [0.04479255, -0.12891592, 0.04372519, -0.04339...   \n",
       "28378  [-0.006966851, -0.1243763, 0.113860644, 0.0011...   \n",
       "28379  [0.057193603, -0.097067215, 0.013108827, -0.00...   \n",
       "28380  [0.090887986, -0.17497152, -0.049203448, 0.021...   \n",
       "28381  [0.019005157, -0.10681837, 0.0028044588, -0.03...   \n",
       "28382  [0.07251922, -0.11065266, 0.082448594, 0.02639...   \n",
       "28383  [0.016437689, -0.17014691, 0.03877459, 0.00497...   \n",
       "28384  [0.008625241, -0.16109177, -0.009925262, -9.78...   \n",
       "\n",
       "                                     new_chunk_embedding doc_id  \n",
       "28334  [-0.118652344, -1.828125, 1.1875, -0.43554688,...   3838  \n",
       "28335  [-0.11425781, -1.8984375, 1.1796875, -0.164062...   3838  \n",
       "28336  [0.12158203, -1.828125, 1.2421875, -0.2890625,...   3838  \n",
       "28337  [0.027954102, -1.5078125, 1.203125, -0.3125, 0...   3838  \n",
       "28338  [-0.14355469, -1.6328125, 0.94921875, -0.01397...   3838  \n",
       "28339  [0.0033111572, -1.609375, 1.1640625, -0.3125, ...   3838  \n",
       "28340  [0.45703125, -2.03125, -1.609375, 0.49414062, ...   3839  \n",
       "28341  [0.49804688, -1.8203125, -1.5546875, 0.7226562...   3839  \n",
       "28342  [0.51171875, -1.84375, -1.546875, 0.62890625, ...   3839  \n",
       "28343  [0.25, -2.21875, -1.3828125, 0.91015625, -1.96...   3839  \n",
       "28345  [1.3046875, 2.21875, 0.32617188, 0.7734375, -2...   3841  \n",
       "28346  [1.3515625, 2.109375, 0.16699219, 0.69140625, ...   3841  \n",
       "28347  [1.1640625, 1.6953125, -0.018676758, 0.7226562...   3841  \n",
       "28348  [1.2265625, 2.15625, 0.27148438, 0.8515625, -2...   3841  \n",
       "28349  [1.375, 2.484375, 0.35351562, 1.0078125, -2.65...   3841  \n",
       "28350  [1.5390625, 2.0625, 0.0038452148, 0.75390625, ...   3841  \n",
       "28351  [1.546875, 1.7734375, 0.17871094, 0.6875, -2.5...   3841  \n",
       "28352  [1.3125, 0.9921875, 0.56640625, 0.49414062, -2...   3841  \n",
       "28353  [1.984375, -0.9765625, -1.3984375, 0.9296875, ...   3842  \n",
       "28354  [1.890625, -0.70703125, -1.265625, 0.671875, -...   3842  \n",
       "28355  [1.8828125, -0.84765625, -1.4765625, 0.8789062...   3842  \n",
       "28356  [1.9453125, -0.6796875, -0.85546875, 1.0390625...   3842  \n",
       "28357  [1.8984375, -1.0234375, -1.4375, 1.28125, -1.1...   3842  \n",
       "28358  [1.828125, -0.88671875, -1.3125, 1.1953125, -1...   3842  \n",
       "28359  [0.703125, 1.2109375, 2.578125, 1.5625, 1.3593...   3843  \n",
       "28360  [-0.10058594, 0.546875, 1.359375, 1.21875, -0....   3844  \n",
       "28361  [-0.029296875, 0.5234375, 1.484375, 1.328125, ...   3844  \n",
       "28362  [-0.40039062, 0.9453125, 1.0703125, 1.171875, ...   3844  \n",
       "28363  [-0.3828125, 0.3671875, 0.859375, 0.8671875, -...   3844  \n",
       "28364  [-0.14746094, 0.4140625, 1.1015625, 0.8125, -0...   3844  \n",
       "28365  [-0.37695312, 0.51953125, 0.88671875, 0.90625,...   3844  \n",
       "28366  [-0.3515625, 0.625, 0.89453125, 1.21875, -0.21...   3844  \n",
       "28367  [-0.5703125, 0.30078125, 0.96875, 0.75390625, ...   3844  \n",
       "28368  [0.15039062, -1.5859375, -0.27539062, 1.898437...   3845  \n",
       "28369  [0.796875, -1.78125, -0.34570312, 1.53125, 0.4...   3845  \n",
       "28370  [0.20605469, -1.8359375, -0.020141602, 1.82031...   3845  \n",
       "28371  [0.012756348, -1.4375, 0.33007812, 1.625, 0.06...   3845  \n",
       "28372  [0.1875, -1.3046875, 0.107421875, 1.7578125, -...   3845  \n",
       "28373  [0.16699219, -1.640625, 0.014831543, 1.4296875...   3845  \n",
       "28374  [0.2265625, -1.6171875, -0.20019531, 1.671875,...   3845  \n",
       "28375  [0.004425049, -1.6640625, -0.20898438, 1.38281...   3845  \n",
       "28376  [-0.029296875, -1.5078125, 0.049804688, 1.6171...   3845  \n",
       "28377  [0.265625, -1.6171875, -0.01159668, 1.5078125,...   3845  \n",
       "28378  [0.22753906, -2.65625, 1.6171875, 0.4296875, -...   3846  \n",
       "28379  [1.1875, -2.671875, 0.80859375, 0.66796875, 0....   3846  \n",
       "28380  [0.4921875, -3.0625, 1.015625, 0.53515625, -0....   3846  \n",
       "28381  [0.30273438, -2.703125, 1.2578125, 0.34570312,...   3846  \n",
       "28382  [0.8125, -2.875, 1.59375, 0.73046875, -0.09814...   3846  \n",
       "28383  [0.43554688, -2.59375, 1.4140625, 0.65234375, ...   3846  \n",
       "28384  [0.4296875, -2.6875, 1.1484375, 0.49804688, -0...   3846  "
      ]
     },
     "execution_count": 24,
     "metadata": {},
     "output_type": "execute_result"
    }
   ],
   "source": [
    "payloads[28].iloc[250:300]"
   ]
  },
  {
   "cell_type": "code",
   "execution_count": 9,
   "id": "9d686355-2467-49cc-9121-a3a03ddd13b0",
   "metadata": {},
   "outputs": [
    {
     "data": {
      "text/plain": [
       "(234628, 4)"
      ]
     },
     "execution_count": 9,
     "metadata": {},
     "output_type": "execute_result"
    }
   ],
   "source": [
    "chunks_embedded_n.shape"
   ]
  },
  {
   "cell_type": "code",
   "execution_count": 11,
   "id": "eb14e226-87b2-4e1d-b140-939a9ecac472",
   "metadata": {},
   "outputs": [
    {
     "name": "stdout",
     "output_type": "stream",
     "text": [
      "CPU times: total: 6min 52s\n",
      "Wall time: 14min 7s\n"
     ]
    }
   ],
   "source": [
    "'''\n",
    "%%time\n",
    "for payload in payloads:\n",
    "    operation_info = client.upsert(\n",
    "        collection_name=\"{chunks_embedded_trad}\",\n",
    "        wait=True,\n",
    "        points=[\n",
    "            models.PointStruct(\n",
    "                id=0, vector=row['trad_chunk_embedding'], payload={\"chunk\": row['chunk'], \"doc_id\": row['doc_id']}\n",
    "            ) for id, row in payload.iterrows()\n",
    "        ],\n",
    "    )\n",
    "    \n",
    "    if operation_info.status != \"completed\":\n",
    "        print(\"Error!\")\n",
    "        break\n",
    "    "
   ]
  },
  {
   "cell_type": "code",
   "execution_count": 10,
   "id": "00542565-5f9e-46fe-af46-9a49649a7fa4",
   "metadata": {},
   "outputs": [],
   "source": [
    "alah = []"
   ]
  },
  {
   "cell_type": "code",
   "execution_count": 11,
   "id": "0cdb7dd3-7a02-4509-b143-08b55cab8968",
   "metadata": {},
   "outputs": [
    {
     "name": "stdout",
     "output_type": "stream",
     "text": [
      "CPU times: total: 5min 23s\n",
      "Wall time: 14min 6s\n"
     ]
    },
    {
     "data": {
      "text/plain": [
       "234628"
      ]
     },
     "execution_count": 11,
     "metadata": {},
     "output_type": "execute_result"
    }
   ],
   "source": [
    "%%time\n",
    "last_idx = 0\n",
    "for payload in payloads:\n",
    "    points = [\n",
    "        models.PointStruct(\n",
    "            id=id, vector=row['trad_chunk_embedding'], payload={\"chunk\": row['chunk'], \"doc_id\": row['doc_id']}\n",
    "        ) for id, row in payload.iterrows()\n",
    "    ]\n",
    "    if last_idx < 30000:\n",
    "        alah += points\n",
    "    operation_info = client.upsert(\n",
    "        collection_name=\"{chunks_embedded_trad}\",\n",
    "        wait=True,\n",
    "        points=points,\n",
    "    )\n",
    "    last_idx += payload.shape[0]\n",
    "    if operation_info.status != \"completed\":\n",
    "        print(\"Error!\")\n",
    "        break\n",
    "last_idx"
   ]
  },
  {
   "cell_type": "code",
   "execution_count": 41,
   "id": "afe84b68-6fe6-416a-ba64-1bb1b6ef8f6f",
   "metadata": {},
   "outputs": [
    {
     "ename": "IndexError",
     "evalue": "list index out of range",
     "output_type": "error",
     "traceback": [
      "\u001b[1;31m---------------------------------------------------------------------------\u001b[0m",
      "\u001b[1;31mIndexError\u001b[0m                                Traceback (most recent call last)",
      "Cell \u001b[1;32mIn[41], line 2\u001b[0m\n\u001b[0;32m      1\u001b[0m point_id \u001b[38;5;241m=\u001b[39m \u001b[38;5;241m0\u001b[39m\n\u001b[1;32m----> 2\u001b[0m vec \u001b[38;5;241m=\u001b[39m \u001b[43mclient\u001b[49m\u001b[38;5;241;43m.\u001b[39;49m\u001b[43mretrieve\u001b[49m\u001b[43m(\u001b[49m\n\u001b[0;32m      3\u001b[0m \u001b[43m    \u001b[49m\u001b[43mcollection_name\u001b[49m\u001b[38;5;241;43m=\u001b[39;49m\u001b[38;5;124;43m\"\u001b[39;49m\u001b[38;5;132;43;01m{chunks_embedded_trad}\u001b[39;49;00m\u001b[38;5;124;43m\"\u001b[39;49m\u001b[43m,\u001b[49m\n\u001b[0;32m      4\u001b[0m \u001b[43m    \u001b[49m\u001b[43mids\u001b[49m\u001b[38;5;241;43m=\u001b[39;49m\u001b[43m[\u001b[49m\u001b[43mpoint_id\u001b[49m\u001b[43m]\u001b[49m\u001b[43m,\u001b[49m\n\u001b[0;32m      5\u001b[0m \u001b[43m    \u001b[49m\u001b[43mwith_vectors\u001b[49m\u001b[38;5;241;43m=\u001b[39;49m\u001b[38;5;28;43;01mTrue\u001b[39;49;00m\u001b[43m,\u001b[49m\n\u001b[0;32m      6\u001b[0m \u001b[43m)\u001b[49m\u001b[43m[\u001b[49m\u001b[38;5;241;43m0\u001b[39;49m\u001b[43m]\u001b[49m\u001b[38;5;241m.\u001b[39mvector\n",
      "\u001b[1;31mIndexError\u001b[0m: list index out of range"
     ]
    }
   ],
   "source": [
    "point_id = 0\n",
    "vec = client.retrieve(\n",
    "    collection_name=\"{chunks_embedded_trad}\",\n",
    "    ids=[point_id],\n",
    "    with_vectors=True,\n",
    ")[0].vector\n"
   ]
  },
  {
   "cell_type": "code",
   "execution_count": 32,
   "id": "c166a513-5103-4f3c-9b91-a56b653c5ebd",
   "metadata": {},
   "outputs": [
    {
     "data": {
      "text/plain": [
       "[ScoredPoint(id=0, version=0, score=1.0000001, payload={'chunk': 'премьер-министр украины, кандидат в президенты юлия тимошенко в воскресенье в прямом эфире украинского телеканала 1+1 заявила, что в случае ее победы на выборах президента юрий луценко будет работать в ее команде.', 'doc_id': 0}, vector=None, shard_key=None, order_value=None),\n",
       " ScoredPoint(id=8, version=0, score=0.8719462, payload={'chunk': ' потому я считаю, что нужно сначала выиграть выборы, обсудить все вопросы создания новой команды, и я убеждена, что юрий луценко в команде будет работать\", - сказала тимошенко.', 'doc_id': 0}, vector=None, shard_key=None, order_value=None),\n",
       " ScoredPoint(id=5401, version=5, score=0.7870641, payload={'chunk': ' премьер-министр украины юлия тимошенко намерена назначить юрия луценко первым замглавы мвд, чтобы он продолжил руководить ведомством.', 'doc_id': 754}, vector=None, shard_key=None, order_value=None)]"
      ]
     },
     "execution_count": 32,
     "metadata": {},
     "output_type": "execute_result"
    }
   ],
   "source": [
    "client.query_points(\n",
    "    collection_name=\"{chunks_embedded_trad}\",\n",
    "    query=vec,\n",
    "    #with_payload=False,\n",
    "    limit=3\n",
    ").points"
   ]
  },
  {
   "cell_type": "code",
   "execution_count": null,
   "id": "8b61bb50-2359-4687-b120-387c232f1147",
   "metadata": {},
   "outputs": [],
   "source": []
  },
  {
   "cell_type": "code",
   "execution_count": 6,
   "id": "5880aa51-ee2d-4edf-a118-74a7f25f133c",
   "metadata": {},
   "outputs": [
    {
     "data": {
      "text/plain": [
       "CollectionInfo(status=<CollectionStatus.GREEN: 'green'>, optimizer_status=<OptimizersStatusOneOf.OK: 'ok'>, vectors_count=None, indexed_vectors_count=0, points_count=0, segments_count=8, config=CollectionConfig(params=CollectionParams(vectors=VectorParams(size=1024, distance=<Distance.COSINE: 'Cosine'>, hnsw_config=None, quantization_config=None, on_disk=True, datatype=None, multivector_config=None), shard_number=1, sharding_method=None, replication_factor=1, write_consistency_factor=1, read_fan_out_factor=None, on_disk_payload=True, sparse_vectors=None), hnsw_config=HnswConfig(m=16, ef_construct=100, full_scan_threshold=10000, max_indexing_threads=0, on_disk=False, payload_m=None), optimizer_config=OptimizersConfig(deleted_threshold=0.2, vacuum_min_vector_number=1000, default_segment_number=0, max_segment_size=None, memmap_threshold=None, indexing_threshold=0, flush_interval_sec=5, max_optimization_threads=None), wal_config=WalConfig(wal_capacity_mb=32, wal_segments_ahead=0), quantization_config=None), payload_schema={})"
      ]
     },
     "execution_count": 6,
     "metadata": {},
     "output_type": "execute_result"
    }
   ],
   "source": [
    "client.get_collection(collection_name=\"{chunks_embedded_trad}\")"
   ]
  },
  {
   "cell_type": "code",
   "execution_count": 7,
   "id": "ff63ef26-c289-48d7-8899-ff4cfd5a626d",
   "metadata": {},
   "outputs": [
    {
     "data": {
      "text/plain": [
       "CollectionInfo(status=<CollectionStatus.GREEN: 'green'>, optimizer_status=<OptimizersStatusOneOf.OK: 'ok'>, vectors_count=None, indexed_vectors_count=0, points_count=0, segments_count=8, config=CollectionConfig(params=CollectionParams(vectors=VectorParams(size=1024, distance=<Distance.COSINE: 'Cosine'>, hnsw_config=None, quantization_config=None, on_disk=True, datatype=None, multivector_config=None), shard_number=1, sharding_method=None, replication_factor=1, write_consistency_factor=1, read_fan_out_factor=None, on_disk_payload=True, sparse_vectors=None), hnsw_config=HnswConfig(m=16, ef_construct=100, full_scan_threshold=10000, max_indexing_threads=0, on_disk=False, payload_m=None), optimizer_config=OptimizersConfig(deleted_threshold=0.2, vacuum_min_vector_number=1000, default_segment_number=0, max_segment_size=None, memmap_threshold=None, indexing_threshold=0, flush_interval_sec=5, max_optimization_threads=None), wal_config=WalConfig(wal_capacity_mb=32, wal_segments_ahead=0), quantization_config=None), payload_schema={})"
      ]
     },
     "execution_count": 7,
     "metadata": {},
     "output_type": "execute_result"
    }
   ],
   "source": [
    "client.get_collection(collection_name=\"{chunks_embedded_new}\")"
   ]
  },
  {
   "cell_type": "code",
   "execution_count": 8,
   "id": "a3b208b4-f1e1-46ed-8542-c37bfc21a1e8",
   "metadata": {},
   "outputs": [],
   "source": [
    "def stick_it(payloads_, suffix):\n",
    "    column_name = suffix + '_chunk_embedding'\n",
    "    collection_name = \"{chunks_embedded_\"+suffix+\"}\"\n",
    "    for payload in payloads_:\n",
    "        points = [\n",
    "            models.PointStruct(\n",
    "                id=id, vector=row[column_name], payload={\"chunk\": row['chunk'], \"doc_id\": row['doc_id']}\n",
    "            ) for id, row in payload.iterrows()\n",
    "        ]\n",
    "        operation_info = client.upsert(\n",
    "            collection_name=collection_name,\n",
    "            wait=True,\n",
    "            points=points,\n",
    "        )\n",
    "        if operation_info.status != \"completed\":\n",
    "            print(\"Error!\")\n",
    "            break\n"
   ]
  },
  {
   "cell_type": "code",
   "execution_count": 9,
   "id": "d010072c-402a-4b11-9494-8971b19e609b",
   "metadata": {},
   "outputs": [
    {
     "name": "stderr",
     "output_type": "stream",
     "text": [
      "C:\\Users\\gorku\\AppData\\Local\\Packages\\PythonSoftwareFoundation.Python.3.12_qbz5n2kfra8p0\\LocalCache\\local-packages\\Python312\\site-packages\\numpy\\core\\fromnumeric.py:59: FutureWarning: 'DataFrame.swapaxes' is deprecated and will be removed in a future version. Please use 'DataFrame.transpose' instead.\n",
      "  return bound(*args, **kwds)\n",
      "C:\\Users\\gorku\\AppData\\Local\\Packages\\PythonSoftwareFoundation.Python.3.12_qbz5n2kfra8p0\\LocalCache\\local-packages\\Python312\\site-packages\\numpy\\core\\fromnumeric.py:59: FutureWarning: 'DataFrame.swapaxes' is deprecated and will be removed in a future version. Please use 'DataFrame.transpose' instead.\n",
      "  return bound(*args, **kwds)\n",
      "C:\\Users\\gorku\\AppData\\Local\\Packages\\PythonSoftwareFoundation.Python.3.12_qbz5n2kfra8p0\\LocalCache\\local-packages\\Python312\\site-packages\\numpy\\core\\fromnumeric.py:59: FutureWarning: 'DataFrame.swapaxes' is deprecated and will be removed in a future version. Please use 'DataFrame.transpose' instead.\n",
      "  return bound(*args, **kwds)\n",
      "C:\\Users\\gorku\\AppData\\Local\\Packages\\PythonSoftwareFoundation.Python.3.12_qbz5n2kfra8p0\\LocalCache\\local-packages\\Python312\\site-packages\\numpy\\core\\fromnumeric.py:59: FutureWarning: 'DataFrame.swapaxes' is deprecated and will be removed in a future version. Please use 'DataFrame.transpose' instead.\n",
      "  return bound(*args, **kwds)\n",
      "C:\\Users\\gorku\\AppData\\Local\\Packages\\PythonSoftwareFoundation.Python.3.12_qbz5n2kfra8p0\\LocalCache\\local-packages\\Python312\\site-packages\\numpy\\core\\fromnumeric.py:59: FutureWarning: 'DataFrame.swapaxes' is deprecated and will be removed in a future version. Please use 'DataFrame.transpose' instead.\n",
      "  return bound(*args, **kwds)\n",
      "C:\\Users\\gorku\\AppData\\Local\\Packages\\PythonSoftwareFoundation.Python.3.12_qbz5n2kfra8p0\\LocalCache\\local-packages\\Python312\\site-packages\\numpy\\core\\fromnumeric.py:59: FutureWarning: 'DataFrame.swapaxes' is deprecated and will be removed in a future version. Please use 'DataFrame.transpose' instead.\n",
      "  return bound(*args, **kwds)\n",
      "C:\\Users\\gorku\\AppData\\Local\\Packages\\PythonSoftwareFoundation.Python.3.12_qbz5n2kfra8p0\\LocalCache\\local-packages\\Python312\\site-packages\\numpy\\core\\fromnumeric.py:59: FutureWarning: 'DataFrame.swapaxes' is deprecated and will be removed in a future version. Please use 'DataFrame.transpose' instead.\n",
      "  return bound(*args, **kwds)\n",
      "C:\\Users\\gorku\\AppData\\Local\\Packages\\PythonSoftwareFoundation.Python.3.12_qbz5n2kfra8p0\\LocalCache\\local-packages\\Python312\\site-packages\\numpy\\core\\fromnumeric.py:59: FutureWarning: 'DataFrame.swapaxes' is deprecated and will be removed in a future version. Please use 'DataFrame.transpose' instead.\n",
      "  return bound(*args, **kwds)\n",
      "C:\\Users\\gorku\\AppData\\Local\\Packages\\PythonSoftwareFoundation.Python.3.12_qbz5n2kfra8p0\\LocalCache\\local-packages\\Python312\\site-packages\\numpy\\core\\fromnumeric.py:59: FutureWarning: 'DataFrame.swapaxes' is deprecated and will be removed in a future version. Please use 'DataFrame.transpose' instead.\n",
      "  return bound(*args, **kwds)\n",
      "C:\\Users\\gorku\\AppData\\Local\\Packages\\PythonSoftwareFoundation.Python.3.12_qbz5n2kfra8p0\\LocalCache\\local-packages\\Python312\\site-packages\\numpy\\core\\fromnumeric.py:59: FutureWarning: 'DataFrame.swapaxes' is deprecated and will be removed in a future version. Please use 'DataFrame.transpose' instead.\n",
      "  return bound(*args, **kwds)\n",
      "C:\\Users\\gorku\\AppData\\Local\\Packages\\PythonSoftwareFoundation.Python.3.12_qbz5n2kfra8p0\\LocalCache\\local-packages\\Python312\\site-packages\\numpy\\core\\fromnumeric.py:59: FutureWarning: 'DataFrame.swapaxes' is deprecated and will be removed in a future version. Please use 'DataFrame.transpose' instead.\n",
      "  return bound(*args, **kwds)\n",
      "C:\\Users\\gorku\\AppData\\Local\\Packages\\PythonSoftwareFoundation.Python.3.12_qbz5n2kfra8p0\\LocalCache\\local-packages\\Python312\\site-packages\\numpy\\core\\fromnumeric.py:59: FutureWarning: 'DataFrame.swapaxes' is deprecated and will be removed in a future version. Please use 'DataFrame.transpose' instead.\n",
      "  return bound(*args, **kwds)\n",
      "C:\\Users\\gorku\\AppData\\Local\\Packages\\PythonSoftwareFoundation.Python.3.12_qbz5n2kfra8p0\\LocalCache\\local-packages\\Python312\\site-packages\\numpy\\core\\fromnumeric.py:59: FutureWarning: 'DataFrame.swapaxes' is deprecated and will be removed in a future version. Please use 'DataFrame.transpose' instead.\n",
      "  return bound(*args, **kwds)\n",
      "C:\\Users\\gorku\\AppData\\Local\\Packages\\PythonSoftwareFoundation.Python.3.12_qbz5n2kfra8p0\\LocalCache\\local-packages\\Python312\\site-packages\\numpy\\core\\fromnumeric.py:59: FutureWarning: 'DataFrame.swapaxes' is deprecated and will be removed in a future version. Please use 'DataFrame.transpose' instead.\n",
      "  return bound(*args, **kwds)\n",
      "C:\\Users\\gorku\\AppData\\Local\\Packages\\PythonSoftwareFoundation.Python.3.12_qbz5n2kfra8p0\\LocalCache\\local-packages\\Python312\\site-packages\\numpy\\core\\fromnumeric.py:59: FutureWarning: 'DataFrame.swapaxes' is deprecated and will be removed in a future version. Please use 'DataFrame.transpose' instead.\n",
      "  return bound(*args, **kwds)\n",
      "C:\\Users\\gorku\\AppData\\Local\\Packages\\PythonSoftwareFoundation.Python.3.12_qbz5n2kfra8p0\\LocalCache\\local-packages\\Python312\\site-packages\\numpy\\core\\fromnumeric.py:59: FutureWarning: 'DataFrame.swapaxes' is deprecated and will be removed in a future version. Please use 'DataFrame.transpose' instead.\n",
      "  return bound(*args, **kwds)\n",
      "C:\\Users\\gorku\\AppData\\Local\\Packages\\PythonSoftwareFoundation.Python.3.12_qbz5n2kfra8p0\\LocalCache\\local-packages\\Python312\\site-packages\\numpy\\core\\fromnumeric.py:59: FutureWarning: 'DataFrame.swapaxes' is deprecated and will be removed in a future version. Please use 'DataFrame.transpose' instead.\n",
      "  return bound(*args, **kwds)\n",
      "C:\\Users\\gorku\\AppData\\Local\\Packages\\PythonSoftwareFoundation.Python.3.12_qbz5n2kfra8p0\\LocalCache\\local-packages\\Python312\\site-packages\\numpy\\core\\fromnumeric.py:59: FutureWarning: 'DataFrame.swapaxes' is deprecated and will be removed in a future version. Please use 'DataFrame.transpose' instead.\n",
      "  return bound(*args, **kwds)\n",
      "C:\\Users\\gorku\\AppData\\Local\\Packages\\PythonSoftwareFoundation.Python.3.12_qbz5n2kfra8p0\\LocalCache\\local-packages\\Python312\\site-packages\\numpy\\core\\fromnumeric.py:59: FutureWarning: 'DataFrame.swapaxes' is deprecated and will be removed in a future version. Please use 'DataFrame.transpose' instead.\n",
      "  return bound(*args, **kwds)\n",
      "C:\\Users\\gorku\\AppData\\Local\\Packages\\PythonSoftwareFoundation.Python.3.12_qbz5n2kfra8p0\\LocalCache\\local-packages\\Python312\\site-packages\\numpy\\core\\fromnumeric.py:59: FutureWarning: 'DataFrame.swapaxes' is deprecated and will be removed in a future version. Please use 'DataFrame.transpose' instead.\n",
      "  return bound(*args, **kwds)\n",
      "C:\\Users\\gorku\\AppData\\Local\\Packages\\PythonSoftwareFoundation.Python.3.12_qbz5n2kfra8p0\\LocalCache\\local-packages\\Python312\\site-packages\\numpy\\core\\fromnumeric.py:59: FutureWarning: 'DataFrame.swapaxes' is deprecated and will be removed in a future version. Please use 'DataFrame.transpose' instead.\n",
      "  return bound(*args, **kwds)\n",
      "C:\\Users\\gorku\\AppData\\Local\\Packages\\PythonSoftwareFoundation.Python.3.12_qbz5n2kfra8p0\\LocalCache\\local-packages\\Python312\\site-packages\\numpy\\core\\fromnumeric.py:59: FutureWarning: 'DataFrame.swapaxes' is deprecated and will be removed in a future version. Please use 'DataFrame.transpose' instead.\n",
      "  return bound(*args, **kwds)\n"
     ]
    }
   ],
   "source": [
    "for i in range(22):\n",
    "    chunks_embedded_n = pd.read_pickle(basePath + \"\\\\ai-forever-ria-news-retrieval\\\\chunks_embedded_\"+str(i)+\".pkl\")\n",
    "    payloads = np.array_split(chunks_embedded_n, chunks_embedded_n.shape[0] / 1000)\n",
    "    stick_it(payloads, \"trad\")\n",
    "    stick_it(payloads, \"new\")\n",
    "    del payloads\n",
    "    del chunks_embedded_n"
   ]
  },
  {
   "cell_type": "code",
   "execution_count": 10,
   "id": "5fcb62e3-63f0-4299-ad55-07cb1a4a28f4",
   "metadata": {},
   "outputs": [
    {
     "data": {
      "text/plain": [
       "CollectionInfo(status=<CollectionStatus.GREEN: 'green'>, optimizer_status=<OptimizersStatusOneOf.OK: 'ok'>, vectors_count=None, indexed_vectors_count=0, points_count=271333, segments_count=8, config=CollectionConfig(params=CollectionParams(vectors=VectorParams(size=1024, distance=<Distance.COSINE: 'Cosine'>, hnsw_config=None, quantization_config=None, on_disk=True, datatype=None, multivector_config=None), shard_number=1, sharding_method=None, replication_factor=1, write_consistency_factor=1, read_fan_out_factor=None, on_disk_payload=True, sparse_vectors=None), hnsw_config=HnswConfig(m=16, ef_construct=100, full_scan_threshold=10000, max_indexing_threads=0, on_disk=False, payload_m=None), optimizer_config=OptimizersConfig(deleted_threshold=0.2, vacuum_min_vector_number=1000, default_segment_number=0, max_segment_size=None, memmap_threshold=None, indexing_threshold=0, flush_interval_sec=5, max_optimization_threads=None), wal_config=WalConfig(wal_capacity_mb=32, wal_segments_ahead=0), quantization_config=None), payload_schema={})"
      ]
     },
     "execution_count": 10,
     "metadata": {},
     "output_type": "execute_result"
    }
   ],
   "source": [
    "client.get_collection(collection_name=\"{chunks_embedded_trad}\")"
   ]
  },
  {
   "cell_type": "code",
   "execution_count": 11,
   "id": "a742ca61-2039-4a21-86f2-174561a151e5",
   "metadata": {},
   "outputs": [
    {
     "data": {
      "text/plain": [
       "CollectionInfo(status=<CollectionStatus.GREEN: 'green'>, optimizer_status=<OptimizersStatusOneOf.OK: 'ok'>, vectors_count=None, indexed_vectors_count=0, points_count=271333, segments_count=8, config=CollectionConfig(params=CollectionParams(vectors=VectorParams(size=1024, distance=<Distance.COSINE: 'Cosine'>, hnsw_config=None, quantization_config=None, on_disk=True, datatype=None, multivector_config=None), shard_number=1, sharding_method=None, replication_factor=1, write_consistency_factor=1, read_fan_out_factor=None, on_disk_payload=True, sparse_vectors=None), hnsw_config=HnswConfig(m=16, ef_construct=100, full_scan_threshold=10000, max_indexing_threads=0, on_disk=False, payload_m=None), optimizer_config=OptimizersConfig(deleted_threshold=0.2, vacuum_min_vector_number=1000, default_segment_number=0, max_segment_size=None, memmap_threshold=None, indexing_threshold=0, flush_interval_sec=5, max_optimization_threads=None), wal_config=WalConfig(wal_capacity_mb=32, wal_segments_ahead=0), quantization_config=None), payload_schema={})"
      ]
     },
     "execution_count": 11,
     "metadata": {},
     "output_type": "execute_result"
    }
   ],
   "source": [
    "client.get_collection(collection_name=\"{chunks_embedded_new}\")"
   ]
  },
  {
   "cell_type": "code",
   "execution_count": 12,
   "id": "c045533e-56a9-4fcc-932b-d73dc2bca2af",
   "metadata": {},
   "outputs": [],
   "source": [
    "client.close()"
   ]
  },
  {
   "cell_type": "code",
   "execution_count": null,
   "id": "8fe4a2ca-065d-4bd6-9ea0-e267585d15f3",
   "metadata": {},
   "outputs": [],
   "source": []
  },
  {
   "cell_type": "code",
   "execution_count": 13,
   "id": "d7046f0c-b82a-4645-8d83-ce5c9523d022",
   "metadata": {},
   "outputs": [
    {
     "data": {
      "text/plain": [
       "<qdrant_client.qdrant_client.QdrantClient at 0x167e80c91f0>"
      ]
     },
     "execution_count": 13,
     "metadata": {},
     "output_type": "execute_result"
    }
   ],
   "source": [
    "client = QdrantClient(url=\"http://localhost:6333\")\n",
    "client"
   ]
  },
  {
   "cell_type": "code",
   "execution_count": 14,
   "id": "9d6627c3-2a5b-408f-8b05-061d65d2b607",
   "metadata": {},
   "outputs": [],
   "source": [
    "point_id = 0\n",
    "vec = client.retrieve(\n",
    "    collection_name=\"{chunks_embedded_trad}\",\n",
    "    ids=[point_id],\n",
    "    with_vectors=True,\n",
    ")[0].vector\n"
   ]
  },
  {
   "cell_type": "code",
   "execution_count": 15,
   "id": "cfcf6777-34d7-435e-84a2-4bd22f57b58d",
   "metadata": {},
   "outputs": [
    {
     "data": {
      "text/plain": [
       "[ScoredPoint(id=0, version=5259, score=0.9999998, payload={'chunk': 'власти архангельской области приветствуют план развития соловецкого архипелага, утвержденный правительством рф, говорится в сообщении пресс-службы губернатора и правительства области.', 'doc_id': 672329}, vector=None, shard_key=None, order_value=None),\n",
       " ScoredPoint(id=5, version=5259, score=0.8570045, payload={'chunk': ' на самом высоком уровне определен перечень мероприятий и источники финансирование\", — заявил заместитель губернатора архангельской области по развитию соловецкого архипелага роман балашов, слова которого цитирует пресс-служба губернатора и правительства.', 'doc_id': 672329}, vector=None, shard_key=None, order_value=None),\n",
       " ScoredPoint(id=4, version=5259, score=0.75022787, payload={'chunk': ' правительство рф приняло решение по комплексу мер по развитию соловецкого архипелага.', 'doc_id': 672329}, vector=None, shard_key=None, order_value=None)]"
      ]
     },
     "execution_count": 15,
     "metadata": {},
     "output_type": "execute_result"
    }
   ],
   "source": [
    "client.query_points(\n",
    "    collection_name=\"{chunks_embedded_trad}\",\n",
    "    query=vec,\n",
    "    #with_payload=False,\n",
    "    limit=3\n",
    ").points"
   ]
  },
  {
   "cell_type": "code",
   "execution_count": null,
   "id": "604f567a-5297-42ab-9d2f-b9ae498b3440",
   "metadata": {},
   "outputs": [],
   "source": []
  },
  {
   "cell_type": "code",
   "execution_count": 16,
   "id": "d2166904-025d-4ee1-a9f7-10834c1f734e",
   "metadata": {},
   "outputs": [
    {
     "data": {
      "text/plain": [
       "True"
      ]
     },
     "execution_count": 16,
     "metadata": {},
     "output_type": "execute_result"
    }
   ],
   "source": [
    "client.update_collection(\n",
    "    collection_name=\"{chunks_embedded_trad}\",\n",
    "    optimizer_config=models.OptimizersConfigDiff(indexing_threshold=20000),\n",
    ")"
   ]
  },
  {
   "cell_type": "code",
   "execution_count": 17,
   "id": "9cf1fccf-9edd-45fa-b1cb-0ca321d32a9f",
   "metadata": {},
   "outputs": [
    {
     "data": {
      "text/plain": [
       "True"
      ]
     },
     "execution_count": 17,
     "metadata": {},
     "output_type": "execute_result"
    }
   ],
   "source": [
    "client.update_collection(\n",
    "    collection_name=\"{chunks_embedded_new}\",\n",
    "    optimizer_config=models.OptimizersConfigDiff(indexing_threshold=20000),\n",
    ")"
   ]
  },
  {
   "cell_type": "code",
   "execution_count": 70,
   "id": "dd8e9037-983d-4c43-9715-6b5f970001a0",
   "metadata": {},
   "outputs": [
    {
     "data": {
      "text/plain": [
       "CollectionInfo(status=<CollectionStatus.GREEN: 'green'>, optimizer_status=<OptimizersStatusOneOf.OK: 'ok'>, vectors_count=None, indexed_vectors_count=271333, points_count=271333, segments_count=7, config=CollectionConfig(params=CollectionParams(vectors=VectorParams(size=1024, distance=<Distance.COSINE: 'Cosine'>, hnsw_config=None, quantization_config=None, on_disk=True, datatype=None, multivector_config=None), shard_number=1, sharding_method=None, replication_factor=1, write_consistency_factor=1, read_fan_out_factor=None, on_disk_payload=True, sparse_vectors=None), hnsw_config=HnswConfig(m=16, ef_construct=100, full_scan_threshold=10000, max_indexing_threads=0, on_disk=False, payload_m=None), optimizer_config=OptimizersConfig(deleted_threshold=0.2, vacuum_min_vector_number=1000, default_segment_number=0, max_segment_size=None, memmap_threshold=None, indexing_threshold=20000, flush_interval_sec=5, max_optimization_threads=None), wal_config=WalConfig(wal_capacity_mb=32, wal_segments_ahead=0), quantization_config=None), payload_schema={})"
      ]
     },
     "execution_count": 70,
     "metadata": {},
     "output_type": "execute_result"
    }
   ],
   "source": [
    "client.get_collection(collection_name=\"{chunks_embedded_trad}\")"
   ]
  },
  {
   "cell_type": "code",
   "execution_count": 71,
   "id": "93dc0f06-c05c-476f-8728-e673831bdcb0",
   "metadata": {},
   "outputs": [
    {
     "data": {
      "text/plain": [
       "CollectionInfo(status=<CollectionStatus.GREEN: 'green'>, optimizer_status=<OptimizersStatusOneOf.OK: 'ok'>, vectors_count=None, indexed_vectors_count=271333, points_count=271333, segments_count=7, config=CollectionConfig(params=CollectionParams(vectors=VectorParams(size=1024, distance=<Distance.COSINE: 'Cosine'>, hnsw_config=None, quantization_config=None, on_disk=True, datatype=None, multivector_config=None), shard_number=1, sharding_method=None, replication_factor=1, write_consistency_factor=1, read_fan_out_factor=None, on_disk_payload=True, sparse_vectors=None), hnsw_config=HnswConfig(m=16, ef_construct=100, full_scan_threshold=10000, max_indexing_threads=0, on_disk=False, payload_m=None), optimizer_config=OptimizersConfig(deleted_threshold=0.2, vacuum_min_vector_number=1000, default_segment_number=0, max_segment_size=None, memmap_threshold=None, indexing_threshold=20000, flush_interval_sec=5, max_optimization_threads=None), wal_config=WalConfig(wal_capacity_mb=32, wal_segments_ahead=0), quantization_config=None), payload_schema={})"
      ]
     },
     "execution_count": 71,
     "metadata": {},
     "output_type": "execute_result"
    }
   ],
   "source": [
    "client.get_collection(collection_name=\"{chunks_embedded_new}\")"
   ]
  },
  {
   "cell_type": "code",
   "execution_count": null,
   "id": "b5232ce5-1afc-4c67-8687-216e7f0e81d4",
   "metadata": {},
   "outputs": [],
   "source": []
  },
  {
   "cell_type": "code",
   "execution_count": 24,
   "id": "701351a7-d990-4c43-ac70-d7e2fc1a1b24",
   "metadata": {},
   "outputs": [],
   "source": [
    "node_url = \"http://localhost:6333\""
   ]
  },
  {
   "cell_type": "code",
   "execution_count": 43,
   "id": "6beab2f1-c6de-4157-a088-64e6af888db9",
   "metadata": {},
   "outputs": [],
   "source": [
    "snapshot_info_trad = client.create_snapshot(collection_name=\"{chunks_embedded_trad}\", wait=False)\n"
   ]
  },
  {
   "cell_type": "code",
   "execution_count": 44,
   "id": "1bf22755-11d0-47c2-b9f0-6921c3a3b5f9",
   "metadata": {},
   "outputs": [],
   "source": [
    "snapshot_info_new = client.create_snapshot(collection_name=\"{chunks_embedded_new}\", wait=False)\n"
   ]
  },
  {
   "cell_type": "code",
   "execution_count": 74,
   "id": "2d38c46c-ae12-4e8a-aeb5-73a8937bbdf6",
   "metadata": {},
   "outputs": [
    {
     "data": {
      "text/plain": [
       "[]"
      ]
     },
     "execution_count": 74,
     "metadata": {},
     "output_type": "execute_result"
    }
   ],
   "source": [
    "client.list_snapshots(collection_name=\"{chunks_embedded_trad}\")"
   ]
  },
  {
   "cell_type": "code",
   "execution_count": 31,
   "id": "e3a560c8-9cb4-4046-9bea-0fc895b5fd6e",
   "metadata": {},
   "outputs": [
    {
     "ename": "AttributeError",
     "evalue": "'NoneType' object has no attribute 'name'",
     "output_type": "error",
     "traceback": [
      "\u001b[1;31m---------------------------------------------------------------------------\u001b[0m",
      "\u001b[1;31mAttributeError\u001b[0m                            Traceback (most recent call last)",
      "Cell \u001b[1;32mIn[31], line 1\u001b[0m\n\u001b[1;32m----> 1\u001b[0m snapshot_url_trad \u001b[38;5;241m=\u001b[39m \u001b[38;5;124mf\u001b[39m\u001b[38;5;124m\"\u001b[39m\u001b[38;5;132;01m{\u001b[39;00mnode_url\u001b[38;5;132;01m}\u001b[39;00m\u001b[38;5;124m/collections/test_collection/snapshots/\u001b[39m\u001b[38;5;132;01m{\u001b[39;00m\u001b[43msnapshot_info_trad\u001b[49m\u001b[38;5;241;43m.\u001b[39;49m\u001b[43mname\u001b[49m\u001b[38;5;132;01m}\u001b[39;00m\u001b[38;5;124m\"\u001b[39m\n\u001b[0;32m      2\u001b[0m snapshot_url_new \u001b[38;5;241m=\u001b[39m \u001b[38;5;124mf\u001b[39m\u001b[38;5;124m\"\u001b[39m\u001b[38;5;132;01m{\u001b[39;00mnode_url\u001b[38;5;132;01m}\u001b[39;00m\u001b[38;5;124m/collections/test_collection/snapshots/\u001b[39m\u001b[38;5;132;01m{\u001b[39;00msnapshot_info_new\u001b[38;5;241m.\u001b[39mname\u001b[38;5;132;01m}\u001b[39;00m\u001b[38;5;124m\"\u001b[39m\n",
      "\u001b[1;31mAttributeError\u001b[0m: 'NoneType' object has no attribute 'name'"
     ]
    }
   ],
   "source": [
    "snapshot_url_trad = f\"{node_url}/collections/test_collection/snapshots/{snapshot_info_trad.name}\"\n",
    "snapshot_url_new = f\"{node_url}/collections/test_collection/snapshots/{snapshot_info_new.name}\""
   ]
  },
  {
   "cell_type": "code",
   "execution_count": null,
   "id": "55b0591c-733e-49a6-984a-f90c994cbb6c",
   "metadata": {},
   "outputs": [],
   "source": [
    "snapshot_urls = [snapshot_url_trad, snapshot_url_new]"
   ]
  },
  {
   "cell_type": "code",
   "execution_count": null,
   "id": "94b3f702-ea77-4afe-adef-f8763af03875",
   "metadata": {},
   "outputs": [],
   "source": [
    "import requests\n",
    "import os"
   ]
  },
  {
   "cell_type": "code",
   "execution_count": null,
   "id": "57cec536-3be1-4d1e-bb8d-38e377a57c8a",
   "metadata": {},
   "outputs": [],
   "source": [
    "# Create a directory to store snapshots\n",
    "os.makedirs(\"snapshots\", exist_ok=True)\n",
    "\n",
    "local_snapshot_paths = []\n",
    "for snapshot_url in snapshot_urls:\n",
    "    snapshot_name = os.path.basename(snapshot_url)\n",
    "    local_snapshot_path = os.path.join(\"snapshots\", snapshot_name)\n",
    "\n",
    "    response = requests.get(\n",
    "        snapshot_url, headers={\"api-key\": QDRANT_API_KEY}\n",
    "    )\n",
    "    with open(local_snapshot_path, \"wb\") as f:\n",
    "        response.raise_for_status()\n",
    "        f.write(response.content)\n",
    "\n",
    "    local_snapshot_paths.append(local_snapshot_path)\n",
    "\n",
    "local_snapshot_paths"
   ]
  }
 ],
 "metadata": {
  "kernelspec": {
   "display_name": "Python 3 (ipykernel)",
   "language": "python",
   "name": "python3"
  },
  "language_info": {
   "codemirror_mode": {
    "name": "ipython",
    "version": 3
   },
   "file_extension": ".py",
   "mimetype": "text/x-python",
   "name": "python",
   "nbconvert_exporter": "python",
   "pygments_lexer": "ipython3",
   "version": "3.12.7"
  }
 },
 "nbformat": 4,
 "nbformat_minor": 5
}

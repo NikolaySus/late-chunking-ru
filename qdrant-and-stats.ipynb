{
 "cells": [
  {
   "cell_type": "markdown",
   "id": "1ccdd36c-74d6-4d09-8c13-73f97b88d6bc",
   "metadata": {},
   "source": [
    "# Load to qdrant"
   ]
  },
  {
   "cell_type": "code",
   "execution_count": 1,
   "id": "6d08bc96-41a8-4189-b3a3-22fe2c60bf98",
   "metadata": {},
   "outputs": [],
   "source": [
    "from qdrant_client import QdrantClient, models\n",
    "import pandas as pd\n",
    "import numpy as np\n",
    "import os"
   ]
  },
  {
   "cell_type": "code",
   "execution_count": 2,
   "id": "c361d53b-5642-4b43-9fff-8ead7086bc87",
   "metadata": {},
   "outputs": [
    {
     "data": {
      "text/plain": [
       "<qdrant_client.qdrant_client.QdrantClient at 0x1b49ad10590>"
      ]
     },
     "execution_count": 2,
     "metadata": {},
     "output_type": "execute_result"
    }
   ],
   "source": [
    "client = QdrantClient(url=\"http://localhost:6333\")\n",
    "client"
   ]
  },
  {
   "cell_type": "code",
   "execution_count": 3,
   "id": "38d8ee43-2a9c-4929-8bc5-8976d5728815",
   "metadata": {},
   "outputs": [
    {
     "data": {
      "text/plain": [
       "'C:\\\\Users\\\\gorku\\\\Documents\\\\bmstu\\\\RAG24\\\\late-chunking-ru'"
      ]
     },
     "execution_count": 3,
     "metadata": {},
     "output_type": "execute_result"
    }
   ],
   "source": [
    "basePath = os.path.abspath('')\n",
    "basePath"
   ]
  },
  {
   "cell_type": "code",
   "execution_count": 6,
   "id": "787ca34e-362c-4f11-925c-b2fb2eaa11c3",
   "metadata": {},
   "outputs": [
    {
     "data": {
      "text/plain": [
       "True"
      ]
     },
     "execution_count": 6,
     "metadata": {},
     "output_type": "execute_result"
    }
   ],
   "source": [
    "client.create_collection(\n",
    "    collection_name=\"{chunks_embedded_trad}\",\n",
    "    vectors_config=models.VectorParams(size=1024, distance=models.Distance.COSINE, on_disk=True),\n",
    "    on_disk_payload=True,\n",
    "    optimizers_config=models.OptimizersConfigDiff(\n",
    "        indexing_threshold=0,\n",
    "    ),\n",
    ")"
   ]
  },
  {
   "cell_type": "code",
   "execution_count": 28,
   "id": "e70686a3-34ff-4763-8a61-4e5d5561bb67",
   "metadata": {},
   "outputs": [
    {
     "data": {
      "text/plain": [
       "True"
      ]
     },
     "execution_count": 28,
     "metadata": {},
     "output_type": "execute_result"
    }
   ],
   "source": [
    "'''\n",
    "client.create_collection(\n",
    "    collection_name=\"{chunks_embedded_new}\",\n",
    "    vectors_config=VectorParams(size=1024, distance=Distance.COSINE, on_disk=True),\n",
    "    on_disk_payload=True,\n",
    "    optimizers_config=models.OptimizersConfigDiff(\n",
    "        indexing_threshold=0,\n",
    "    ),\n",
    ")\n",
    "'''"
   ]
  },
  {
   "cell_type": "code",
   "execution_count": 5,
   "id": "f836b336-8631-48dc-b614-7a785826d3d7",
   "metadata": {},
   "outputs": [
    {
     "data": {
      "text/plain": [
       "True"
      ]
     },
     "execution_count": 5,
     "metadata": {},
     "output_type": "execute_result"
    }
   ],
   "source": [
    "client.delete_collection(collection_name=\"{chunks_embedded_trad}\")"
   ]
  },
  {
   "cell_type": "code",
   "execution_count": 7,
   "id": "04cd1695-b616-4e94-9fa1-e8f080418dd4",
   "metadata": {},
   "outputs": [],
   "source": [
    "chunks_embedded_n = pd.read_pickle(basePath + \"\\\\ai-forever-ria-news-retrieval\\\\chunks_embedded_0.pkl\")"
   ]
  },
  {
   "cell_type": "code",
   "execution_count": 8,
   "id": "80e20c23-f8cd-4e24-92a8-6d073754030f",
   "metadata": {},
   "outputs": [
    {
     "data": {
      "text/html": [
       "<div>\n",
       "<style scoped>\n",
       "    .dataframe tbody tr th:only-of-type {\n",
       "        vertical-align: middle;\n",
       "    }\n",
       "\n",
       "    .dataframe tbody tr th {\n",
       "        vertical-align: top;\n",
       "    }\n",
       "\n",
       "    .dataframe thead th {\n",
       "        text-align: right;\n",
       "    }\n",
       "</style>\n",
       "<table border=\"1\" class=\"dataframe\">\n",
       "  <thead>\n",
       "    <tr style=\"text-align: right;\">\n",
       "      <th></th>\n",
       "      <th>chunk</th>\n",
       "      <th>trad_chunk_embedding</th>\n",
       "      <th>new_chunk_embedding</th>\n",
       "      <th>doc_id</th>\n",
       "    </tr>\n",
       "  </thead>\n",
       "  <tbody>\n",
       "    <tr>\n",
       "      <th>0</th>\n",
       "      <td>премьер-министр украины, кандидат в президенты...</td>\n",
       "      <td>[0.005897517, -0.027958157, -0.02522486, 0.033...</td>\n",
       "      <td>[-0.20117188, -0.83984375, -0.80859375, 1.0156...</td>\n",
       "      <td>0</td>\n",
       "    </tr>\n",
       "    <tr>\n",
       "      <th>1</th>\n",
       "      <td>17 января в украине состоялся первый тур выб...</td>\n",
       "      <td>[0.06695399, -0.112217665, -0.07667681, 0.0784...</td>\n",
       "      <td>[0.20800781, -0.90234375, -1.1796875, 1.140625...</td>\n",
       "      <td>0</td>\n",
       "    </tr>\n",
       "    <tr>\n",
       "      <th>2</th>\n",
       "      <td>второй тур выборов президента украины состои...</td>\n",
       "      <td>[0.034322843, -0.07454268, -0.03999842, 0.0665...</td>\n",
       "      <td>[0.41210938, -0.9140625, -0.6796875, 1.21875, ...</td>\n",
       "      <td>0</td>\n",
       "    </tr>\n",
       "    <tr>\n",
       "      <th>3</th>\n",
       "      <td>парламент украины по инициативе партии регион...</td>\n",
       "      <td>[-0.011248906, -0.03999717, -0.08579018, 0.054...</td>\n",
       "      <td>[-0.013244629, -0.84765625, -1.1015625, 1.0703...</td>\n",
       "      <td>0</td>\n",
       "    </tr>\n",
       "    <tr>\n",
       "      <th>4</th>\n",
       "      <td>министра.</td>\n",
       "      <td>[0.03110334, -0.14622205, 0.027806075, 0.01278...</td>\n",
       "      <td>[-0.12207031, -1.2265625, -1.3203125, 0.714843...</td>\n",
       "      <td>0</td>\n",
       "    </tr>\n",
       "  </tbody>\n",
       "</table>\n",
       "</div>"
      ],
      "text/plain": [
       "                                               chunk  \\\n",
       "0  премьер-министр украины, кандидат в президенты...   \n",
       "1   17 января в украине состоялся первый тур выб...   \n",
       "2   второй тур выборов президента украины состои...   \n",
       "3   парламент украины по инициативе партии регион...   \n",
       "4                                          министра.   \n",
       "\n",
       "                                trad_chunk_embedding  \\\n",
       "0  [0.005897517, -0.027958157, -0.02522486, 0.033...   \n",
       "1  [0.06695399, -0.112217665, -0.07667681, 0.0784...   \n",
       "2  [0.034322843, -0.07454268, -0.03999842, 0.0665...   \n",
       "3  [-0.011248906, -0.03999717, -0.08579018, 0.054...   \n",
       "4  [0.03110334, -0.14622205, 0.027806075, 0.01278...   \n",
       "\n",
       "                                 new_chunk_embedding doc_id  \n",
       "0  [-0.20117188, -0.83984375, -0.80859375, 1.0156...      0  \n",
       "1  [0.20800781, -0.90234375, -1.1796875, 1.140625...      0  \n",
       "2  [0.41210938, -0.9140625, -0.6796875, 1.21875, ...      0  \n",
       "3  [-0.013244629, -0.84765625, -1.1015625, 1.0703...      0  \n",
       "4  [-0.12207031, -1.2265625, -1.3203125, 0.714843...      0  "
      ]
     },
     "execution_count": 8,
     "metadata": {},
     "output_type": "execute_result"
    }
   ],
   "source": [
    "chunks_embedded_n.head()"
   ]
  },
  {
   "cell_type": "code",
   "execution_count": 9,
   "id": "a59f8aa8-6a65-4661-9119-11085bb9274f",
   "metadata": {},
   "outputs": [
    {
     "data": {
      "text/plain": [
       "CollectionInfo(status=<CollectionStatus.GREEN: 'green'>, optimizer_status=<OptimizersStatusOneOf.OK: 'ok'>, vectors_count=None, indexed_vectors_count=0, points_count=0, segments_count=8, config=CollectionConfig(params=CollectionParams(vectors=VectorParams(size=1024, distance=<Distance.COSINE: 'Cosine'>, hnsw_config=None, quantization_config=None, on_disk=True, datatype=None, multivector_config=None), shard_number=1, sharding_method=None, replication_factor=1, write_consistency_factor=1, read_fan_out_factor=None, on_disk_payload=True, sparse_vectors=None), hnsw_config=HnswConfig(m=16, ef_construct=100, full_scan_threshold=10000, max_indexing_threads=0, on_disk=False, payload_m=None), optimizer_config=OptimizersConfig(deleted_threshold=0.2, vacuum_min_vector_number=1000, default_segment_number=0, max_segment_size=None, memmap_threshold=None, indexing_threshold=0, flush_interval_sec=5, max_optimization_threads=None), wal_config=WalConfig(wal_capacity_mb=32, wal_segments_ahead=0), quantization_config=None), payload_schema={})"
      ]
     },
     "execution_count": 9,
     "metadata": {},
     "output_type": "execute_result"
    }
   ],
   "source": [
    "client.get_collection(collection_name=\"{chunks_embedded_trad}\")"
   ]
  },
  {
   "cell_type": "code",
   "execution_count": null,
   "id": "eb14e226-87b2-4e1d-b140-939a9ecac472",
   "metadata": {},
   "outputs": [],
   "source": [
    "operation_info = client.upsert(\n",
    "    collection_name=\"{chunks_embedded_trad}\",\n",
    "    wait=True,\n",
    "    points=[\n",
    "        models.PointStruct(\n",
    "            id=id, vector=row['trad_chunk_embedding'], payload={\"chunk\": row['chunk'], \"doc_id\": row['doc_id']}\n",
    "        ) for id, row in chunks_embedded_n.iterrows()\n",
    "    ],\n",
    ")\n",
    "\n",
    "print(operation_info)"
   ]
  },
  {
   "cell_type": "code",
   "execution_count": null,
   "id": "c6afc598-d4f0-4343-8660-985479771b7a",
   "metadata": {},
   "outputs": [],
   "source": [
    "client.close()"
   ]
  },
  {
   "cell_type": "code",
   "execution_count": null,
   "id": "8b61bb50-2359-4687-b120-387c232f1147",
   "metadata": {},
   "outputs": [],
   "source": []
  },
  {
   "cell_type": "code",
   "execution_count": null,
   "id": "d2166904-025d-4ee1-a9f7-10834c1f734e",
   "metadata": {},
   "outputs": [],
   "source": [
    "client.update_collection(\n",
    "    collection_name=\"{chunks_embedded_trad}\",\n",
    "    optimizer_config=models.OptimizersConfigDiff(indexing_threshold=20000),\n",
    ")"
   ]
  },
  {
   "cell_type": "code",
   "execution_count": null,
   "id": "9cf1fccf-9edd-45fa-b1cb-0ca321d32a9f",
   "metadata": {},
   "outputs": [],
   "source": [
    "client.update_collection(\n",
    "    collection_name=\"{chunks_embedded_new}\",\n",
    "    optimizer_config=models.OptimizersConfigDiff(indexing_threshold=20000),\n",
    ")"
   ]
  },
  {
   "cell_type": "code",
   "execution_count": null,
   "id": "b5232ce5-1afc-4c67-8687-216e7f0e81d4",
   "metadata": {},
   "outputs": [],
   "source": []
  },
  {
   "cell_type": "code",
   "execution_count": null,
   "id": "701351a7-d990-4c43-ac70-d7e2fc1a1b24",
   "metadata": {},
   "outputs": [],
   "source": []
  },
  {
   "cell_type": "code",
   "execution_count": null,
   "id": "587c2d4a-e37d-4fc3-9a03-ea7613aca8a7",
   "metadata": {},
   "outputs": [],
   "source": [
    "'''\n",
    "client.create_collection(\n",
    "    collection_name=\"{chunks_embedded}\",\n",
    "    sparse_vectors={\n",
    "        \"text\": models.SparseVectorIndexParams(\n",
    "            index=models.SparseVectorIndexType(\n",
    "                on_disk=False,\n",
    "            ),\n",
    "        ),\n",
    "    },\n",
    ")\n",
    "'''"
   ]
  },
  {
   "cell_type": "code",
   "execution_count": null,
   "id": "a6c69626-9f6a-459f-b652-f3ae928ec79c",
   "metadata": {},
   "outputs": [],
   "source": [
    "queries = pd.read_json(basePath + \"\\\\ai-forever-ria-news-retrieval\\\\queries.jsonl\", lines=True)\n",
    "corpus = pd.read_json(basePath + \"\\\\ai-forever-ria-news-retrieval\\\\corpus.jsonl\", lines=True)\n",
    "test = pd.read_json(basePath + \"\\\\ai-forever-ria-news-retrieval\\\\test.jsonl\", lines=True)\n",
    "del corpus['title']\n",
    "del test['score']"
   ]
  },
  {
   "cell_type": "code",
   "execution_count": null,
   "id": "b157e143-4bb0-4892-9774-077a2da494d9",
   "metadata": {},
   "outputs": [],
   "source": [
    "chunked_corpus  = np.array_split(corpus, 22) # Пусть у нас 5179 компьютер, сольём первые два из них для примера"
   ]
  },
  {
   "cell_type": "code",
   "execution_count": null,
   "id": "1e30a6c6-c121-492d-a84a-18e28a00ee0f",
   "metadata": {},
   "outputs": [],
   "source": [
    "cos_sim = lambda x, y: np.dot(x, y) / (np.linalg.norm(x) * np.linalg.norm(y))\n"
   ]
  }
 ],
 "metadata": {
  "kernelspec": {
   "display_name": "Python 3 (ipykernel)",
   "language": "python",
   "name": "python3"
  },
  "language_info": {
   "codemirror_mode": {
    "name": "ipython",
    "version": 3
   },
   "file_extension": ".py",
   "mimetype": "text/x-python",
   "name": "python",
   "nbconvert_exporter": "python",
   "pygments_lexer": "ipython3",
   "version": "3.12.7"
  }
 },
 "nbformat": 4,
 "nbformat_minor": 5
}

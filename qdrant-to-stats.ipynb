{
 "cells": [
  {
   "cell_type": "code",
   "execution_count": 1,
   "metadata": {},
   "outputs": [],
   "source": [
    "from qdrant_client import QdrantClient, models\n",
    "import pandas as pd\n",
    "import numpy as np\n",
    "import os\n",
    "import math"
   ]
  },
  {
   "cell_type": "code",
   "execution_count": 2,
   "metadata": {},
   "outputs": [
    {
     "data": {
      "text/plain": [
       "'C:\\\\Users\\\\gorku\\\\Documents\\\\bmstu\\\\RAG24\\\\late-chunking-ru'"
      ]
     },
     "execution_count": 2,
     "metadata": {},
     "output_type": "execute_result"
    }
   ],
   "source": [
    "basePath = os.path.abspath('')\n",
    "basePath"
   ]
  },
  {
   "cell_type": "markdown",
   "metadata": {},
   "source": [
    "### Первым делом узнаем лидера среди документов по количеству чанков, чтобы гарантировать правильный выбор количества чанков при поиске (это документ из 58 чанков)"
   ]
  },
  {
   "cell_type": "code",
   "execution_count": 3,
   "metadata": {},
   "outputs": [
    {
     "name": "stdout",
     "output_type": "stream",
     "text": [
      "doc_id 819 count is 42\n",
      "doc_id 42280 count is 50\n",
      "doc_id 66659 count is 58\n",
      "doc_id 126237 count is 36\n",
      "doc_id 134092 count is 32\n",
      "doc_id 163645 count is 48\n",
      "doc_id 197224 count is 36\n",
      "doc_id 230948 count is 30\n",
      "doc_id 284447 count is 32\n",
      "doc_id 310520 count is 54\n",
      "doc_id 341400 count is 31\n",
      "doc_id 361347 count is 43\n",
      "doc_id 393814 count is 36\n",
      "doc_id 420280 count is 27\n",
      "doc_id 448765 count is 41\n",
      "doc_id 499702 count is 49\n",
      "doc_id 513972 count is 25\n",
      "doc_id 563343 count is 40\n",
      "doc_id 578147 count is 25\n",
      "doc_id 627485 count is 37\n",
      "doc_id 657075 count is 33\n",
      "doc_id 701816 count is 30\n",
      "CPU times: total: 3min\n",
      "Wall time: 4min 58s\n"
     ]
    }
   ],
   "source": [
    "%%time\n",
    "last_idx = 0\n",
    "for i in range(22):\n",
    "    chunks_embedded_n = pd.read_pickle(basePath + \"\\\\ai-forever-ria-news-retrieval\\\\chunks_embedded_\"+str(i)+\".pkl\")\n",
    "    values, counts = np.unique(chunks_embedded_n['doc_id'], return_counts=True)\n",
    "    ind = np.argmax(counts)\n",
    "    print(f\"doc_id {values[ind]} count is {counts[ind]}\")\n",
    "    del chunks_embedded_n"
   ]
  },
  {
   "cell_type": "markdown",
   "metadata": {},
   "source": [
    "### Итак, чтобы гарантировать верность рассчёта метрик поиска по документам при k=5, гарантированно достаточно искать 5*58=290 чанков при отбрасывании повторных значений документа-источника чанка"
   ]
  },
  {
   "cell_type": "code",
   "execution_count": 4,
   "metadata": {},
   "outputs": [
    {
     "data": {
      "text/plain": [
       "<qdrant_client.qdrant_client.QdrantClient at 0x1bd437ad010>"
      ]
     },
     "execution_count": 4,
     "metadata": {},
     "output_type": "execute_result"
    }
   ],
   "source": [
    "client = QdrantClient(url=\"http://localhost:6333\", prefer_grpc=True)\n",
    "client"
   ]
  },
  {
   "cell_type": "code",
   "execution_count": 5,
   "metadata": {},
   "outputs": [
    {
     "data": {
      "text/plain": [
       "CollectionInfo(status=<CollectionStatus.GREEN: 'green'>, optimizer_status=<OptimizersStatusOneOf.OK: 'ok'>, vectors_count=None, indexed_vectors_count=5518911, points_count=5518911, segments_count=17, config=CollectionConfig(params=CollectionParams(vectors=VectorParams(size=1024, distance=<Distance.COSINE: 'Cosine'>, hnsw_config=None, quantization_config=None, on_disk=True, datatype=None, multivector_config=None), shard_number=1, sharding_method=None, replication_factor=1, write_consistency_factor=1, read_fan_out_factor=None, on_disk_payload=True, sparse_vectors=None), hnsw_config=HnswConfig(m=16, ef_construct=100, full_scan_threshold=10000, max_indexing_threads=0, on_disk=False, payload_m=None), optimizer_config=OptimizersConfig(deleted_threshold=0.2, vacuum_min_vector_number=1000, default_segment_number=0, max_segment_size=None, memmap_threshold=None, indexing_threshold=20000, flush_interval_sec=5, max_optimization_threads=None), wal_config=WalConfig(wal_capacity_mb=32, wal_segments_ahead=0), quantization_config=None), payload_schema={})"
      ]
     },
     "execution_count": 5,
     "metadata": {},
     "output_type": "execute_result"
    }
   ],
   "source": [
    "client.get_collection(collection_name=\"{chunks_embedded_trad}\")"
   ]
  },
  {
   "cell_type": "code",
   "execution_count": 6,
   "metadata": {},
   "outputs": [
    {
     "data": {
      "text/plain": [
       "CollectionInfo(status=<CollectionStatus.GREEN: 'green'>, optimizer_status=<OptimizersStatusOneOf.OK: 'ok'>, vectors_count=None, indexed_vectors_count=5518911, points_count=5518911, segments_count=16, config=CollectionConfig(params=CollectionParams(vectors=VectorParams(size=1024, distance=<Distance.COSINE: 'Cosine'>, hnsw_config=None, quantization_config=None, on_disk=True, datatype=None, multivector_config=None), shard_number=1, sharding_method=None, replication_factor=1, write_consistency_factor=1, read_fan_out_factor=None, on_disk_payload=True, sparse_vectors=None), hnsw_config=HnswConfig(m=16, ef_construct=100, full_scan_threshold=10000, max_indexing_threads=0, on_disk=False, payload_m=None), optimizer_config=OptimizersConfig(deleted_threshold=0.2, vacuum_min_vector_number=1000, default_segment_number=0, max_segment_size=None, memmap_threshold=None, indexing_threshold=20000, flush_interval_sec=5, max_optimization_threads=None), wal_config=WalConfig(wal_capacity_mb=32, wal_segments_ahead=0), quantization_config=None), payload_schema={})"
      ]
     },
     "execution_count": 6,
     "metadata": {},
     "output_type": "execute_result"
    }
   ],
   "source": [
    "client.get_collection(collection_name=\"{chunks_embedded_new}\")"
   ]
  },
  {
   "cell_type": "code",
   "execution_count": 7,
   "metadata": {},
   "outputs": [],
   "source": [
    "queries_embedded = pd.read_pickle(basePath + \"\\\\ai-forever-ria-news-retrieval\\\\queries_embedded.pkl\")\n",
    "test = pd.read_json(basePath + \"\\\\ai-forever-ria-news-retrieval\\\\test.jsonl\", lines=True)\n",
    "del test['score']"
   ]
  },
  {
   "cell_type": "code",
   "execution_count": 8,
   "metadata": {},
   "outputs": [
    {
     "data": {
      "text/html": [
       "<div>\n",
       "<style scoped>\n",
       "    .dataframe tbody tr th:only-of-type {\n",
       "        vertical-align: middle;\n",
       "    }\n",
       "\n",
       "    .dataframe tbody tr th {\n",
       "        vertical-align: top;\n",
       "    }\n",
       "\n",
       "    .dataframe thead th {\n",
       "        text-align: right;\n",
       "    }\n",
       "</style>\n",
       "<table border=\"1\" class=\"dataframe\">\n",
       "  <thead>\n",
       "    <tr style=\"text-align: right;\">\n",
       "      <th></th>\n",
       "      <th>query-id</th>\n",
       "      <th>corpus-id</th>\n",
       "    </tr>\n",
       "  </thead>\n",
       "  <tbody>\n",
       "    <tr>\n",
       "      <th>0</th>\n",
       "      <td>0</td>\n",
       "      <td>670487</td>\n",
       "    </tr>\n",
       "    <tr>\n",
       "      <th>1</th>\n",
       "      <td>1</td>\n",
       "      <td>116739</td>\n",
       "    </tr>\n",
       "    <tr>\n",
       "      <th>2</th>\n",
       "      <td>2</td>\n",
       "      <td>26225</td>\n",
       "    </tr>\n",
       "    <tr>\n",
       "      <th>3</th>\n",
       "      <td>3</td>\n",
       "      <td>288389</td>\n",
       "    </tr>\n",
       "    <tr>\n",
       "      <th>4</th>\n",
       "      <td>4</td>\n",
       "      <td>256787</td>\n",
       "    </tr>\n",
       "  </tbody>\n",
       "</table>\n",
       "</div>"
      ],
      "text/plain": [
       "   query-id  corpus-id\n",
       "0         0     670487\n",
       "1         1     116739\n",
       "2         2      26225\n",
       "3         3     288389\n",
       "4         4     256787"
      ]
     },
     "execution_count": 8,
     "metadata": {},
     "output_type": "execute_result"
    }
   ],
   "source": [
    "test.head()"
   ]
  },
  {
   "cell_type": "code",
   "execution_count": 9,
   "metadata": {},
   "outputs": [
    {
     "data": {
      "text/html": [
       "<div>\n",
       "<style scoped>\n",
       "    .dataframe tbody tr th:only-of-type {\n",
       "        vertical-align: middle;\n",
       "    }\n",
       "\n",
       "    .dataframe tbody tr th {\n",
       "        vertical-align: top;\n",
       "    }\n",
       "\n",
       "    .dataframe thead th {\n",
       "        text-align: right;\n",
       "    }\n",
       "</style>\n",
       "<table border=\"1\" class=\"dataframe\">\n",
       "  <thead>\n",
       "    <tr style=\"text-align: right;\">\n",
       "      <th></th>\n",
       "      <th>_id</th>\n",
       "      <th>text</th>\n",
       "      <th>embedding</th>\n",
       "    </tr>\n",
       "  </thead>\n",
       "  <tbody>\n",
       "    <tr>\n",
       "      <th>0</th>\n",
       "      <td>0</td>\n",
       "      <td>сми: планируется создание в рф несетевых магаз...</td>\n",
       "      <td>[-0.02244736, -0.028930796, 0.015104426, -0.03...</td>\n",
       "    </tr>\n",
       "    <tr>\n",
       "      <th>1</th>\n",
       "      <td>1</td>\n",
       "      <td>барулин сожалеет, что набокова нет на хоккейно...</td>\n",
       "      <td>[0.07624497, -0.14052229, -0.10188488, 0.03020...</td>\n",
       "    </tr>\n",
       "    <tr>\n",
       "      <th>2</th>\n",
       "      <td>2</td>\n",
       "      <td>британские куры забили насмерть лису, проникшу...</td>\n",
       "      <td>[-0.026123617, -0.019093627, 0.045364596, 0.03...</td>\n",
       "    </tr>\n",
       "    <tr>\n",
       "      <th>3</th>\n",
       "      <td>3</td>\n",
       "      <td>путин: сотрудники овд получат выплаты на приоб...</td>\n",
       "      <td>[-0.050970174, -0.03160782, 0.018168373, 0.026...</td>\n",
       "    </tr>\n",
       "    <tr>\n",
       "      <th>4</th>\n",
       "      <td>4</td>\n",
       "      <td>футболист \"зенита\" данни пропустит стыковые иг...</td>\n",
       "      <td>[0.017085163, -0.15103693, -0.11232578, -0.019...</td>\n",
       "    </tr>\n",
       "  </tbody>\n",
       "</table>\n",
       "</div>"
      ],
      "text/plain": [
       "   _id                                               text  \\\n",
       "0    0  сми: планируется создание в рф несетевых магаз...   \n",
       "1    1  барулин сожалеет, что набокова нет на хоккейно...   \n",
       "2    2  британские куры забили насмерть лису, проникшу...   \n",
       "3    3  путин: сотрудники овд получат выплаты на приоб...   \n",
       "4    4  футболист \"зенита\" данни пропустит стыковые иг...   \n",
       "\n",
       "                                           embedding  \n",
       "0  [-0.02244736, -0.028930796, 0.015104426, -0.03...  \n",
       "1  [0.07624497, -0.14052229, -0.10188488, 0.03020...  \n",
       "2  [-0.026123617, -0.019093627, 0.045364596, 0.03...  \n",
       "3  [-0.050970174, -0.03160782, 0.018168373, 0.026...  \n",
       "4  [0.017085163, -0.15103693, -0.11232578, -0.019...  "
      ]
     },
     "execution_count": 9,
     "metadata": {},
     "output_type": "execute_result"
    }
   ],
   "source": [
    "queries_embedded.head()"
   ]
  },
  {
   "cell_type": "code",
   "execution_count": 10,
   "metadata": {},
   "outputs": [],
   "source": [
    "for i, row in test.iterrows():\n",
    "    if row['query-id'] != i:\n",
    "        print(\"Error 1!\")\n",
    "\n",
    "for i, row in queries_embedded.iterrows():\n",
    "    if row['_id'] != i:\n",
    "        print(\"Error 2!\")"
   ]
  },
  {
   "cell_type": "code",
   "execution_count": 11,
   "metadata": {},
   "outputs": [],
   "source": [
    "def ordered_unique(lst):\n",
    "    p = np.unique(lst, return_index=True)\n",
    "    return p[0][np.argsort(p[1])]\n",
    "\n",
    "def get_top_k_docs_by_id(k, id, collections, chunck_k):\n",
    "    q = queries_embedded.iloc[id]['embedding']\n",
    "    return [ordered_unique([i.payload['doc_id'] for i in client.query_points(\n",
    "                collection_name=collection,\n",
    "                query=q,\n",
    "                limit=chunck_k\n",
    "            ).points])[:k] for collection in collections]\n",
    "\n",
    "def get_true_rel_by_id(id):\n",
    "    return test.iloc[id]['corpus-id']\n",
    "\n",
    "def get_top_k_rel_by_id(k, id, collections, chunck_k):\n",
    "    true_search_result = get_true_rel_by_id(id)\n",
    "    tops = get_top_k_docs_by_id(k, id, collections, chunck_k)\n",
    "    return [(top == true_search_result).astype(int) for top in tops]\n",
    "\n",
    "def DCG_K(rel, k):\n",
    "    res = 0\n",
    "    for i in range(1, k + 1):\n",
    "        res += rel[i-1] / math.log2(1 + i)\n",
    "    return res\n",
    "\n",
    "def NDCG_K(rel, k):\n",
    "    dcg = DCG_K(rel, k)\n",
    "    rel_sorted = rel.copy();\n",
    "    rel_sorted[::-1].sort()\n",
    "    idcg = DCG_K(rel_sorted, k)\n",
    "    if idcg == 0:\n",
    "        return 0\n",
    "    return dcg / idcg\n",
    "\n",
    "def AP_K(rel, k):\n",
    "    res = 0\n",
    "    n = 0\n",
    "    for i in range(1, k + 1):\n",
    "        n += rel[i-1]\n",
    "        res += n * rel[i-1] / i\n",
    "    if n == 0:\n",
    "        return 0\n",
    "    return res / n"
   ]
  },
  {
   "cell_type": "code",
   "execution_count": 12,
   "metadata": {},
   "outputs": [],
   "source": [
    "k = 5\n",
    "chunck_k = 290\n",
    "collections = [\"{chunks_embedded_trad}\", \"{chunks_embedded_new}\"]"
   ]
  },
  {
   "cell_type": "code",
   "execution_count": 14,
   "metadata": {},
   "outputs": [
    {
     "name": "stdout",
     "output_type": "stream",
     "text": [
      "{chunks_embedded_trad}\n",
      "\tMNDCG_K=0.6870302533259881\n",
      "\tMAP_K=0.6542466666666595\n",
      "{chunks_embedded_new}\n",
      "\tMNDCG_K=0.8500745753240168\n",
      "\tMAP_K=0.8270649999999947\n",
      "CPU times: total: 3min 58s\n",
      "Wall time: 8h 4min 52s\n"
     ]
    }
   ],
   "source": [
    "%%time\n",
    "ndcg_sum = [0] * len(collections)\n",
    "ap_sum = [0] * len(collections)\n",
    "test_size = test.shape[0]\n",
    "for i in range(test_size):\n",
    "    rel = get_top_k_rel_by_id(k, i, collections, chunck_k)\n",
    "    for j in range(len(collections)):\n",
    "        ndcg_sum[j] += NDCG_K(rel[j], k)\n",
    "        ap_sum[j] += AP_K(rel[j], k)\n",
    "\n",
    "for j in range(len(collections)):\n",
    "    print(f\"{collections[j]}\\n\\tMNDCG_K={ndcg_sum[j] / test_size}\\n\\tMAP_K={ap_sum[j] / test_size}\")"
   ]
  },
  {
   "cell_type": "code",
   "execution_count": 15,
   "metadata": {},
   "outputs": [],
   "source": [
    "client.close()"
   ]
  },
  {
   "cell_type": "code",
   "execution_count": null,
   "metadata": {},
   "outputs": [],
   "source": []
  }
 ],
 "metadata": {
  "colab": {
   "provenance": []
  },
  "kernelspec": {
   "display_name": "Python 3 (ipykernel)",
   "language": "python",
   "name": "python3"
  },
  "language_info": {
   "codemirror_mode": {
    "name": "ipython",
    "version": 3
   },
   "file_extension": ".py",
   "mimetype": "text/x-python",
   "name": "python",
   "nbconvert_exporter": "python",
   "pygments_lexer": "ipython3",
   "version": "3.12.7"
  }
 },
 "nbformat": 4,
 "nbformat_minor": 4
}
